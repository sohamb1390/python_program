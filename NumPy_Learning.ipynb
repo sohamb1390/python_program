{
  "nbformat": 4,
  "nbformat_minor": 0,
  "metadata": {
    "colab": {
      "name": "NumPy.ipynb",
      "provenance": [],
      "collapsed_sections": [
        "024FkrUVmR61",
        "CWplabaQfJKF",
        "v6ReFVleZ4_p"
      ],
      "machine_shape": "hm",
      "authorship_tag": "ABX9TyPb3pgqP0LAmU2WFTpmvR53",
      "include_colab_link": true
    },
    "kernelspec": {
      "name": "python3",
      "display_name": "Python 3"
    }
  },
  "cells": [
    {
      "cell_type": "markdown",
      "metadata": {
        "id": "view-in-github",
        "colab_type": "text"
      },
      "source": [
        "<a href=\"https://colab.research.google.com/github/subhajitmajumder/python_program/blob/master/NumPy_Learning.ipynb\" target=\"_parent\"><img src=\"https://colab.research.google.com/assets/colab-badge.svg\" alt=\"Open In Colab\"/></a>"
      ]
    },
    {
      "cell_type": "code",
      "metadata": {
        "id": "IpHgMnXfmL4w",
        "colab_type": "code",
        "colab": {}
      },
      "source": [
        "import numpy as np"
      ],
      "execution_count": 0,
      "outputs": []
    },
    {
      "cell_type": "markdown",
      "metadata": {
        "id": "024FkrUVmR61",
        "colab_type": "text"
      },
      "source": [
        "# Working with list and compare time for diffrent coding style."
      ]
    },
    {
      "cell_type": "code",
      "metadata": {
        "id": "273upD1imbPF",
        "colab_type": "code",
        "outputId": "1d0fdb58-bd4b-4a75-eabe-da2875aedd8c",
        "colab": {
          "base_uri": "https://localhost:8080/",
          "height": 51
        }
      },
      "source": [
        "%%time\n",
        "N = 100000000\n",
        "list_ = list(range(N))\n",
        "for i in range(N):\n",
        "  list_[i] = list_[i] * list_[i]"
      ],
      "execution_count": 0,
      "outputs": [
        {
          "output_type": "stream",
          "text": [
            "CPU times: user 19.3 s, sys: 2.58 s, total: 21.9 s\n",
            "Wall time: 22 s\n"
          ],
          "name": "stdout"
        }
      ]
    },
    {
      "cell_type": "code",
      "metadata": {
        "id": "JD6yLZsQm2j-",
        "colab_type": "code",
        "outputId": "3db4933e-abd2-4b90-d87c-7c2425d6bd2b",
        "colab": {
          "base_uri": "https://localhost:8080/",
          "height": 51
        }
      },
      "source": [
        "%%time\n",
        "list_ = list(range(N))\n",
        "list_ = [item * item for item in list_]"
      ],
      "execution_count": 0,
      "outputs": [
        {
          "output_type": "stream",
          "text": [
            "CPU times: user 9.06 s, sys: 5 s, total: 14.1 s\n",
            "Wall time: 14.1 s\n"
          ],
          "name": "stdout"
        }
      ]
    },
    {
      "cell_type": "code",
      "metadata": {
        "id": "SfDBgaCnp59-",
        "colab_type": "code",
        "outputId": "c5f05eef-9c26-4bd7-8452-39dda93224a8",
        "colab": {
          "base_uri": "https://localhost:8080/",
          "height": 51
        }
      },
      "source": [
        "%%time\n",
        "list_ = list(range(N))\n",
        "list_ = map(lambda x: x * x, list_)"
      ],
      "execution_count": 0,
      "outputs": [
        {
          "output_type": "stream",
          "text": [
            "CPU times: user 2.37 s, sys: 1.48 s, total: 3.85 s\n",
            "Wall time: 3.83 s\n"
          ],
          "name": "stdout"
        }
      ]
    },
    {
      "cell_type": "markdown",
      "metadata": {
        "id": "cbbBl5Suw1Ol",
        "colab_type": "text"
      },
      "source": [
        "####Add all numbers in a list\n"
      ]
    },
    {
      "cell_type": "code",
      "metadata": {
        "id": "LOnHwdkKqMhC",
        "colab_type": "code",
        "outputId": "af8c6caa-0eb3-4466-e3fc-6cbff7c26fcd",
        "colab": {
          "base_uri": "https://localhost:8080/",
          "height": 51
        }
      },
      "source": [
        "%%time\n",
        "list_ = list(range(N))\n",
        "list_sum = 0\n",
        "for item in list_:\n",
        "  list_sum += item"
      ],
      "execution_count": 0,
      "outputs": [
        {
          "output_type": "stream",
          "text": [
            "CPU times: user 11.7 s, sys: 1.49 s, total: 13.2 s\n",
            "Wall time: 13.2 s\n"
          ],
          "name": "stdout"
        }
      ]
    },
    {
      "cell_type": "code",
      "metadata": {
        "id": "T2lP1hYTdVCG",
        "colab_type": "code",
        "outputId": "d4776b14-1d23-4c09-d0df-6bb8720f374c",
        "colab": {
          "base_uri": "https://localhost:8080/",
          "height": 51
        }
      },
      "source": [
        "%%time\n",
        "list_ = list(range(N))\n",
        "list_sum = sum(list_)"
      ],
      "execution_count": 0,
      "outputs": [
        {
          "output_type": "stream",
          "text": [
            "CPU times: user 2.97 s, sys: 1.5 s, total: 4.47 s\n",
            "Wall time: 4.46 s\n"
          ],
          "name": "stdout"
        }
      ]
    },
    {
      "cell_type": "code",
      "metadata": {
        "id": "wJTDLBZY_g5d",
        "colab_type": "code",
        "outputId": "ad9a6ecf-7506-493b-e783-919e468fa0d5",
        "colab": {
          "base_uri": "https://localhost:8080/",
          "height": 51
        }
      },
      "source": [
        "%%time\n",
        "arr = np.arange(N)\n",
        "arr = arr * arr"
      ],
      "execution_count": 0,
      "outputs": [
        {
          "output_type": "stream",
          "text": [
            "CPU times: user 394 ms, sys: 12.6 ms, total: 407 ms\n",
            "Wall time: 423 ms\n"
          ],
          "name": "stdout"
        }
      ]
    },
    {
      "cell_type": "code",
      "metadata": {
        "id": "S7sRwh2_AxW5",
        "colab_type": "code",
        "outputId": "cb4bca3c-e5ee-49a9-e134-8f645a0ab63d",
        "colab": {
          "base_uri": "https://localhost:8080/",
          "height": 51
        }
      },
      "source": [
        "%%time\n",
        "arr = np.arange(N)\n",
        "arr_sum = np.sum(arr)"
      ],
      "execution_count": 0,
      "outputs": [
        {
          "output_type": "stream",
          "text": [
            "CPU times: user 288 ms, sys: 8.32 ms, total: 296 ms\n",
            "Wall time: 299 ms\n"
          ],
          "name": "stdout"
        }
      ]
    },
    {
      "cell_type": "code",
      "metadata": {
        "id": "zM32tKVRR2qm",
        "colab_type": "code",
        "outputId": "99956b85-3170-49ca-c59c-000cdb1b7a12",
        "colab": {
          "base_uri": "https://localhost:8080/",
          "height": 34
        }
      },
      "source": [
        "#We can create a list through numpy like this.\n",
        "arr = np.arange(5)\n",
        "print(arr)"
      ],
      "execution_count": 0,
      "outputs": [
        {
          "output_type": "stream",
          "text": [
            "[0 1 2 3 4]\n"
          ],
          "name": "stdout"
        }
      ]
    },
    {
      "cell_type": "code",
      "metadata": {
        "id": "YnmQOVJD4Wlc",
        "colab_type": "code",
        "outputId": "185b664f-3bf4-446b-c353-9a4551773b44",
        "colab": {
          "base_uri": "https://localhost:8080/",
          "height": 34
        }
      },
      "source": [
        "#Another way to create a list through numpy.\n",
        "arr = np.array([0,2,4,6,8])\n",
        "print(arr)"
      ],
      "execution_count": 0,
      "outputs": [
        {
          "output_type": "stream",
          "text": [
            "[0 2 4 6 8]\n"
          ],
          "name": "stdout"
        }
      ]
    },
    {
      "cell_type": "code",
      "metadata": {
        "id": "oGrb4qX74r84",
        "colab_type": "code",
        "outputId": "23cbfd03-d803-4eae-d013-fcd796e87494",
        "colab": {
          "base_uri": "https://localhost:8080/",
          "height": 34
        }
      },
      "source": [
        "#To show the datatype.\n",
        "arr.dtype"
      ],
      "execution_count": 0,
      "outputs": [
        {
          "output_type": "execute_result",
          "data": {
            "text/plain": [
              "dtype('int64')"
            ]
          },
          "metadata": {
            "tags": []
          },
          "execution_count": 12
        }
      ]
    },
    {
      "cell_type": "code",
      "metadata": {
        "id": "Q15TySo-DF2E",
        "colab_type": "code",
        "outputId": "fc1d2f36-83a0-4697-8479-7718f8129f35",
        "colab": {
          "base_uri": "https://localhost:8080/",
          "height": 34
        }
      },
      "source": [
        "#To know the dimension\n",
        "arr.ndim"
      ],
      "execution_count": 0,
      "outputs": [
        {
          "output_type": "execute_result",
          "data": {
            "text/plain": [
              "1"
            ]
          },
          "metadata": {
            "tags": []
          },
          "execution_count": 13
        }
      ]
    },
    {
      "cell_type": "code",
      "metadata": {
        "id": "ZEnYlPEVDT3I",
        "colab_type": "code",
        "outputId": "b55616ce-129b-4b01-b5f0-3a1e69ca005e",
        "colab": {
          "base_uri": "https://localhost:8080/",
          "height": 34
        }
      },
      "source": [
        "arr.shape"
      ],
      "execution_count": 0,
      "outputs": [
        {
          "output_type": "execute_result",
          "data": {
            "text/plain": [
              "(5,)"
            ]
          },
          "metadata": {
            "tags": []
          },
          "execution_count": 14
        }
      ]
    },
    {
      "cell_type": "code",
      "metadata": {
        "id": "km7FZBIsDVmr",
        "colab_type": "code",
        "outputId": "3d09d8a2-4e69-4ba0-cfde-0a0852555bbc",
        "colab": {
          "base_uri": "https://localhost:8080/",
          "height": 34
        }
      },
      "source": [
        "arr.size\n"
      ],
      "execution_count": 0,
      "outputs": [
        {
          "output_type": "execute_result",
          "data": {
            "text/plain": [
              "5"
            ]
          },
          "metadata": {
            "tags": []
          },
          "execution_count": 15
        }
      ]
    },
    {
      "cell_type": "code",
      "metadata": {
        "id": "9Jr9nM98H26z",
        "colab_type": "code",
        "outputId": "3dffe0c1-e9ea-4d9b-9ccc-4164d4899361",
        "colab": {
          "base_uri": "https://localhost:8080/",
          "height": 34
        }
      },
      "source": [
        "#itemsize is no. of bytes need to store one number.\n",
        "arr.itemsize"
      ],
      "execution_count": 0,
      "outputs": [
        {
          "output_type": "execute_result",
          "data": {
            "text/plain": [
              "8"
            ]
          },
          "metadata": {
            "tags": []
          },
          "execution_count": 16
        }
      ]
    },
    {
      "cell_type": "code",
      "metadata": {
        "id": "JY2XrSsIJS-G",
        "colab_type": "code",
        "colab": {}
      },
      "source": [
        "#Create 2D array\n",
        "arr2d = np.array([\n",
        "                  [1, 2, 3],\n",
        "                  [4, 5, 6]\n",
        "])"
      ],
      "execution_count": 0,
      "outputs": []
    },
    {
      "cell_type": "code",
      "metadata": {
        "id": "aF63yfDNKSKC",
        "colab_type": "code",
        "outputId": "2e0ef519-1c11-4d5e-e458-46c05438cb3a",
        "colab": {
          "base_uri": "https://localhost:8080/",
          "height": 51
        }
      },
      "source": [
        "arr2d"
      ],
      "execution_count": 0,
      "outputs": [
        {
          "output_type": "execute_result",
          "data": {
            "text/plain": [
              "array([[1, 2, 3],\n",
              "       [4, 5, 6]])"
            ]
          },
          "metadata": {
            "tags": []
          },
          "execution_count": 18
        }
      ]
    },
    {
      "cell_type": "code",
      "metadata": {
        "id": "bBzrZ-FQKTZE",
        "colab_type": "code",
        "outputId": "7babc6a4-3a7c-4a92-fd03-6f99dae6a310",
        "colab": {
          "base_uri": "https://localhost:8080/",
          "height": 34
        }
      },
      "source": [
        "arr2d.ndim"
      ],
      "execution_count": 0,
      "outputs": [
        {
          "output_type": "execute_result",
          "data": {
            "text/plain": [
              "2"
            ]
          },
          "metadata": {
            "tags": []
          },
          "execution_count": 19
        }
      ]
    },
    {
      "cell_type": "code",
      "metadata": {
        "id": "TuCO9M80K2wL",
        "colab_type": "code",
        "outputId": "1022127b-99d4-4baa-fd54-732b7086e837",
        "colab": {
          "base_uri": "https://localhost:8080/",
          "height": 34
        }
      },
      "source": [
        "arr2d.shape"
      ],
      "execution_count": 0,
      "outputs": [
        {
          "output_type": "execute_result",
          "data": {
            "text/plain": [
              "(2, 3)"
            ]
          },
          "metadata": {
            "tags": []
          },
          "execution_count": 20
        }
      ]
    },
    {
      "cell_type": "code",
      "metadata": {
        "id": "nqEHeNraK4pd",
        "colab_type": "code",
        "outputId": "505c6b9b-9c6c-4e96-9e3d-d45689376735",
        "colab": {
          "base_uri": "https://localhost:8080/",
          "height": 34
        }
      },
      "source": [
        "arr2d.size"
      ],
      "execution_count": 0,
      "outputs": [
        {
          "output_type": "execute_result",
          "data": {
            "text/plain": [
              "6"
            ]
          },
          "metadata": {
            "tags": []
          },
          "execution_count": 21
        }
      ]
    },
    {
      "cell_type": "code",
      "metadata": {
        "id": "s8RJ5ZYyK6eq",
        "colab_type": "code",
        "colab": {}
      },
      "source": [
        "#tow planes 3D array\n",
        "arr3d = np.array([\n",
        "                  [\n",
        "                   [1, 2, 3],\n",
        "                   [4, 5, 6]\n",
        "                  ],\n",
        "                  [\n",
        "                   [7, 8, 9],\n",
        "                   [10, 11, 12]\n",
        "                  ]\n",
        "])"
      ],
      "execution_count": 0,
      "outputs": []
    },
    {
      "cell_type": "code",
      "metadata": {
        "id": "fyvTGYo6MoA4",
        "colab_type": "code",
        "outputId": "9989e15a-fa77-4434-fdac-e421fb46d818",
        "colab": {
          "base_uri": "https://localhost:8080/",
          "height": 102
        }
      },
      "source": [
        "arr3d"
      ],
      "execution_count": 0,
      "outputs": [
        {
          "output_type": "execute_result",
          "data": {
            "text/plain": [
              "array([[[ 1,  2,  3],\n",
              "        [ 4,  5,  6]],\n",
              "\n",
              "       [[ 7,  8,  9],\n",
              "        [10, 11, 12]]])"
            ]
          },
          "metadata": {
            "tags": []
          },
          "execution_count": 23
        }
      ]
    },
    {
      "cell_type": "code",
      "metadata": {
        "id": "u7EyztlgMpJD",
        "colab_type": "code",
        "outputId": "67fbe6ab-4097-429d-d27a-3670758b5399",
        "colab": {
          "base_uri": "https://localhost:8080/",
          "height": 34
        }
      },
      "source": [
        "arr3d.shape"
      ],
      "execution_count": 0,
      "outputs": [
        {
          "output_type": "execute_result",
          "data": {
            "text/plain": [
              "(2, 2, 3)"
            ]
          },
          "metadata": {
            "tags": []
          },
          "execution_count": 24
        }
      ]
    },
    {
      "cell_type": "code",
      "metadata": {
        "id": "YCwde49NMue4",
        "colab_type": "code",
        "outputId": "b93aed89-2d87-459b-9aa9-256455ad230f",
        "colab": {
          "base_uri": "https://localhost:8080/",
          "height": 34
        }
      },
      "source": [
        "arr3d.ndim"
      ],
      "execution_count": 0,
      "outputs": [
        {
          "output_type": "execute_result",
          "data": {
            "text/plain": [
              "3"
            ]
          },
          "metadata": {
            "tags": []
          },
          "execution_count": 25
        }
      ]
    },
    {
      "cell_type": "code",
      "metadata": {
        "id": "GLQfTigKMwCg",
        "colab_type": "code",
        "outputId": "c69ecc41-8dbe-493f-f258-18323930795b",
        "colab": {
          "base_uri": "https://localhost:8080/",
          "height": 34
        }
      },
      "source": [
        "arr3d.size"
      ],
      "execution_count": 0,
      "outputs": [
        {
          "output_type": "execute_result",
          "data": {
            "text/plain": [
              "12"
            ]
          },
          "metadata": {
            "tags": []
          },
          "execution_count": 26
        }
      ]
    },
    {
      "cell_type": "code",
      "metadata": {
        "id": "KuWGDQQDMziA",
        "colab_type": "code",
        "outputId": "7e822c54-1e5b-4616-e80d-e05c5b727d08",
        "colab": {
          "base_uri": "https://localhost:8080/",
          "height": 68
        }
      },
      "source": [
        "#We can create n array with constant value.\n",
        " np.ones((3, 4))"
      ],
      "execution_count": 0,
      "outputs": [
        {
          "output_type": "execute_result",
          "data": {
            "text/plain": [
              "array([[1., 1., 1., 1.],\n",
              "       [1., 1., 1., 1.],\n",
              "       [1., 1., 1., 1.]])"
            ]
          },
          "metadata": {
            "tags": []
          },
          "execution_count": 27
        }
      ]
    },
    {
      "cell_type": "code",
      "metadata": {
        "id": "vMCyGrmENiJn",
        "colab_type": "code",
        "outputId": "f79e9237-2dab-4fb3-aedd-4c9dcb47c1e5",
        "colab": {
          "base_uri": "https://localhost:8080/",
          "height": 136
        }
      },
      "source": [
        "np.ones((2, 3, 4))"
      ],
      "execution_count": 0,
      "outputs": [
        {
          "output_type": "execute_result",
          "data": {
            "text/plain": [
              "array([[[1., 1., 1., 1.],\n",
              "        [1., 1., 1., 1.],\n",
              "        [1., 1., 1., 1.]],\n",
              "\n",
              "       [[1., 1., 1., 1.],\n",
              "        [1., 1., 1., 1.],\n",
              "        [1., 1., 1., 1.]]])"
            ]
          },
          "metadata": {
            "tags": []
          },
          "execution_count": 28
        }
      ]
    },
    {
      "cell_type": "code",
      "metadata": {
        "id": "9U3e4sKLNnAT",
        "colab_type": "code",
        "outputId": "3483d953-502a-4ebc-e802-f28c591a0149",
        "colab": {
          "base_uri": "https://localhost:8080/",
          "height": 136
        }
      },
      "source": [
        "#To create different values.\n",
        "990 * np.ones((2, 3, 4))"
      ],
      "execution_count": 0,
      "outputs": [
        {
          "output_type": "execute_result",
          "data": {
            "text/plain": [
              "array([[[990., 990., 990., 990.],\n",
              "        [990., 990., 990., 990.],\n",
              "        [990., 990., 990., 990.]],\n",
              "\n",
              "       [[990., 990., 990., 990.],\n",
              "        [990., 990., 990., 990.],\n",
              "        [990., 990., 990., 990.]]])"
            ]
          },
          "metadata": {
            "tags": []
          },
          "execution_count": 29
        }
      ]
    },
    {
      "cell_type": "code",
      "metadata": {
        "id": "5WIA-oq5N57N",
        "colab_type": "code",
        "outputId": "acaa3f06-505d-408c-db66-a5fc426b49f4",
        "colab": {
          "base_uri": "https://localhost:8080/",
          "height": 136
        }
      },
      "source": [
        "#We can create all the values zeros\n",
        "np.zeros((2, 3, 4))"
      ],
      "execution_count": 0,
      "outputs": [
        {
          "output_type": "execute_result",
          "data": {
            "text/plain": [
              "array([[[0., 0., 0., 0.],\n",
              "        [0., 0., 0., 0.],\n",
              "        [0., 0., 0., 0.]],\n",
              "\n",
              "       [[0., 0., 0., 0.],\n",
              "        [0., 0., 0., 0.],\n",
              "        [0., 0., 0., 0.]]])"
            ]
          },
          "metadata": {
            "tags": []
          },
          "execution_count": 30
        }
      ]
    },
    {
      "cell_type": "markdown",
      "metadata": {
        "id": "jgebZXx3Pbwx",
        "colab_type": "text"
      },
      "source": [
        "#### Actually we need to create random data so that we can experiment different functionalities."
      ]
    },
    {
      "cell_type": "code",
      "metadata": {
        "id": "5W8AeTe1OHKL",
        "colab_type": "code",
        "outputId": "2abc9087-21ad-4fcc-aef7-4a808a44208f",
        "colab": {
          "base_uri": "https://localhost:8080/",
          "height": 51
        }
      },
      "source": [
        "#Create random data\n",
        "np.random.randn(2, 3) #Normal Distribution"
      ],
      "execution_count": 0,
      "outputs": [
        {
          "output_type": "execute_result",
          "data": {
            "text/plain": [
              "array([[ 0.22484937,  0.13555232, -0.42613144],\n",
              "       [-1.29543732,  1.76495356,  1.14630117]])"
            ]
          },
          "metadata": {
            "tags": []
          },
          "execution_count": 31
        }
      ]
    },
    {
      "cell_type": "code",
      "metadata": {
        "id": "z168xSXsXRGE",
        "colab_type": "code",
        "outputId": "ba07f1a8-5fb6-46dc-97c5-6aae72c00004",
        "colab": {
          "base_uri": "https://localhost:8080/",
          "height": 51
        }
      },
      "source": [
        "#Uniformly sampled random numbers between 0 and 1\n",
        "np.random.rand(2, 3)"
      ],
      "execution_count": 0,
      "outputs": [
        {
          "output_type": "execute_result",
          "data": {
            "text/plain": [
              "array([[0.57175821, 0.90100133, 0.45757177],\n",
              "       [0.88121239, 0.77993348, 0.34283797]])"
            ]
          },
          "metadata": {
            "tags": []
          },
          "execution_count": 32
        }
      ]
    },
    {
      "cell_type": "code",
      "metadata": {
        "id": "AVRNLuxbXi4q",
        "colab_type": "code",
        "outputId": "c0455da3-45b8-484c-bf02-3e6b708b5de7",
        "colab": {
          "base_uri": "https://localhost:8080/",
          "height": 187
        }
      },
      "source": [
        "np.random.rand(10, 1)"
      ],
      "execution_count": 0,
      "outputs": [
        {
          "output_type": "execute_result",
          "data": {
            "text/plain": [
              "array([[0.96479207],\n",
              "       [0.23626871],\n",
              "       [0.76714407],\n",
              "       [0.61070056],\n",
              "       [0.05562545],\n",
              "       [0.09671016],\n",
              "       [0.76345877],\n",
              "       [0.6733095 ],\n",
              "       [0.64874222],\n",
              "       [0.96921206]])"
            ]
          },
          "metadata": {
            "tags": []
          },
          "execution_count": 33
        }
      ]
    },
    {
      "cell_type": "code",
      "metadata": {
        "id": "XBuwiW1XXtfJ",
        "colab_type": "code",
        "outputId": "6eb2bb86-0089-4567-e450-ef531655a7fa",
        "colab": {
          "base_uri": "https://localhost:8080/",
          "height": 51
        }
      },
      "source": [
        "#random integers between two numbers.\n",
        "np.random.randint(0, 100, (2, 3))"
      ],
      "execution_count": 0,
      "outputs": [
        {
          "output_type": "execute_result",
          "data": {
            "text/plain": [
              "array([[75, 56, 14],\n",
              "       [97, 67, 96]])"
            ]
          },
          "metadata": {
            "tags": []
          },
          "execution_count": 34
        }
      ]
    },
    {
      "cell_type": "code",
      "metadata": {
        "id": "GItLeXSAZmSj",
        "colab_type": "code",
        "outputId": "4c02f002-9882-4a72-fa3b-812b418657a7",
        "colab": {
          "base_uri": "https://localhost:8080/",
          "height": 34
        }
      },
      "source": [
        "#integers between two numbers with step size.\n",
        "np.arange(7, 71, 7)"
      ],
      "execution_count": 0,
      "outputs": [
        {
          "output_type": "execute_result",
          "data": {
            "text/plain": [
              "array([ 7, 14, 21, 28, 35, 42, 49, 56, 63, 70])"
            ]
          },
          "metadata": {
            "tags": []
          },
          "execution_count": 35
        }
      ]
    },
    {
      "cell_type": "code",
      "metadata": {
        "id": "iv7On3aaabjw",
        "colab_type": "code",
        "outputId": "b457f04a-a0e3-4eb7-a2fa-831bc24004f0",
        "colab": {
          "base_uri": "https://localhost:8080/",
          "height": 34
        }
      },
      "source": [
        "# integers between two numbers with selected spaces.\n",
        "np.linspace(7, 70, 10)"
      ],
      "execution_count": 0,
      "outputs": [
        {
          "output_type": "execute_result",
          "data": {
            "text/plain": [
              "array([ 7., 14., 21., 28., 35., 42., 49., 56., 63., 70.])"
            ]
          },
          "metadata": {
            "tags": []
          },
          "execution_count": 36
        }
      ]
    },
    {
      "cell_type": "code",
      "metadata": {
        "id": "049CnWSvbds-",
        "colab_type": "code",
        "outputId": "31161575-9e9c-4c5b-a6eb-0d908b17ace9",
        "colab": {
          "base_uri": "https://localhost:8080/",
          "height": 34
        }
      },
      "source": [
        "#Creating arrays of other dtypes.\n",
        "np.array([True, False, True, False])"
      ],
      "execution_count": 0,
      "outputs": [
        {
          "output_type": "execute_result",
          "data": {
            "text/plain": [
              "array([ True, False,  True, False])"
            ]
          },
          "metadata": {
            "tags": []
          },
          "execution_count": 37
        }
      ]
    },
    {
      "cell_type": "code",
      "metadata": {
        "id": "PQ9P1iw4cFlO",
        "colab_type": "code",
        "outputId": "8d5e9b4d-439f-4480-ccdd-834e842ec7b4",
        "colab": {
          "base_uri": "https://localhost:8080/",
          "height": 34
        }
      },
      "source": [
        " np.array(['2.5', 'subhajit', 'rob', '4.8'])"
      ],
      "execution_count": 0,
      "outputs": [
        {
          "output_type": "execute_result",
          "data": {
            "text/plain": [
              "array(['2.5', 'subhajit', 'rob', '4.8'], dtype='<U8')"
            ]
          },
          "metadata": {
            "tags": []
          },
          "execution_count": 38
        }
      ]
    },
    {
      "cell_type": "code",
      "metadata": {
        "id": "EfebKtwccXPn",
        "colab_type": "code",
        "outputId": "e57bddda-7a23-4338-b147-887c9665c986",
        "colab": {
          "base_uri": "https://localhost:8080/",
          "height": 34
        }
      },
      "source": [
        "#Convert a string to float.\n",
        "str_arr = np.array(['2.5', '3.5', '1.3'])\n",
        "arr = np.array(str_arr, dtype='float')\n",
        "arr"
      ],
      "execution_count": 0,
      "outputs": [
        {
          "output_type": "execute_result",
          "data": {
            "text/plain": [
              "array([2.5, 3.5, 1.3])"
            ]
          },
          "metadata": {
            "tags": []
          },
          "execution_count": 39
        }
      ]
    },
    {
      "cell_type": "markdown",
      "metadata": {
        "id": "_RRCno1cOaEJ",
        "colab_type": "text"
      },
      "source": [
        "### Numpy Oerations"
      ]
    },
    {
      "cell_type": "code",
      "metadata": {
        "id": "kiPHvsKAc780",
        "colab_type": "code",
        "colab": {}
      },
      "source": [
        "arr1 = np.random.rand(3, 4)\n",
        "arr2 = np.random.rand(3, 4)"
      ],
      "execution_count": 0,
      "outputs": []
    },
    {
      "cell_type": "code",
      "metadata": {
        "id": "UgOWiK42O31X",
        "colab_type": "code",
        "outputId": "07c4f4f1-a8a9-48cc-ec88-57d217b8adf0",
        "colab": {
          "base_uri": "https://localhost:8080/",
          "height": 68
        }
      },
      "source": [
        "arr1"
      ],
      "execution_count": 0,
      "outputs": [
        {
          "output_type": "execute_result",
          "data": {
            "text/plain": [
              "array([[0.65422855, 0.7314319 , 0.16871506, 0.13715512],\n",
              "       [0.86855555, 0.27239641, 0.3398476 , 0.07465505],\n",
              "       [0.40280518, 0.59807562, 0.75063905, 0.28890579]])"
            ]
          },
          "metadata": {
            "tags": []
          },
          "execution_count": 41
        }
      ]
    },
    {
      "cell_type": "code",
      "metadata": {
        "id": "LvoEyNwoO5Jk",
        "colab_type": "code",
        "outputId": "23ffd164-20d5-4711-b62d-9346eef86717",
        "colab": {
          "base_uri": "https://localhost:8080/",
          "height": 68
        }
      },
      "source": [
        "arr2"
      ],
      "execution_count": 0,
      "outputs": [
        {
          "output_type": "execute_result",
          "data": {
            "text/plain": [
              "array([[0.2957776 , 0.56233709, 0.07582681, 0.02224136],\n",
              "       [0.47273652, 0.6301707 , 0.17022233, 0.13807333],\n",
              "       [0.15612429, 0.81898801, 0.37546166, 0.66318077]])"
            ]
          },
          "metadata": {
            "tags": []
          },
          "execution_count": 42
        }
      ]
    },
    {
      "cell_type": "code",
      "metadata": {
        "id": "BUXXUqz0O58a",
        "colab_type": "code",
        "outputId": "95bef087-9e6c-4ed8-a1dd-589eb0ab5a80",
        "colab": {
          "base_uri": "https://localhost:8080/",
          "height": 68
        }
      },
      "source": [
        "arr1 + arr2"
      ],
      "execution_count": 0,
      "outputs": [
        {
          "output_type": "execute_result",
          "data": {
            "text/plain": [
              "array([[0.95000614, 1.29376899, 0.24454187, 0.15939648],\n",
              "       [1.34129207, 0.9025671 , 0.51006994, 0.21272838],\n",
              "       [0.55892947, 1.41706363, 1.12610071, 0.95208656]])"
            ]
          },
          "metadata": {
            "tags": []
          },
          "execution_count": 43
        }
      ]
    },
    {
      "cell_type": "code",
      "metadata": {
        "id": "AuhcQ1KvO7zH",
        "colab_type": "code",
        "outputId": "50dcd90c-c408-4b1d-c5d7-19f735fcde45",
        "colab": {
          "base_uri": "https://localhost:8080/",
          "height": 68
        }
      },
      "source": [
        "arr1 - arr2"
      ],
      "execution_count": 0,
      "outputs": [
        {
          "output_type": "execute_result",
          "data": {
            "text/plain": [
              "array([[ 0.35845095,  0.16909481,  0.09288825,  0.11491376],\n",
              "       [ 0.39581903, -0.35777429,  0.16962527, -0.06341828],\n",
              "       [ 0.24668089, -0.2209124 ,  0.3751774 , -0.37427498]])"
            ]
          },
          "metadata": {
            "tags": []
          },
          "execution_count": 44
        }
      ]
    },
    {
      "cell_type": "code",
      "metadata": {
        "id": "8ka4vuNRPCNi",
        "colab_type": "code",
        "outputId": "8e353ed8-24d6-4b55-ced8-b9ef63e5b109",
        "colab": {
          "base_uri": "https://localhost:8080/",
          "height": 68
        }
      },
      "source": [
        "arr1 * arr2"
      ],
      "execution_count": 0,
      "outputs": [
        {
          "output_type": "execute_result",
          "data": {
            "text/plain": [
              "array([[0.19350615, 0.41131128, 0.01279313, 0.00305052],\n",
              "       [0.41059793, 0.17165623, 0.05784965, 0.01030787],\n",
              "       [0.06288767, 0.48981676, 0.28183618, 0.19159676]])"
            ]
          },
          "metadata": {
            "tags": []
          },
          "execution_count": 45
        }
      ]
    },
    {
      "cell_type": "code",
      "metadata": {
        "id": "KidkU2SDPD6d",
        "colab_type": "code",
        "outputId": "3241681c-229a-4389-896e-990525dddbb7",
        "colab": {
          "base_uri": "https://localhost:8080/",
          "height": 68
        }
      },
      "source": [
        "arr1/arr2"
      ],
      "execution_count": 0,
      "outputs": [
        {
          "output_type": "execute_result",
          "data": {
            "text/plain": [
              "array([[2.21189351, 1.30070008, 2.22500533, 6.16666982],\n",
              "       [1.83729311, 0.43225813, 1.99649242, 0.54069129],\n",
              "       [2.58002889, 0.73026175, 1.9992429 , 0.43563656]])"
            ]
          },
          "metadata": {
            "tags": []
          },
          "execution_count": 46
        }
      ]
    },
    {
      "cell_type": "code",
      "metadata": {
        "id": "QH-yDRpCPG6i",
        "colab_type": "code",
        "outputId": "6cd325e7-cab2-45a3-f138-f2f726913024",
        "colab": {
          "base_uri": "https://localhost:8080/",
          "height": 68
        }
      },
      "source": [
        "#Exponentiation\n",
        "np.exp(arr1)"
      ],
      "execution_count": 0,
      "outputs": [
        {
          "output_type": "execute_result",
          "data": {
            "text/plain": [
              "array([[1.92365793, 2.07805404, 1.18378278, 1.14700606],\n",
              "       [2.38346557, 1.31310742, 1.40473349, 1.0775124 ],\n",
              "       [1.49601541, 1.81861572, 2.11835333, 1.33496595]])"
            ]
          },
          "metadata": {
            "tags": []
          },
          "execution_count": 47
        }
      ]
    },
    {
      "cell_type": "code",
      "metadata": {
        "id": "79XpoZpcPNDi",
        "colab_type": "code",
        "outputId": "b44eee0b-ea61-4bfc-85f6-b6d60a0684a5",
        "colab": {
          "base_uri": "https://localhost:8080/",
          "height": 68
        }
      },
      "source": [
        "#Logarithm\n",
        "np.log(arr1)"
      ],
      "execution_count": 0,
      "outputs": [
        {
          "output_type": "execute_result",
          "data": {
            "text/plain": [
              "array([[-0.42429853, -0.31275116, -1.77954402, -1.98664271],\n",
              "       [-0.14092374, -1.3004969 , -1.07925799, -2.59487712],\n",
              "       [-0.90930225, -0.51403808, -0.28683036, -1.24165464]])"
            ]
          },
          "metadata": {
            "tags": []
          },
          "execution_count": 48
        }
      ]
    },
    {
      "cell_type": "code",
      "metadata": {
        "id": "obwdX5QTPbVp",
        "colab_type": "code",
        "outputId": "975f06e7-961a-4781-e540-0aaa2d227d60",
        "colab": {
          "base_uri": "https://localhost:8080/",
          "height": 68
        }
      },
      "source": [
        "#Sine Function\n",
        "np.sin(arr1)"
      ],
      "execution_count": 0,
      "outputs": [
        {
          "output_type": "execute_result",
          "data": {
            "text/plain": [
              "array([[0.60854726, 0.66793596, 0.16791579, 0.13672551],\n",
              "       [0.76339672, 0.26904025, 0.33334341, 0.07458572],\n",
              "       [0.39200055, 0.56305317, 0.68210621, 0.28490353]])"
            ]
          },
          "metadata": {
            "tags": []
          },
          "execution_count": 49
        }
      ]
    },
    {
      "cell_type": "code",
      "metadata": {
        "id": "WAkSa-lzPiRk",
        "colab_type": "code",
        "outputId": "2c54750b-9fef-4a59-b6ed-fd8ffefd6e15",
        "colab": {
          "base_uri": "https://localhost:8080/",
          "height": 68
        }
      },
      "source": [
        "#Cosine Function\n",
        "np.cos(arr1)"
      ],
      "execution_count": 0,
      "outputs": [
        {
          "output_type": "execute_result",
          "data": {
            "text/plain": [
              "array([[0.79351763, 0.74421875, 0.98580134, 0.99060897],\n",
              "       [0.64592991, 0.96312893, 0.94280548, 0.99721461],\n",
              "       [0.91996498, 0.82642067, 0.73125312, 0.95855619]])"
            ]
          },
          "metadata": {
            "tags": []
          },
          "execution_count": 50
        }
      ]
    },
    {
      "cell_type": "code",
      "metadata": {
        "id": "8VV0Ar4EPqd4",
        "colab_type": "code",
        "outputId": "ce8ef170-500f-4b12-ae9e-ab2b2538dc8f",
        "colab": {
          "base_uri": "https://localhost:8080/",
          "height": 68
        }
      },
      "source": [
        "#Square root\n",
        "np.sqrt(arr1)"
      ],
      "execution_count": 0,
      "outputs": [
        {
          "output_type": "execute_result",
          "data": {
            "text/plain": [
              "array([[0.80884396, 0.85523792, 0.41074939, 0.3703446 ],\n",
              "       [0.93196328, 0.52191609, 0.58296449, 0.27323076],\n",
              "       [0.63466935, 0.77335349, 0.86639428, 0.53749957]])"
            ]
          },
          "metadata": {
            "tags": []
          },
          "execution_count": 51
        }
      ]
    },
    {
      "cell_type": "code",
      "metadata": {
        "id": "Ok3Zt5hKP3hW",
        "colab_type": "code",
        "outputId": "e351dc2c-1815-40a9-a942-f680ac062b8f",
        "colab": {
          "base_uri": "https://localhost:8080/",
          "height": 68
        }
      },
      "source": [
        "#Inverse Function\n",
        "arr_inv = 1 / arr1\n",
        "arr_inv"
      ],
      "execution_count": 0,
      "outputs": [
        {
          "output_type": "execute_result",
          "data": {
            "text/plain": [
              "array([[ 1.52851783,  1.36718129,  5.92715316,  7.29101456],\n",
              "       [ 1.15133684,  3.67112039,  2.94249539, 13.39494134],\n",
              "       [ 2.48258971,  1.67202937,  1.3321982 ,  3.46133598]])"
            ]
          },
          "metadata": {
            "tags": []
          },
          "execution_count": 52
        }
      ]
    },
    {
      "cell_type": "code",
      "metadata": {
        "id": "a4aGDm4xRNFz",
        "colab_type": "code",
        "colab": {}
      },
      "source": [
        "arr3 = np.zeros((3, 5))"
      ],
      "execution_count": 0,
      "outputs": []
    },
    {
      "cell_type": "code",
      "metadata": {
        "id": "u8vDNHAuVIFI",
        "colab_type": "code",
        "outputId": "8796f12a-9b50-4cea-eda2-a3adc959d153",
        "colab": {
          "base_uri": "https://localhost:8080/",
          "height": 122
        }
      },
      "source": [
        "arr3_inv = 1/arr3\n",
        "arr3_inv"
      ],
      "execution_count": 0,
      "outputs": [
        {
          "output_type": "stream",
          "text": [
            "/usr/local/lib/python3.6/dist-packages/ipykernel_launcher.py:1: RuntimeWarning: divide by zero encountered in true_divide\n",
            "  \"\"\"Entry point for launching an IPython kernel.\n"
          ],
          "name": "stderr"
        },
        {
          "output_type": "execute_result",
          "data": {
            "text/plain": [
              "array([[inf, inf, inf, inf, inf],\n",
              "       [inf, inf, inf, inf, inf],\n",
              "       [inf, inf, inf, inf, inf]])"
            ]
          },
          "metadata": {
            "tags": []
          },
          "execution_count": 54
        }
      ]
    },
    {
      "cell_type": "code",
      "metadata": {
        "id": "PTgya8nuVQWs",
        "colab_type": "code",
        "outputId": "81e19a8a-46eb-4c2e-ad75-727fb25073ed",
        "colab": {
          "base_uri": "https://localhost:8080/",
          "height": 68
        }
      },
      "source": [
        "#Checking all the values are infinity or not\n",
        "np.isinf(arr3_inv)"
      ],
      "execution_count": 0,
      "outputs": [
        {
          "output_type": "execute_result",
          "data": {
            "text/plain": [
              "array([[ True,  True,  True,  True,  True],\n",
              "       [ True,  True,  True,  True,  True],\n",
              "       [ True,  True,  True,  True,  True]])"
            ]
          },
          "metadata": {
            "tags": []
          },
          "execution_count": 55
        }
      ]
    },
    {
      "cell_type": "markdown",
      "metadata": {
        "id": "LqNJZjJpb9oJ",
        "colab_type": "text"
      },
      "source": [
        "### Indexing"
      ]
    },
    {
      "cell_type": "code",
      "metadata": {
        "id": "ICyEKVB1VkB9",
        "colab_type": "code",
        "colab": {}
      },
      "source": [
        "arr3d = np.array([\n",
        "                  [\n",
        "                   [1, 2, 3],\n",
        "                  [4, 5, 6]\n",
        "                   ],\n",
        "                  [\n",
        "                   [7, 8, 9],\n",
        "                   [10, 11, 12]\n",
        "                  ]\n",
        "])"
      ],
      "execution_count": 0,
      "outputs": []
    },
    {
      "cell_type": "code",
      "metadata": {
        "id": "7ZEUb4AkcVYh",
        "colab_type": "code",
        "outputId": "77fdfa63-3a4f-4fb6-a2e5-b0f64d7d9a8c",
        "colab": {
          "base_uri": "https://localhost:8080/",
          "height": 102
        }
      },
      "source": [
        "arr3d"
      ],
      "execution_count": 0,
      "outputs": [
        {
          "output_type": "execute_result",
          "data": {
            "text/plain": [
              "array([[[ 1,  2,  3],\n",
              "        [ 4,  5,  6]],\n",
              "\n",
              "       [[ 7,  8,  9],\n",
              "        [10, 11, 12]]])"
            ]
          },
          "metadata": {
            "tags": []
          },
          "execution_count": 57
        }
      ]
    },
    {
      "cell_type": "code",
      "metadata": {
        "id": "OaLEPLThcZLp",
        "colab_type": "code",
        "outputId": "5cac9a9b-bd4b-40c9-8917-c3d7ae15db17",
        "colab": {
          "base_uri": "https://localhost:8080/",
          "height": 34
        }
      },
      "source": [
        "#Indexing a cell in the 3D array.\n",
        "arr3d[1, 0, 0]"
      ],
      "execution_count": 0,
      "outputs": [
        {
          "output_type": "execute_result",
          "data": {
            "text/plain": [
              "7"
            ]
          },
          "metadata": {
            "tags": []
          },
          "execution_count": 58
        }
      ]
    },
    {
      "cell_type": "code",
      "metadata": {
        "id": "SjK9R8UUcnLw",
        "colab_type": "code",
        "outputId": "aeeaedc2-f6fb-461e-cae3-278965bc9f36",
        "colab": {
          "base_uri": "https://localhost:8080/",
          "height": 51
        }
      },
      "source": [
        "#Slicing a 3D array\n",
        "arr3d[0, :, :]"
      ],
      "execution_count": 0,
      "outputs": [
        {
          "output_type": "execute_result",
          "data": {
            "text/plain": [
              "array([[1, 2, 3],\n",
              "       [4, 5, 6]])"
            ]
          },
          "metadata": {
            "tags": []
          },
          "execution_count": 59
        }
      ]
    },
    {
      "cell_type": "code",
      "metadata": {
        "id": "l8KYKF2wdKpw",
        "colab_type": "code",
        "outputId": "249f30b1-d507-4e3a-d152-827c4cfb1f41",
        "colab": {
          "base_uri": "https://localhost:8080/",
          "height": 51
        }
      },
      "source": [
        "arr3d[:, 1, :]"
      ],
      "execution_count": 0,
      "outputs": [
        {
          "output_type": "execute_result",
          "data": {
            "text/plain": [
              "array([[ 4,  5,  6],\n",
              "       [10, 11, 12]])"
            ]
          },
          "metadata": {
            "tags": []
          },
          "execution_count": 60
        }
      ]
    },
    {
      "cell_type": "markdown",
      "metadata": {
        "id": "M4Urt6jedpYR",
        "colab_type": "text"
      },
      "source": [
        "In the case of slicing whichever is the value after colon, python takes the value previous to the last value"
      ]
    },
    {
      "cell_type": "code",
      "metadata": {
        "id": "-ZvhoNs6dYd8",
        "colab_type": "code",
        "outputId": "6394a706-643c-48fd-bebd-813ee94daa87",
        "colab": {
          "base_uri": "https://localhost:8080/",
          "height": 102
        }
      },
      "source": [
        "arr3d[:, :, 0:2]"
      ],
      "execution_count": 0,
      "outputs": [
        {
          "output_type": "execute_result",
          "data": {
            "text/plain": [
              "array([[[ 1,  2],\n",
              "        [ 4,  5]],\n",
              "\n",
              "       [[ 7,  8],\n",
              "        [10, 11]]])"
            ]
          },
          "metadata": {
            "tags": []
          },
          "execution_count": 61
        }
      ]
    },
    {
      "cell_type": "markdown",
      "metadata": {
        "id": "qgE_sSSpeAvM",
        "colab_type": "text"
      },
      "source": [
        "In the above case 0:2 means from 0th column except 2nd column.."
      ]
    },
    {
      "cell_type": "markdown",
      "metadata": {
        "id": "1XG3_iNvf6C7",
        "colab_type": "text"
      },
      "source": [
        "We can choose indices with our preferrable values in the array.\n",
        "Say, we neeed to choose those indices where the values are even.We can do it very efficiently using NumPy.\n",
        "In the example below, it will actually show the boolean values."
      ]
    },
    {
      "cell_type": "code",
      "metadata": {
        "id": "ysi-hPFqd-Ka",
        "colab_type": "code",
        "outputId": "e11cacf6-2050-4700-d0e8-9ad72dabb830",
        "colab": {
          "base_uri": "https://localhost:8080/",
          "height": 102
        }
      },
      "source": [
        "arr3d % 2 == 0"
      ],
      "execution_count": 0,
      "outputs": [
        {
          "output_type": "execute_result",
          "data": {
            "text/plain": [
              "array([[[False,  True, False],\n",
              "        [ True, False,  True]],\n",
              "\n",
              "       [[False,  True, False],\n",
              "        [ True, False,  True]]])"
            ]
          },
          "metadata": {
            "tags": []
          },
          "execution_count": 62
        }
      ]
    },
    {
      "cell_type": "markdown",
      "metadata": {
        "id": "C3YDNrEPhS-x",
        "colab_type": "text"
      },
      "source": [
        "Also we can get the values of all values of our desireable preferances."
      ]
    },
    {
      "cell_type": "code",
      "metadata": {
        "id": "PW5mb2VYg-y1",
        "colab_type": "code",
        "outputId": "6dad2456-889c-4f22-d5c5-2ad1b7822177",
        "colab": {
          "base_uri": "https://localhost:8080/",
          "height": 34
        }
      },
      "source": [
        "arr3d[arr3d % 2 == 0] #Get a 1D array"
      ],
      "execution_count": 0,
      "outputs": [
        {
          "output_type": "execute_result",
          "data": {
            "text/plain": [
              "array([ 2,  4,  6,  8, 10, 12])"
            ]
          },
          "metadata": {
            "tags": []
          },
          "execution_count": 63
        }
      ]
    },
    {
      "cell_type": "markdown",
      "metadata": {
        "id": "eoZXoPTEiytn",
        "colab_type": "text"
      },
      "source": [
        "Also e can take multiple conditions"
      ]
    },
    {
      "cell_type": "code",
      "metadata": {
        "id": "IlLrj7OjhfJi",
        "colab_type": "code",
        "outputId": "81eccaa8-4ac0-4c31-95a5-c94311296b17",
        "colab": {
          "base_uri": "https://localhost:8080/",
          "height": 34
        }
      },
      "source": [
        "arr3d[(arr3d % 2 == 1) & (arr3d > 3)]"
      ],
      "execution_count": 0,
      "outputs": [
        {
          "output_type": "execute_result",
          "data": {
            "text/plain": [
              "array([ 5,  7,  9, 11])"
            ]
          },
          "metadata": {
            "tags": []
          },
          "execution_count": 64
        }
      ]
    },
    {
      "cell_type": "code",
      "metadata": {
        "id": "VZhOmYkqi-Lg",
        "colab_type": "code",
        "colab": {}
      },
      "source": [
        "arr_slice = arr3d[:, :, 0:2]"
      ],
      "execution_count": 0,
      "outputs": []
    },
    {
      "cell_type": "code",
      "metadata": {
        "id": "gs_VxEcvnpQT",
        "colab_type": "code",
        "outputId": "e959e3b3-b352-4e38-8b80-739d14081593",
        "colab": {
          "base_uri": "https://localhost:8080/",
          "height": 34
        }
      },
      "source": [
        "print(type(arr_slice))"
      ],
      "execution_count": 0,
      "outputs": [
        {
          "output_type": "stream",
          "text": [
            "<class 'numpy.ndarray'>\n"
          ],
          "name": "stdout"
        }
      ]
    },
    {
      "cell_type": "code",
      "metadata": {
        "id": "BtMCgWa5nryY",
        "colab_type": "code",
        "outputId": "39c1282e-a0d5-460d-d086-71a1a4aa9d9b",
        "colab": {
          "base_uri": "https://localhost:8080/",
          "height": 34
        }
      },
      "source": [
        "arr_slice.ndim"
      ],
      "execution_count": 0,
      "outputs": [
        {
          "output_type": "execute_result",
          "data": {
            "text/plain": [
              "3"
            ]
          },
          "metadata": {
            "tags": []
          },
          "execution_count": 67
        }
      ]
    },
    {
      "cell_type": "code",
      "metadata": {
        "id": "QtFe95rPnunY",
        "colab_type": "code",
        "outputId": "eda8dd1b-c466-46d5-f851-f77c8a8f5c8d",
        "colab": {
          "base_uri": "https://localhost:8080/",
          "height": 34
        }
      },
      "source": [
        "arr_slice.shape"
      ],
      "execution_count": 0,
      "outputs": [
        {
          "output_type": "execute_result",
          "data": {
            "text/plain": [
              "(2, 2, 2)"
            ]
          },
          "metadata": {
            "tags": []
          },
          "execution_count": 68
        }
      ]
    },
    {
      "cell_type": "code",
      "metadata": {
        "id": "PKdGM77onxAQ",
        "colab_type": "code",
        "outputId": "7cc770a6-ccc1-4422-af6a-dab1bd2a6bd7",
        "colab": {
          "base_uri": "https://localhost:8080/",
          "height": 34
        }
      },
      "source": [
        "arr_slice[0, 0, 1]"
      ],
      "execution_count": 0,
      "outputs": [
        {
          "output_type": "execute_result",
          "data": {
            "text/plain": [
              "2"
            ]
          },
          "metadata": {
            "tags": []
          },
          "execution_count": 69
        }
      ]
    },
    {
      "cell_type": "code",
      "metadata": {
        "id": "IgJBPR4bMJmV",
        "colab_type": "code",
        "outputId": "45bbfcdb-1c75-4c27-9c63-70c4dc2282bc",
        "colab": {
          "base_uri": "https://localhost:8080/",
          "height": 102
        }
      },
      "source": [
        "#Change value in arr_slice\n",
        "arr_slice[0, 0, 0] = 1729\n",
        "arr_slice"
      ],
      "execution_count": 0,
      "outputs": [
        {
          "output_type": "execute_result",
          "data": {
            "text/plain": [
              "array([[[1729,    2],\n",
              "        [   4,    5]],\n",
              "\n",
              "       [[   7,    8],\n",
              "        [  10,   11]]])"
            ]
          },
          "metadata": {
            "tags": []
          },
          "execution_count": 70
        }
      ]
    },
    {
      "cell_type": "markdown",
      "metadata": {
        "id": "mHfsqesGOtky",
        "colab_type": "text"
      },
      "source": [
        "SO if we take a slice of original array and modify the slice then it will reflex the original array also."
      ]
    },
    {
      "cell_type": "code",
      "metadata": {
        "id": "rSA0J65gOgOg",
        "colab_type": "code",
        "outputId": "1ab7de50-8d15-41e4-a879-c09f2863ceef",
        "colab": {
          "base_uri": "https://localhost:8080/",
          "height": 102
        }
      },
      "source": [
        "arr3d"
      ],
      "execution_count": 0,
      "outputs": [
        {
          "output_type": "execute_result",
          "data": {
            "text/plain": [
              "array([[[1729,    2,    3],\n",
              "        [   4,    5,    6]],\n",
              "\n",
              "       [[   7,    8,    9],\n",
              "        [  10,   11,   12]]])"
            ]
          },
          "metadata": {
            "tags": []
          },
          "execution_count": 71
        }
      ]
    },
    {
      "cell_type": "markdown",
      "metadata": {
        "id": "k7ePfjC1P7RZ",
        "colab_type": "text"
      },
      "source": [
        "But if we copy the slice from the original array and then change some values of that sliced array, then the original array will remain unchanged."
      ]
    },
    {
      "cell_type": "code",
      "metadata": {
        "id": "MAWiIPzrOnHF",
        "colab_type": "code",
        "colab": {}
      },
      "source": [
        "arr_slice = np.copy(arr3d[:, :, 0:2])"
      ],
      "execution_count": 0,
      "outputs": []
    },
    {
      "cell_type": "code",
      "metadata": {
        "id": "wL62cPKPQZr9",
        "colab_type": "code",
        "colab": {}
      },
      "source": [
        "arr_slice[0, 0, 0] = 1"
      ],
      "execution_count": 0,
      "outputs": []
    },
    {
      "cell_type": "code",
      "metadata": {
        "id": "K61E8g_1QdZR",
        "colab_type": "code",
        "outputId": "c98f5ee6-26e4-45f7-a91c-cda5ca3dd6e7",
        "colab": {
          "base_uri": "https://localhost:8080/",
          "height": 102
        }
      },
      "source": [
        "arr_slice"
      ],
      "execution_count": 0,
      "outputs": [
        {
          "output_type": "execute_result",
          "data": {
            "text/plain": [
              "array([[[ 1,  2],\n",
              "        [ 4,  5]],\n",
              "\n",
              "       [[ 7,  8],\n",
              "        [10, 11]]])"
            ]
          },
          "metadata": {
            "tags": []
          },
          "execution_count": 74
        }
      ]
    },
    {
      "cell_type": "code",
      "metadata": {
        "id": "IzDZ7JrHQee8",
        "colab_type": "code",
        "outputId": "f73a6144-fc6e-46bd-a78f-6b2be9848e78",
        "colab": {
          "base_uri": "https://localhost:8080/",
          "height": 102
        }
      },
      "source": [
        "arr3d"
      ],
      "execution_count": 0,
      "outputs": [
        {
          "output_type": "execute_result",
          "data": {
            "text/plain": [
              "array([[[1729,    2,    3],\n",
              "        [   4,    5,    6]],\n",
              "\n",
              "       [[   7,    8,    9],\n",
              "        [  10,   11,   12]]])"
            ]
          },
          "metadata": {
            "tags": []
          },
          "execution_count": 75
        }
      ]
    },
    {
      "cell_type": "markdown",
      "metadata": {
        "id": "Uq-mE8ydTZhy",
        "colab_type": "text"
      },
      "source": [
        "Another way of indexing"
      ]
    },
    {
      "cell_type": "code",
      "metadata": {
        "id": "lxw_ADCkQgO7",
        "colab_type": "code",
        "outputId": "8d159aa5-7b82-4473-e7a9-d7544e68ba5e",
        "colab": {
          "base_uri": "https://localhost:8080/",
          "height": 34
        }
      },
      "source": [
        "arr = np.random.randint(0, 10, (5))\n",
        "arr"
      ],
      "execution_count": 0,
      "outputs": [
        {
          "output_type": "execute_result",
          "data": {
            "text/plain": [
              "array([8, 6, 0, 4, 1])"
            ]
          },
          "metadata": {
            "tags": []
          },
          "execution_count": 76
        }
      ]
    },
    {
      "cell_type": "code",
      "metadata": {
        "id": "1btsMB3WRabx",
        "colab_type": "code",
        "colab": {}
      },
      "source": [
        "my_indices = [1, 3, 4]"
      ],
      "execution_count": 0,
      "outputs": []
    },
    {
      "cell_type": "code",
      "metadata": {
        "id": "KlDOjaNLTRGc",
        "colab_type": "code",
        "outputId": "60b2f3dd-0e77-44da-8f26-550504da0da6",
        "colab": {
          "base_uri": "https://localhost:8080/",
          "height": 34
        }
      },
      "source": [
        "arr[my_indices]"
      ],
      "execution_count": 0,
      "outputs": [
        {
          "output_type": "execute_result",
          "data": {
            "text/plain": [
              "array([6, 4, 1])"
            ]
          },
          "metadata": {
            "tags": []
          },
          "execution_count": 78
        }
      ]
    },
    {
      "cell_type": "markdown",
      "metadata": {
        "id": "1yfj9w-VOL5j",
        "colab_type": "text"
      },
      "source": [
        "Take a square and take one fourth circle inside a square whose radius is equals to side of the square.Now take multiple points inside the square and the circle and find out the distance between these points and the origin.\n",
        "Also find out how many points are the outside the circle.\n",
        "Try it for multiple dimensions."
      ]
    },
    {
      "cell_type": "code",
      "metadata": {
        "id": "-vo7-ZkmTU9L",
        "colab_type": "code",
        "colab": {}
      },
      "source": [
        "ndim = 2\n",
        "npoints = 100000\n",
        "points = np.random.rand(npoints, ndim)"
      ],
      "execution_count": 0,
      "outputs": []
    },
    {
      "cell_type": "code",
      "metadata": {
        "id": "v9sv3RI3O3Tc",
        "colab_type": "code",
        "outputId": "ed30ffb8-b61e-4da3-a83e-57ad63a5e33b",
        "colab": {
          "base_uri": "https://localhost:8080/",
          "height": 187
        }
      },
      "source": [
        "points[0:10, :]"
      ],
      "execution_count": 0,
      "outputs": [
        {
          "output_type": "execute_result",
          "data": {
            "text/plain": [
              "array([[0.42698156, 0.85383268],\n",
              "       [0.08396271, 0.23516042],\n",
              "       [0.58105757, 0.52903472],\n",
              "       [0.6231372 , 0.95395518],\n",
              "       [0.19492511, 0.25206311],\n",
              "       [0.63767652, 0.78461864],\n",
              "       [0.90269137, 0.91007844],\n",
              "       [0.90696249, 0.57228636],\n",
              "       [0.02768424, 0.90761215],\n",
              "       [0.0589314 , 0.87833051]])"
            ]
          },
          "metadata": {
            "tags": []
          },
          "execution_count": 26
        }
      ]
    },
    {
      "cell_type": "code",
      "metadata": {
        "id": "JxXun0FUO4Z0",
        "colab_type": "code",
        "outputId": "1221284d-355e-4140-c289-fafde3ef711c",
        "colab": {
          "base_uri": "https://localhost:8080/",
          "height": 187
        }
      },
      "source": [
        "distant_from_origin = np.zeros((npoints, 1))\n",
        "outside_points = 0\n",
        "distant_from_origin[0:10]"
      ],
      "execution_count": 0,
      "outputs": [
        {
          "output_type": "execute_result",
          "data": {
            "text/plain": [
              "array([[0.],\n",
              "       [0.],\n",
              "       [0.],\n",
              "       [0.],\n",
              "       [0.],\n",
              "       [0.],\n",
              "       [0.],\n",
              "       [0.],\n",
              "       [0.],\n",
              "       [0.]])"
            ]
          },
          "metadata": {
            "tags": []
          },
          "execution_count": 27
        }
      ]
    },
    {
      "cell_type": "code",
      "metadata": {
        "id": "I8fzjiRhPI04",
        "colab_type": "code",
        "outputId": "9c4580a5-31f2-4b99-d510-b7d88b33a2f7",
        "colab": {
          "base_uri": "https://localhost:8080/",
          "height": 68
        }
      },
      "source": [
        "%%time\n",
        "for i in range(npoints):\n",
        "  for j in range(ndim):\n",
        "    distant_from_origin[i] += points[i, j] ** 2\n",
        "  distant_from_origin[i] = np.sqrt(distant_from_origin[i])\n",
        "  if distant_from_origin[i] > 1:\n",
        "    outside_points += 1\n",
        "print(outside_points)"
      ],
      "execution_count": 0,
      "outputs": [
        {
          "output_type": "stream",
          "text": [
            "21314\n",
            "CPU times: user 1.24 s, sys: 0 ns, total: 1.24 s\n",
            "Wall time: 1.24 s\n"
          ],
          "name": "stdout"
        }
      ]
    },
    {
      "cell_type": "code",
      "metadata": {
        "id": "bvnnDjdnS2hg",
        "colab_type": "code",
        "outputId": "16c7ea30-1770-42d1-9f58-d951be3423e0",
        "colab": {
          "base_uri": "https://localhost:8080/",
          "height": 34
        }
      },
      "source": [
        "outside_points"
      ],
      "execution_count": 0,
      "outputs": [
        {
          "output_type": "execute_result",
          "data": {
            "text/plain": [
              "21595"
            ]
          },
          "metadata": {
            "tags": []
          },
          "execution_count": 7
        }
      ]
    },
    {
      "cell_type": "code",
      "metadata": {
        "id": "8ac4OWvPWOu3",
        "colab_type": "code",
        "outputId": "e24f2beb-fcb1-4ff1-8567-c4b7964a1bee",
        "colab": {
          "base_uri": "https://localhost:8080/",
          "height": 68
        }
      },
      "source": [
        "%%time\n",
        "sqr_points = points * points\n",
        "distant_from_origin = np.sqrt(np.sum(sqr_points, axis = 1))\n",
        "outside_points = np.sum(distant_from_origin>1)\n",
        "print(outside_points)"
      ],
      "execution_count": 0,
      "outputs": [
        {
          "output_type": "stream",
          "text": [
            "21595\n",
            "CPU times: user 3.78 ms, sys: 109 µs, total: 3.89 ms\n",
            "Wall time: 4.07 ms\n"
          ],
          "name": "stdout"
        }
      ]
    },
    {
      "cell_type": "code",
      "metadata": {
        "id": "aUoaGMwy8l4k",
        "colab_type": "code",
        "outputId": "1fe28782-d38f-4089-e795-66a36283050e",
        "colab": {
          "base_uri": "https://localhost:8080/",
          "height": 68
        }
      },
      "source": [
        "%%time\n",
        "outside_points = np.sum(np.sqrt(np.sum(points * points, axis = 1)) > 1)\n",
        "print(outside_points)"
      ],
      "execution_count": 0,
      "outputs": [
        {
          "output_type": "stream",
          "text": [
            "21595\n",
            "CPU times: user 4.91 ms, sys: 0 ns, total: 4.91 ms\n",
            "Wall time: 3.8 ms\n"
          ],
          "name": "stdout"
        }
      ]
    },
    {
      "cell_type": "code",
      "metadata": {
        "id": "FC25bhE8_tNy",
        "colab_type": "code",
        "outputId": "4f5a0499-f227-452e-9d3f-f17966467de1",
        "colab": {
          "base_uri": "https://localhost:8080/",
          "height": 51
        }
      },
      "source": [
        "%%time\n",
        "def area_outside_circle(npoints, ndim):\n",
        "  points = np.random.rand(npoints, ndim)\n",
        "  outside_points = np.sum(np.sqrt(np.sum(points * points, axis = 1)) > 1)\n",
        "  # outside_points = outside_points/npoints\n",
        "  return outside_points"
      ],
      "execution_count": 0,
      "outputs": [
        {
          "output_type": "stream",
          "text": [
            "CPU times: user 4 µs, sys: 0 ns, total: 4 µs\n",
            "Wall time: 8.11 µs\n"
          ],
          "name": "stdout"
        }
      ]
    },
    {
      "cell_type": "code",
      "metadata": {
        "id": "CMgR6U77MWYd",
        "colab_type": "code",
        "outputId": "f22bcceb-f6c0-4db3-a08c-30a03ad9eb4e",
        "colab": {
          "base_uri": "https://localhost:8080/",
          "height": 34
        }
      },
      "source": [
        "area_outside_circle(100000, 2)"
      ],
      "execution_count": 0,
      "outputs": [
        {
          "output_type": "execute_result",
          "data": {
            "text/plain": [
              "21444"
            ]
          },
          "metadata": {
            "tags": []
          },
          "execution_count": 3
        }
      ]
    },
    {
      "cell_type": "code",
      "metadata": {
        "id": "qb-0AN34MuB9",
        "colab_type": "code",
        "outputId": "aea6fcf5-0b60-453c-eadb-6cc63cfcb626",
        "colab": {
          "base_uri": "https://localhost:8080/",
          "height": 153
        }
      },
      "source": [
        "for i in range(2, 10):\n",
        "  print(area_outside_circle(1000000, i))"
      ],
      "execution_count": 0,
      "outputs": [
        {
          "output_type": "stream",
          "text": [
            "215111\n",
            "477093\n",
            "692165\n",
            "835341\n",
            "919518\n",
            "962909\n",
            "983974\n",
            "993606\n"
          ],
          "name": "stdout"
        }
      ]
    },
    {
      "cell_type": "markdown",
      "metadata": {
        "id": "CWplabaQfJKF",
        "colab_type": "text"
      },
      "source": [
        "## Broadcasting"
      ]
    },
    {
      "cell_type": "code",
      "metadata": {
        "id": "0gAiVwvgN1W6",
        "colab_type": "code",
        "colab": {}
      },
      "source": [
        "arr1 = np.arange(6)"
      ],
      "execution_count": 0,
      "outputs": []
    },
    {
      "cell_type": "code",
      "metadata": {
        "id": "OWlD3vyEfOo0",
        "colab_type": "code",
        "outputId": "6e4ccdc7-963e-44fd-ab53-9600db78efbf",
        "colab": {
          "base_uri": "https://localhost:8080/",
          "height": 34
        }
      },
      "source": [
        "arr1"
      ],
      "execution_count": 0,
      "outputs": [
        {
          "output_type": "execute_result",
          "data": {
            "text/plain": [
              "array([0, 1, 2, 3, 4, 5])"
            ]
          },
          "metadata": {
            "tags": []
          },
          "execution_count": 19
        }
      ]
    },
    {
      "cell_type": "code",
      "metadata": {
        "id": "9D7AXGlDfZb6",
        "colab_type": "code",
        "outputId": "180df11e-34f1-4e5a-985b-07e2197b2d3e",
        "colab": {
          "base_uri": "https://localhost:8080/",
          "height": 68
        }
      },
      "source": [
        "#reshaping arr1\n",
        "arr1 = arr1.reshape(3, 2)\n",
        "arr1"
      ],
      "execution_count": 0,
      "outputs": [
        {
          "output_type": "execute_result",
          "data": {
            "text/plain": [
              "array([[0, 1],\n",
              "       [2, 3],\n",
              "       [4, 5]])"
            ]
          },
          "metadata": {
            "tags": []
          },
          "execution_count": 20
        }
      ]
    },
    {
      "cell_type": "code",
      "metadata": {
        "id": "jO8ltp1sffk7",
        "colab_type": "code",
        "outputId": "0460447c-afaf-43c0-b0ce-c2f84e320766",
        "colab": {
          "base_uri": "https://localhost:8080/",
          "height": 68
        }
      },
      "source": [
        "arr2 = np.arange(6).reshape(3, 2)\n",
        "arr2"
      ],
      "execution_count": 0,
      "outputs": [
        {
          "output_type": "execute_result",
          "data": {
            "text/plain": [
              "array([[0, 1],\n",
              "       [2, 3],\n",
              "       [4, 5]])"
            ]
          },
          "metadata": {
            "tags": []
          },
          "execution_count": 22
        }
      ]
    },
    {
      "cell_type": "code",
      "metadata": {
        "id": "yY1JRvqqi0hu",
        "colab_type": "code",
        "outputId": "109fe145-4cdc-42ff-9361-c0ba3cf2e7f5",
        "colab": {
          "base_uri": "https://localhost:8080/",
          "height": 68
        }
      },
      "source": [
        "arr1 + arr2"
      ],
      "execution_count": 0,
      "outputs": [
        {
          "output_type": "execute_result",
          "data": {
            "text/plain": [
              "array([[ 0,  2],\n",
              "       [ 4,  6],\n",
              "       [ 8, 10]])"
            ]
          },
          "metadata": {
            "tags": []
          },
          "execution_count": 23
        }
      ]
    },
    {
      "cell_type": "code",
      "metadata": {
        "id": "SO4ntv8RjJGk",
        "colab_type": "code",
        "outputId": "b88431df-4def-4230-ffb5-42438c884018",
        "colab": {
          "base_uri": "https://localhost:8080/",
          "height": 34
        }
      },
      "source": [
        "arr2[0]"
      ],
      "execution_count": 0,
      "outputs": [
        {
          "output_type": "execute_result",
          "data": {
            "text/plain": [
              "array([0, 1])"
            ]
          },
          "metadata": {
            "tags": []
          },
          "execution_count": 24
        }
      ]
    },
    {
      "cell_type": "code",
      "metadata": {
        "id": "ihL50ZydjkVn",
        "colab_type": "code",
        "outputId": "7c62a357-d16f-44a4-e1d3-5b6a500d2ad2",
        "colab": {
          "base_uri": "https://localhost:8080/",
          "height": 34
        }
      },
      "source": [
        "arr2[0].reshape(1, 2)"
      ],
      "execution_count": 0,
      "outputs": [
        {
          "output_type": "execute_result",
          "data": {
            "text/plain": [
              "array([[0, 1]])"
            ]
          },
          "metadata": {
            "tags": []
          },
          "execution_count": 29
        }
      ]
    },
    {
      "cell_type": "code",
      "metadata": {
        "id": "aXcl9JObm0m_",
        "colab_type": "code",
        "outputId": "36dbb0c5-1b96-4903-9701-343934e7bf7b",
        "colab": {
          "base_uri": "https://localhost:8080/",
          "height": 68
        }
      },
      "source": [
        "arr1 + arr2[0].reshape((1, 2)) # (3, 2) + (1, 2)"
      ],
      "execution_count": 0,
      "outputs": [
        {
          "output_type": "execute_result",
          "data": {
            "text/plain": [
              "array([[0, 2],\n",
              "       [2, 4],\n",
              "       [4, 6]])"
            ]
          },
          "metadata": {
            "tags": []
          },
          "execution_count": 28
        }
      ]
    },
    {
      "cell_type": "code",
      "metadata": {
        "id": "MaW0ViEY97Wa",
        "colab_type": "code",
        "outputId": "b2ad5a08-7968-470f-e671-ad18601236a8",
        "colab": {
          "base_uri": "https://localhost:8080/",
          "height": 68
        }
      },
      "source": [
        "arr2[:, 0].reshape(3, 1)"
      ],
      "execution_count": 0,
      "outputs": [
        {
          "output_type": "execute_result",
          "data": {
            "text/plain": [
              "array([[0],\n",
              "       [2],\n",
              "       [4]])"
            ]
          },
          "metadata": {
            "tags": []
          },
          "execution_count": 31
        }
      ]
    },
    {
      "cell_type": "code",
      "metadata": {
        "id": "6nAevEM1QNf3",
        "colab_type": "code",
        "outputId": "e5a94d57-fb93-4c67-9cf1-aac7efebf91c",
        "colab": {
          "base_uri": "https://localhost:8080/",
          "height": 68
        }
      },
      "source": [
        "arr1 + arr2[:, 0].reshape(3, 1) #(3, 2) + (3, 1)"
      ],
      "execution_count": 0,
      "outputs": [
        {
          "output_type": "execute_result",
          "data": {
            "text/plain": [
              "array([[0, 1],\n",
              "       [4, 5],\n",
              "       [8, 9]])"
            ]
          },
          "metadata": {
            "tags": []
          },
          "execution_count": 33
        }
      ]
    },
    {
      "cell_type": "code",
      "metadata": {
        "id": "pUMsrzY1QbAK",
        "colab_type": "code",
        "outputId": "9f572007-94ce-4ea1-98f6-8d0bd385f638",
        "colab": {
          "base_uri": "https://localhost:8080/",
          "height": 136
        }
      },
      "source": [
        "arr1 = np.arange(24).reshape(2, 3, 4)\n",
        "arr1"
      ],
      "execution_count": 0,
      "outputs": [
        {
          "output_type": "execute_result",
          "data": {
            "text/plain": [
              "array([[[ 0,  1,  2,  3],\n",
              "        [ 4,  5,  6,  7],\n",
              "        [ 8,  9, 10, 11]],\n",
              "\n",
              "       [[12, 13, 14, 15],\n",
              "        [16, 17, 18, 19],\n",
              "        [20, 21, 22, 23]]])"
            ]
          },
          "metadata": {
            "tags": []
          },
          "execution_count": 35
        }
      ]
    },
    {
      "cell_type": "code",
      "metadata": {
        "id": "rxHHIPEqQ5VQ",
        "colab_type": "code",
        "outputId": "384648b6-e630-46c2-e1c7-8af88026c24e",
        "colab": {
          "base_uri": "https://localhost:8080/",
          "height": 34
        }
      },
      "source": [
        "arr2 = np.ones((1, 4))\n",
        "arr2"
      ],
      "execution_count": 0,
      "outputs": [
        {
          "output_type": "execute_result",
          "data": {
            "text/plain": [
              "array([[1., 1., 1., 1.]])"
            ]
          },
          "metadata": {
            "tags": []
          },
          "execution_count": 37
        }
      ]
    },
    {
      "cell_type": "code",
      "metadata": {
        "id": "Z0ook9M3RC5U",
        "colab_type": "code",
        "outputId": "d750d070-c5b6-4752-fae2-f3ff6f9ffba7",
        "colab": {
          "base_uri": "https://localhost:8080/",
          "height": 136
        }
      },
      "source": [
        "arr1 + arr2 # (2, 3, 4) + (1, 4)"
      ],
      "execution_count": 0,
      "outputs": [
        {
          "output_type": "execute_result",
          "data": {
            "text/plain": [
              "array([[[ 1.,  2.,  3.,  4.],\n",
              "        [ 5.,  6.,  7.,  8.],\n",
              "        [ 9., 10., 11., 12.]],\n",
              "\n",
              "       [[13., 14., 15., 16.],\n",
              "        [17., 18., 19., 20.],\n",
              "        [21., 22., 23., 24.]]])"
            ]
          },
          "metadata": {
            "tags": []
          },
          "execution_count": 39
        }
      ]
    },
    {
      "cell_type": "code",
      "metadata": {
        "id": "j859yorqRO3L",
        "colab_type": "code",
        "colab": {}
      },
      "source": [
        "arr1 = np.arange(4)\n",
        "arr2 = np.arange(5)"
      ],
      "execution_count": 0,
      "outputs": []
    },
    {
      "cell_type": "code",
      "metadata": {
        "id": "7_yuifHfRyIq",
        "colab_type": "code",
        "outputId": "74be288f-9e75-414b-d6d5-7e71b61b9d34",
        "colab": {
          "base_uri": "https://localhost:8080/",
          "height": 34
        }
      },
      "source": [
        "arr1"
      ],
      "execution_count": 0,
      "outputs": [
        {
          "output_type": "execute_result",
          "data": {
            "text/plain": [
              "array([0, 1, 2, 3])"
            ]
          },
          "metadata": {
            "tags": []
          },
          "execution_count": 42
        }
      ]
    },
    {
      "cell_type": "code",
      "metadata": {
        "id": "sALpmY9SR0Qx",
        "colab_type": "code",
        "outputId": "bbb67ef0-20cc-4558-d4f9-afabbc95e8d3",
        "colab": {
          "base_uri": "https://localhost:8080/",
          "height": 34
        }
      },
      "source": [
        "arr2"
      ],
      "execution_count": 0,
      "outputs": [
        {
          "output_type": "execute_result",
          "data": {
            "text/plain": [
              "array([0, 1, 2, 3, 4])"
            ]
          },
          "metadata": {
            "tags": []
          },
          "execution_count": 43
        }
      ]
    },
    {
      "cell_type": "code",
      "metadata": {
        "id": "JavIymmjSFQX",
        "colab_type": "code",
        "outputId": "5f77f116-7bfa-438d-d95f-7d3a2655c855",
        "colab": {
          "base_uri": "https://localhost:8080/",
          "height": 183
        }
      },
      "source": [
        "arr1 + arr2"
      ],
      "execution_count": 0,
      "outputs": [
        {
          "output_type": "error",
          "ename": "ValueError",
          "evalue": "ignored",
          "traceback": [
            "\u001b[0;31m---------------------------------------------------------------------------\u001b[0m",
            "\u001b[0;31mValueError\u001b[0m                                Traceback (most recent call last)",
            "\u001b[0;32m<ipython-input-44-d972d21b639e>\u001b[0m in \u001b[0;36m<module>\u001b[0;34m()\u001b[0m\n\u001b[0;32m----> 1\u001b[0;31m \u001b[0marr1\u001b[0m \u001b[0;34m+\u001b[0m \u001b[0marr2\u001b[0m\u001b[0;34m\u001b[0m\u001b[0;34m\u001b[0m\u001b[0m\n\u001b[0m",
            "\u001b[0;31mValueError\u001b[0m: operands could not be broadcast together with shapes (4,) (5,) "
          ]
        }
      ]
    },
    {
      "cell_type": "code",
      "metadata": {
        "id": "Axnp8TziSIBA",
        "colab_type": "code",
        "outputId": "64060527-623e-47c6-d159-14ffeec485b1",
        "colab": {
          "base_uri": "https://localhost:8080/",
          "height": 102
        }
      },
      "source": [
        "arr1 + arr2.reshape(5, 1) #(4) + (5, 1)"
      ],
      "execution_count": 0,
      "outputs": [
        {
          "output_type": "execute_result",
          "data": {
            "text/plain": [
              "array([[0, 1, 2, 3],\n",
              "       [1, 2, 3, 4],\n",
              "       [2, 3, 4, 5],\n",
              "       [3, 4, 5, 6],\n",
              "       [4, 5, 6, 7]])"
            ]
          },
          "metadata": {
            "tags": []
          },
          "execution_count": 46
        }
      ]
    },
    {
      "cell_type": "markdown",
      "metadata": {
        "id": "2Vp4jxncTGsH",
        "colab_type": "text"
      },
      "source": [
        "We can use 'T' or transpose instead of reshape."
      ]
    },
    {
      "cell_type": "code",
      "metadata": {
        "id": "F4OV6MJvSN8i",
        "colab_type": "code",
        "outputId": "4e586f9a-03e4-43c6-8f34-9abfd017bd99",
        "colab": {
          "base_uri": "https://localhost:8080/",
          "height": 68
        }
      },
      "source": [
        "arr = np.random.rand(3, 3)\n",
        "arr"
      ],
      "execution_count": 0,
      "outputs": [
        {
          "output_type": "execute_result",
          "data": {
            "text/plain": [
              "array([[0.49159453, 0.56502228, 0.51712972],\n",
              "       [0.31138843, 0.27771994, 0.41590589],\n",
              "       [0.5568924 , 0.3925546 , 0.95217438]])"
            ]
          },
          "metadata": {
            "tags": []
          },
          "execution_count": 47
        }
      ]
    },
    {
      "cell_type": "code",
      "metadata": {
        "id": "CBttalyBTQz1",
        "colab_type": "code",
        "outputId": "4166e3a4-b588-411c-e5a4-d7fb30c56295",
        "colab": {
          "base_uri": "https://localhost:8080/",
          "height": 68
        }
      },
      "source": [
        "arr.T"
      ],
      "execution_count": 0,
      "outputs": [
        {
          "output_type": "execute_result",
          "data": {
            "text/plain": [
              "array([[0.49159453, 0.31138843, 0.5568924 ],\n",
              "       [0.56502228, 0.27771994, 0.3925546 ],\n",
              "       [0.51712972, 0.41590589, 0.95217438]])"
            ]
          },
          "metadata": {
            "tags": []
          },
          "execution_count": 48
        }
      ]
    },
    {
      "cell_type": "markdown",
      "metadata": {
        "id": "v6ReFVleZ4_p",
        "colab_type": "text"
      },
      "source": [
        "## File Handling"
      ]
    },
    {
      "cell_type": "code",
      "metadata": {
        "id": "B_Dy4FoSTS1R",
        "colab_type": "code",
        "outputId": "273797e0-279d-432f-97a5-aa87ee81df63",
        "colab": {
          "base_uri": "https://localhost:8080/",
          "height": 326
        }
      },
      "source": [
        "planets_small = np.loadtxt(\"planets_small.txt\")"
      ],
      "execution_count": 0,
      "outputs": [
        {
          "output_type": "error",
          "ename": "ValueError",
          "evalue": "ignored",
          "traceback": [
            "\u001b[0;31m---------------------------------------------------------------------------\u001b[0m",
            "\u001b[0;31mValueError\u001b[0m                                Traceback (most recent call last)",
            "\u001b[0;32m<ipython-input-2-6f92f0fddb44>\u001b[0m in \u001b[0;36m<module>\u001b[0;34m()\u001b[0m\n\u001b[0;32m----> 1\u001b[0;31m \u001b[0mplanets_small\u001b[0m \u001b[0;34m=\u001b[0m \u001b[0mnp\u001b[0m\u001b[0;34m.\u001b[0m\u001b[0mloadtxt\u001b[0m\u001b[0;34m(\u001b[0m\u001b[0;34m\"planets_small.txt\"\u001b[0m\u001b[0;34m)\u001b[0m\u001b[0;34m\u001b[0m\u001b[0;34m\u001b[0m\u001b[0m\n\u001b[0m",
            "\u001b[0;32m/usr/local/lib/python3.6/dist-packages/numpy/lib/npyio.py\u001b[0m in \u001b[0;36mloadtxt\u001b[0;34m(fname, dtype, comments, delimiter, converters, skiprows, usecols, unpack, ndmin, encoding, max_rows)\u001b[0m\n\u001b[1;32m   1157\u001b[0m         \u001b[0;31m# converting the data\u001b[0m\u001b[0;34m\u001b[0m\u001b[0;34m\u001b[0m\u001b[0;34m\u001b[0m\u001b[0m\n\u001b[1;32m   1158\u001b[0m         \u001b[0mX\u001b[0m \u001b[0;34m=\u001b[0m \u001b[0;32mNone\u001b[0m\u001b[0;34m\u001b[0m\u001b[0;34m\u001b[0m\u001b[0m\n\u001b[0;32m-> 1159\u001b[0;31m         \u001b[0;32mfor\u001b[0m \u001b[0mx\u001b[0m \u001b[0;32min\u001b[0m \u001b[0mread_data\u001b[0m\u001b[0;34m(\u001b[0m\u001b[0m_loadtxt_chunksize\u001b[0m\u001b[0;34m)\u001b[0m\u001b[0;34m:\u001b[0m\u001b[0;34m\u001b[0m\u001b[0;34m\u001b[0m\u001b[0m\n\u001b[0m\u001b[1;32m   1160\u001b[0m             \u001b[0;32mif\u001b[0m \u001b[0mX\u001b[0m \u001b[0;32mis\u001b[0m \u001b[0;32mNone\u001b[0m\u001b[0;34m:\u001b[0m\u001b[0;34m\u001b[0m\u001b[0;34m\u001b[0m\u001b[0m\n\u001b[1;32m   1161\u001b[0m                 \u001b[0mX\u001b[0m \u001b[0;34m=\u001b[0m \u001b[0mnp\u001b[0m\u001b[0;34m.\u001b[0m\u001b[0marray\u001b[0m\u001b[0;34m(\u001b[0m\u001b[0mx\u001b[0m\u001b[0;34m,\u001b[0m \u001b[0mdtype\u001b[0m\u001b[0;34m)\u001b[0m\u001b[0;34m\u001b[0m\u001b[0;34m\u001b[0m\u001b[0m\n",
            "\u001b[0;32m/usr/local/lib/python3.6/dist-packages/numpy/lib/npyio.py\u001b[0m in \u001b[0;36mread_data\u001b[0;34m(chunk_size)\u001b[0m\n\u001b[1;32m   1085\u001b[0m \u001b[0;34m\u001b[0m\u001b[0m\n\u001b[1;32m   1086\u001b[0m             \u001b[0;31m# Convert each value according to its column and store\u001b[0m\u001b[0;34m\u001b[0m\u001b[0;34m\u001b[0m\u001b[0;34m\u001b[0m\u001b[0m\n\u001b[0;32m-> 1087\u001b[0;31m             \u001b[0mitems\u001b[0m \u001b[0;34m=\u001b[0m \u001b[0;34m[\u001b[0m\u001b[0mconv\u001b[0m\u001b[0;34m(\u001b[0m\u001b[0mval\u001b[0m\u001b[0;34m)\u001b[0m \u001b[0;32mfor\u001b[0m \u001b[0;34m(\u001b[0m\u001b[0mconv\u001b[0m\u001b[0;34m,\u001b[0m \u001b[0mval\u001b[0m\u001b[0;34m)\u001b[0m \u001b[0;32min\u001b[0m \u001b[0mzip\u001b[0m\u001b[0;34m(\u001b[0m\u001b[0mconverters\u001b[0m\u001b[0;34m,\u001b[0m \u001b[0mvals\u001b[0m\u001b[0;34m)\u001b[0m\u001b[0;34m]\u001b[0m\u001b[0;34m\u001b[0m\u001b[0;34m\u001b[0m\u001b[0m\n\u001b[0m\u001b[1;32m   1088\u001b[0m \u001b[0;34m\u001b[0m\u001b[0m\n\u001b[1;32m   1089\u001b[0m             \u001b[0;31m# Then pack it according to the dtype's nesting\u001b[0m\u001b[0;34m\u001b[0m\u001b[0;34m\u001b[0m\u001b[0;34m\u001b[0m\u001b[0m\n",
            "\u001b[0;32m/usr/local/lib/python3.6/dist-packages/numpy/lib/npyio.py\u001b[0m in \u001b[0;36m<listcomp>\u001b[0;34m(.0)\u001b[0m\n\u001b[1;32m   1085\u001b[0m \u001b[0;34m\u001b[0m\u001b[0m\n\u001b[1;32m   1086\u001b[0m             \u001b[0;31m# Convert each value according to its column and store\u001b[0m\u001b[0;34m\u001b[0m\u001b[0;34m\u001b[0m\u001b[0;34m\u001b[0m\u001b[0m\n\u001b[0;32m-> 1087\u001b[0;31m             \u001b[0mitems\u001b[0m \u001b[0;34m=\u001b[0m \u001b[0;34m[\u001b[0m\u001b[0mconv\u001b[0m\u001b[0;34m(\u001b[0m\u001b[0mval\u001b[0m\u001b[0;34m)\u001b[0m \u001b[0;32mfor\u001b[0m \u001b[0;34m(\u001b[0m\u001b[0mconv\u001b[0m\u001b[0;34m,\u001b[0m \u001b[0mval\u001b[0m\u001b[0;34m)\u001b[0m \u001b[0;32min\u001b[0m \u001b[0mzip\u001b[0m\u001b[0;34m(\u001b[0m\u001b[0mconverters\u001b[0m\u001b[0;34m,\u001b[0m \u001b[0mvals\u001b[0m\u001b[0;34m)\u001b[0m\u001b[0;34m]\u001b[0m\u001b[0;34m\u001b[0m\u001b[0;34m\u001b[0m\u001b[0m\n\u001b[0m\u001b[1;32m   1088\u001b[0m \u001b[0;34m\u001b[0m\u001b[0m\n\u001b[1;32m   1089\u001b[0m             \u001b[0;31m# Then pack it according to the dtype's nesting\u001b[0m\u001b[0;34m\u001b[0m\u001b[0;34m\u001b[0m\u001b[0;34m\u001b[0m\u001b[0m\n",
            "\u001b[0;32m/usr/local/lib/python3.6/dist-packages/numpy/lib/npyio.py\u001b[0m in \u001b[0;36mfloatconv\u001b[0;34m(x)\u001b[0m\n\u001b[1;32m    792\u001b[0m         \u001b[0;32mif\u001b[0m \u001b[0;34m'0x'\u001b[0m \u001b[0;32min\u001b[0m \u001b[0mx\u001b[0m\u001b[0;34m:\u001b[0m\u001b[0;34m\u001b[0m\u001b[0;34m\u001b[0m\u001b[0m\n\u001b[1;32m    793\u001b[0m             \u001b[0;32mreturn\u001b[0m \u001b[0mfloat\u001b[0m\u001b[0;34m.\u001b[0m\u001b[0mfromhex\u001b[0m\u001b[0;34m(\u001b[0m\u001b[0mx\u001b[0m\u001b[0;34m)\u001b[0m\u001b[0;34m\u001b[0m\u001b[0;34m\u001b[0m\u001b[0m\n\u001b[0;32m--> 794\u001b[0;31m         \u001b[0;32mreturn\u001b[0m \u001b[0mfloat\u001b[0m\u001b[0;34m(\u001b[0m\u001b[0mx\u001b[0m\u001b[0;34m)\u001b[0m\u001b[0;34m\u001b[0m\u001b[0;34m\u001b[0m\u001b[0m\n\u001b[0m\u001b[1;32m    795\u001b[0m \u001b[0;34m\u001b[0m\u001b[0m\n\u001b[1;32m    796\u001b[0m     \u001b[0mtyp\u001b[0m \u001b[0;34m=\u001b[0m \u001b[0mdtype\u001b[0m\u001b[0;34m.\u001b[0m\u001b[0mtype\u001b[0m\u001b[0;34m\u001b[0m\u001b[0;34m\u001b[0m\u001b[0m\n",
            "\u001b[0;31mValueError\u001b[0m: could not convert string to float: 'MERCURY'"
          ]
        }
      ]
    },
    {
      "cell_type": "markdown",
      "metadata": {
        "id": "Oi22sTBWW9pn",
        "colab_type": "text"
      },
      "source": [
        "We cant convert a string value to a float.So we need to alter or skip some rows"
      ]
    },
    {
      "cell_type": "code",
      "metadata": {
        "id": "GrasjifnW2aJ",
        "colab_type": "code",
        "outputId": "75ce57fc-61cf-41c2-a301-6331c05db4d8",
        "colab": {
          "base_uri": "https://localhost:8080/",
          "height": 343
        }
      },
      "source": [
        "planets_small = np.loadtxt(\"planets_small.txt\",\n",
        "                           skiprows = 1)"
      ],
      "execution_count": 0,
      "outputs": [
        {
          "output_type": "error",
          "ename": "ValueError",
          "evalue": "ignored",
          "traceback": [
            "\u001b[0;31m---------------------------------------------------------------------------\u001b[0m",
            "\u001b[0;31mValueError\u001b[0m                                Traceback (most recent call last)",
            "\u001b[0;32m<ipython-input-3-2f39a70b70ee>\u001b[0m in \u001b[0;36m<module>\u001b[0;34m()\u001b[0m\n\u001b[1;32m      1\u001b[0m planets_small = np.loadtxt(\"planets_small.txt\",\n\u001b[0;32m----> 2\u001b[0;31m                            skiprows = 1)\n\u001b[0m",
            "\u001b[0;32m/usr/local/lib/python3.6/dist-packages/numpy/lib/npyio.py\u001b[0m in \u001b[0;36mloadtxt\u001b[0;34m(fname, dtype, comments, delimiter, converters, skiprows, usecols, unpack, ndmin, encoding, max_rows)\u001b[0m\n\u001b[1;32m   1157\u001b[0m         \u001b[0;31m# converting the data\u001b[0m\u001b[0;34m\u001b[0m\u001b[0;34m\u001b[0m\u001b[0;34m\u001b[0m\u001b[0m\n\u001b[1;32m   1158\u001b[0m         \u001b[0mX\u001b[0m \u001b[0;34m=\u001b[0m \u001b[0;32mNone\u001b[0m\u001b[0;34m\u001b[0m\u001b[0;34m\u001b[0m\u001b[0m\n\u001b[0;32m-> 1159\u001b[0;31m         \u001b[0;32mfor\u001b[0m \u001b[0mx\u001b[0m \u001b[0;32min\u001b[0m \u001b[0mread_data\u001b[0m\u001b[0;34m(\u001b[0m\u001b[0m_loadtxt_chunksize\u001b[0m\u001b[0;34m)\u001b[0m\u001b[0;34m:\u001b[0m\u001b[0;34m\u001b[0m\u001b[0;34m\u001b[0m\u001b[0m\n\u001b[0m\u001b[1;32m   1160\u001b[0m             \u001b[0;32mif\u001b[0m \u001b[0mX\u001b[0m \u001b[0;32mis\u001b[0m \u001b[0;32mNone\u001b[0m\u001b[0;34m:\u001b[0m\u001b[0;34m\u001b[0m\u001b[0;34m\u001b[0m\u001b[0m\n\u001b[1;32m   1161\u001b[0m                 \u001b[0mX\u001b[0m \u001b[0;34m=\u001b[0m \u001b[0mnp\u001b[0m\u001b[0;34m.\u001b[0m\u001b[0marray\u001b[0m\u001b[0;34m(\u001b[0m\u001b[0mx\u001b[0m\u001b[0;34m,\u001b[0m \u001b[0mdtype\u001b[0m\u001b[0;34m)\u001b[0m\u001b[0;34m\u001b[0m\u001b[0;34m\u001b[0m\u001b[0m\n",
            "\u001b[0;32m/usr/local/lib/python3.6/dist-packages/numpy/lib/npyio.py\u001b[0m in \u001b[0;36mread_data\u001b[0;34m(chunk_size)\u001b[0m\n\u001b[1;32m   1085\u001b[0m \u001b[0;34m\u001b[0m\u001b[0m\n\u001b[1;32m   1086\u001b[0m             \u001b[0;31m# Convert each value according to its column and store\u001b[0m\u001b[0;34m\u001b[0m\u001b[0;34m\u001b[0m\u001b[0;34m\u001b[0m\u001b[0m\n\u001b[0;32m-> 1087\u001b[0;31m             \u001b[0mitems\u001b[0m \u001b[0;34m=\u001b[0m \u001b[0;34m[\u001b[0m\u001b[0mconv\u001b[0m\u001b[0;34m(\u001b[0m\u001b[0mval\u001b[0m\u001b[0;34m)\u001b[0m \u001b[0;32mfor\u001b[0m \u001b[0;34m(\u001b[0m\u001b[0mconv\u001b[0m\u001b[0;34m,\u001b[0m \u001b[0mval\u001b[0m\u001b[0;34m)\u001b[0m \u001b[0;32min\u001b[0m \u001b[0mzip\u001b[0m\u001b[0;34m(\u001b[0m\u001b[0mconverters\u001b[0m\u001b[0;34m,\u001b[0m \u001b[0mvals\u001b[0m\u001b[0;34m)\u001b[0m\u001b[0;34m]\u001b[0m\u001b[0;34m\u001b[0m\u001b[0;34m\u001b[0m\u001b[0m\n\u001b[0m\u001b[1;32m   1088\u001b[0m \u001b[0;34m\u001b[0m\u001b[0m\n\u001b[1;32m   1089\u001b[0m             \u001b[0;31m# Then pack it according to the dtype's nesting\u001b[0m\u001b[0;34m\u001b[0m\u001b[0;34m\u001b[0m\u001b[0;34m\u001b[0m\u001b[0m\n",
            "\u001b[0;32m/usr/local/lib/python3.6/dist-packages/numpy/lib/npyio.py\u001b[0m in \u001b[0;36m<listcomp>\u001b[0;34m(.0)\u001b[0m\n\u001b[1;32m   1085\u001b[0m \u001b[0;34m\u001b[0m\u001b[0m\n\u001b[1;32m   1086\u001b[0m             \u001b[0;31m# Convert each value according to its column and store\u001b[0m\u001b[0;34m\u001b[0m\u001b[0;34m\u001b[0m\u001b[0;34m\u001b[0m\u001b[0m\n\u001b[0;32m-> 1087\u001b[0;31m             \u001b[0mitems\u001b[0m \u001b[0;34m=\u001b[0m \u001b[0;34m[\u001b[0m\u001b[0mconv\u001b[0m\u001b[0;34m(\u001b[0m\u001b[0mval\u001b[0m\u001b[0;34m)\u001b[0m \u001b[0;32mfor\u001b[0m \u001b[0;34m(\u001b[0m\u001b[0mconv\u001b[0m\u001b[0;34m,\u001b[0m \u001b[0mval\u001b[0m\u001b[0;34m)\u001b[0m \u001b[0;32min\u001b[0m \u001b[0mzip\u001b[0m\u001b[0;34m(\u001b[0m\u001b[0mconverters\u001b[0m\u001b[0;34m,\u001b[0m \u001b[0mvals\u001b[0m\u001b[0;34m)\u001b[0m\u001b[0;34m]\u001b[0m\u001b[0;34m\u001b[0m\u001b[0;34m\u001b[0m\u001b[0m\n\u001b[0m\u001b[1;32m   1088\u001b[0m \u001b[0;34m\u001b[0m\u001b[0m\n\u001b[1;32m   1089\u001b[0m             \u001b[0;31m# Then pack it according to the dtype's nesting\u001b[0m\u001b[0;34m\u001b[0m\u001b[0;34m\u001b[0m\u001b[0;34m\u001b[0m\u001b[0m\n",
            "\u001b[0;32m/usr/local/lib/python3.6/dist-packages/numpy/lib/npyio.py\u001b[0m in \u001b[0;36mfloatconv\u001b[0;34m(x)\u001b[0m\n\u001b[1;32m    792\u001b[0m         \u001b[0;32mif\u001b[0m \u001b[0;34m'0x'\u001b[0m \u001b[0;32min\u001b[0m \u001b[0mx\u001b[0m\u001b[0;34m:\u001b[0m\u001b[0;34m\u001b[0m\u001b[0;34m\u001b[0m\u001b[0m\n\u001b[1;32m    793\u001b[0m             \u001b[0;32mreturn\u001b[0m \u001b[0mfloat\u001b[0m\u001b[0;34m.\u001b[0m\u001b[0mfromhex\u001b[0m\u001b[0;34m(\u001b[0m\u001b[0mx\u001b[0m\u001b[0;34m)\u001b[0m\u001b[0;34m\u001b[0m\u001b[0;34m\u001b[0m\u001b[0m\n\u001b[0;32m--> 794\u001b[0;31m         \u001b[0;32mreturn\u001b[0m \u001b[0mfloat\u001b[0m\u001b[0;34m(\u001b[0m\u001b[0mx\u001b[0m\u001b[0;34m)\u001b[0m\u001b[0;34m\u001b[0m\u001b[0;34m\u001b[0m\u001b[0m\n\u001b[0m\u001b[1;32m    795\u001b[0m \u001b[0;34m\u001b[0m\u001b[0m\n\u001b[1;32m    796\u001b[0m     \u001b[0mtyp\u001b[0m \u001b[0;34m=\u001b[0m \u001b[0mdtype\u001b[0m\u001b[0;34m.\u001b[0m\u001b[0mtype\u001b[0m\u001b[0;34m\u001b[0m\u001b[0;34m\u001b[0m\u001b[0m\n",
            "\u001b[0;31mValueError\u001b[0m: could not convert string to float: 'Mass'"
          ]
        }
      ]
    },
    {
      "cell_type": "code",
      "metadata": {
        "id": "qxsHDp1FXkv7",
        "colab_type": "code",
        "colab": {}
      },
      "source": [
        "planets_small = np.loadtxt(\"planets_small.txt\",\n",
        "                           skiprows = 1,\n",
        "                           usecols = (1, 2, 3, 4, 5, 6, 7, 8, 9))"
      ],
      "execution_count": 0,
      "outputs": []
    },
    {
      "cell_type": "code",
      "metadata": {
        "id": "YHn93zHQX3v2",
        "colab_type": "code",
        "outputId": "a05ef867-9092-4862-c0fe-69af7751a696",
        "colab": {
          "base_uri": "https://localhost:8080/",
          "height": 119
        }
      },
      "source": [
        "planets_small"
      ],
      "execution_count": 0,
      "outputs": [
        {
          "output_type": "execute_result",
          "data": {
            "text/plain": [
              "array([[3.3000e-01, 4.8700e+00, 5.9700e+00, 6.4200e-01, 1.8980e+03,\n",
              "        5.6800e+02, 8.6800e+01, 1.0200e+02, 1.4600e-02],\n",
              "       [5.7900e+01, 1.0820e+02, 1.4960e+02, 2.2790e+02, 7.7860e+02,\n",
              "        1.4335e+03, 2.8725e+03, 4.4951e+03, 5.9064e+03],\n",
              "       [4.2226e+03, 2.8020e+03, 2.4000e+01, 2.4700e+01, 9.9000e+00,\n",
              "        1.0700e+01, 1.7200e+01, 1.6100e+01, 1.5330e+02]])"
            ]
          },
          "metadata": {
            "tags": []
          },
          "execution_count": 5
        }
      ]
    },
    {
      "cell_type": "code",
      "metadata": {
        "id": "FtPB1PXSX60N",
        "colab_type": "code",
        "outputId": "df2af2d5-9484-42c9-c456-94161a6d9962",
        "colab": {
          "base_uri": "https://localhost:8080/",
          "height": 34
        }
      },
      "source": [
        "planets_small.shape"
      ],
      "execution_count": 0,
      "outputs": [
        {
          "output_type": "execute_result",
          "data": {
            "text/plain": [
              "(3, 9)"
            ]
          },
          "metadata": {
            "tags": []
          },
          "execution_count": 6
        }
      ]
    },
    {
      "cell_type": "code",
      "metadata": {
        "id": "71JB7eYiX-K_",
        "colab_type": "code",
        "outputId": "f633da6c-c5b7-4572-f436-3e8929ad528a",
        "colab": {
          "base_uri": "https://localhost:8080/",
          "height": 360
        }
      },
      "source": [
        "planets = np.loadtxt(\"planets.txt\",\n",
        "                           skiprows = 1,\n",
        "                           usecols = (1, 2, 3, 4, 5, 6, 7, 8, 9))"
      ],
      "execution_count": 0,
      "outputs": [
        {
          "output_type": "error",
          "ename": "ValueError",
          "evalue": "ignored",
          "traceback": [
            "\u001b[0;31m---------------------------------------------------------------------------\u001b[0m",
            "\u001b[0;31mValueError\u001b[0m                                Traceback (most recent call last)",
            "\u001b[0;32m<ipython-input-7-d4a26daccbc1>\u001b[0m in \u001b[0;36m<module>\u001b[0;34m()\u001b[0m\n\u001b[1;32m      1\u001b[0m planets = np.loadtxt(\"planets.txt\",\n\u001b[1;32m      2\u001b[0m                            \u001b[0mskiprows\u001b[0m \u001b[0;34m=\u001b[0m \u001b[0;36m1\u001b[0m\u001b[0;34m,\u001b[0m\u001b[0;34m\u001b[0m\u001b[0;34m\u001b[0m\u001b[0m\n\u001b[0;32m----> 3\u001b[0;31m                            usecols = (1, 2, 3, 4, 5, 6, 7, 8, 9))\n\u001b[0m",
            "\u001b[0;32m/usr/local/lib/python3.6/dist-packages/numpy/lib/npyio.py\u001b[0m in \u001b[0;36mloadtxt\u001b[0;34m(fname, dtype, comments, delimiter, converters, skiprows, usecols, unpack, ndmin, encoding, max_rows)\u001b[0m\n\u001b[1;32m   1157\u001b[0m         \u001b[0;31m# converting the data\u001b[0m\u001b[0;34m\u001b[0m\u001b[0;34m\u001b[0m\u001b[0;34m\u001b[0m\u001b[0m\n\u001b[1;32m   1158\u001b[0m         \u001b[0mX\u001b[0m \u001b[0;34m=\u001b[0m \u001b[0;32mNone\u001b[0m\u001b[0;34m\u001b[0m\u001b[0;34m\u001b[0m\u001b[0m\n\u001b[0;32m-> 1159\u001b[0;31m         \u001b[0;32mfor\u001b[0m \u001b[0mx\u001b[0m \u001b[0;32min\u001b[0m \u001b[0mread_data\u001b[0m\u001b[0;34m(\u001b[0m\u001b[0m_loadtxt_chunksize\u001b[0m\u001b[0;34m)\u001b[0m\u001b[0;34m:\u001b[0m\u001b[0;34m\u001b[0m\u001b[0;34m\u001b[0m\u001b[0m\n\u001b[0m\u001b[1;32m   1160\u001b[0m             \u001b[0;32mif\u001b[0m \u001b[0mX\u001b[0m \u001b[0;32mis\u001b[0m \u001b[0;32mNone\u001b[0m\u001b[0;34m:\u001b[0m\u001b[0;34m\u001b[0m\u001b[0;34m\u001b[0m\u001b[0m\n\u001b[1;32m   1161\u001b[0m                 \u001b[0mX\u001b[0m \u001b[0;34m=\u001b[0m \u001b[0mnp\u001b[0m\u001b[0;34m.\u001b[0m\u001b[0marray\u001b[0m\u001b[0;34m(\u001b[0m\u001b[0mx\u001b[0m\u001b[0;34m,\u001b[0m \u001b[0mdtype\u001b[0m\u001b[0;34m)\u001b[0m\u001b[0;34m\u001b[0m\u001b[0;34m\u001b[0m\u001b[0m\n",
            "\u001b[0;32m/usr/local/lib/python3.6/dist-packages/numpy/lib/npyio.py\u001b[0m in \u001b[0;36mread_data\u001b[0;34m(chunk_size)\u001b[0m\n\u001b[1;32m   1085\u001b[0m \u001b[0;34m\u001b[0m\u001b[0m\n\u001b[1;32m   1086\u001b[0m             \u001b[0;31m# Convert each value according to its column and store\u001b[0m\u001b[0;34m\u001b[0m\u001b[0;34m\u001b[0m\u001b[0;34m\u001b[0m\u001b[0m\n\u001b[0;32m-> 1087\u001b[0;31m             \u001b[0mitems\u001b[0m \u001b[0;34m=\u001b[0m \u001b[0;34m[\u001b[0m\u001b[0mconv\u001b[0m\u001b[0;34m(\u001b[0m\u001b[0mval\u001b[0m\u001b[0;34m)\u001b[0m \u001b[0;32mfor\u001b[0m \u001b[0;34m(\u001b[0m\u001b[0mconv\u001b[0m\u001b[0;34m,\u001b[0m \u001b[0mval\u001b[0m\u001b[0;34m)\u001b[0m \u001b[0;32min\u001b[0m \u001b[0mzip\u001b[0m\u001b[0;34m(\u001b[0m\u001b[0mconverters\u001b[0m\u001b[0;34m,\u001b[0m \u001b[0mvals\u001b[0m\u001b[0;34m)\u001b[0m\u001b[0;34m]\u001b[0m\u001b[0;34m\u001b[0m\u001b[0;34m\u001b[0m\u001b[0m\n\u001b[0m\u001b[1;32m   1088\u001b[0m \u001b[0;34m\u001b[0m\u001b[0m\n\u001b[1;32m   1089\u001b[0m             \u001b[0;31m# Then pack it according to the dtype's nesting\u001b[0m\u001b[0;34m\u001b[0m\u001b[0;34m\u001b[0m\u001b[0;34m\u001b[0m\u001b[0m\n",
            "\u001b[0;32m/usr/local/lib/python3.6/dist-packages/numpy/lib/npyio.py\u001b[0m in \u001b[0;36m<listcomp>\u001b[0;34m(.0)\u001b[0m\n\u001b[1;32m   1085\u001b[0m \u001b[0;34m\u001b[0m\u001b[0m\n\u001b[1;32m   1086\u001b[0m             \u001b[0;31m# Convert each value according to its column and store\u001b[0m\u001b[0;34m\u001b[0m\u001b[0;34m\u001b[0m\u001b[0;34m\u001b[0m\u001b[0m\n\u001b[0;32m-> 1087\u001b[0;31m             \u001b[0mitems\u001b[0m \u001b[0;34m=\u001b[0m \u001b[0;34m[\u001b[0m\u001b[0mconv\u001b[0m\u001b[0;34m(\u001b[0m\u001b[0mval\u001b[0m\u001b[0;34m)\u001b[0m \u001b[0;32mfor\u001b[0m \u001b[0;34m(\u001b[0m\u001b[0mconv\u001b[0m\u001b[0;34m,\u001b[0m \u001b[0mval\u001b[0m\u001b[0;34m)\u001b[0m \u001b[0;32min\u001b[0m \u001b[0mzip\u001b[0m\u001b[0;34m(\u001b[0m\u001b[0mconverters\u001b[0m\u001b[0;34m,\u001b[0m \u001b[0mvals\u001b[0m\u001b[0;34m)\u001b[0m\u001b[0;34m]\u001b[0m\u001b[0;34m\u001b[0m\u001b[0;34m\u001b[0m\u001b[0m\n\u001b[0m\u001b[1;32m   1088\u001b[0m \u001b[0;34m\u001b[0m\u001b[0m\n\u001b[1;32m   1089\u001b[0m             \u001b[0;31m# Then pack it according to the dtype's nesting\u001b[0m\u001b[0;34m\u001b[0m\u001b[0;34m\u001b[0m\u001b[0;34m\u001b[0m\u001b[0m\n",
            "\u001b[0;32m/usr/local/lib/python3.6/dist-packages/numpy/lib/npyio.py\u001b[0m in \u001b[0;36mfloatconv\u001b[0;34m(x)\u001b[0m\n\u001b[1;32m    792\u001b[0m         \u001b[0;32mif\u001b[0m \u001b[0;34m'0x'\u001b[0m \u001b[0;32min\u001b[0m \u001b[0mx\u001b[0m\u001b[0;34m:\u001b[0m\u001b[0;34m\u001b[0m\u001b[0;34m\u001b[0m\u001b[0m\n\u001b[1;32m    793\u001b[0m             \u001b[0;32mreturn\u001b[0m \u001b[0mfloat\u001b[0m\u001b[0;34m.\u001b[0m\u001b[0mfromhex\u001b[0m\u001b[0;34m(\u001b[0m\u001b[0mx\u001b[0m\u001b[0;34m)\u001b[0m\u001b[0;34m\u001b[0m\u001b[0;34m\u001b[0m\u001b[0m\n\u001b[0;32m--> 794\u001b[0;31m         \u001b[0;32mreturn\u001b[0m \u001b[0mfloat\u001b[0m\u001b[0;34m(\u001b[0m\u001b[0mx\u001b[0m\u001b[0;34m)\u001b[0m\u001b[0;34m\u001b[0m\u001b[0;34m\u001b[0m\u001b[0m\n\u001b[0m\u001b[1;32m    795\u001b[0m \u001b[0;34m\u001b[0m\u001b[0m\n\u001b[1;32m    796\u001b[0m     \u001b[0mtyp\u001b[0m \u001b[0;34m=\u001b[0m \u001b[0mdtype\u001b[0m\u001b[0;34m.\u001b[0m\u001b[0mtype\u001b[0m\u001b[0;34m\u001b[0m\u001b[0;34m\u001b[0m\u001b[0m\n",
            "\u001b[0;31mValueError\u001b[0m: could not convert string to float: 'Unknown'"
          ]
        }
      ]
    },
    {
      "cell_type": "code",
      "metadata": {
        "id": "LVKK2Of1av8E",
        "colab_type": "code",
        "outputId": "d37ec7e4-35d0-4a05-92c2-04fc05100c71",
        "colab": {
          "base_uri": "https://localhost:8080/",
          "height": 1000
        }
      },
      "source": [
        "planets = np.genfromtxt(\"planets.txt\",\n",
        "                        skip_header = 1,\n",
        "                        usecols = (1,2,3,4,5,6,7,8,9))\n",
        "\n",
        "planets"
      ],
      "execution_count": 0,
      "outputs": [
        {
          "output_type": "execute_result",
          "data": {
            "text/plain": [
              "array([[ 3.30000e-01,  4.87000e+00,  5.97000e+00,  7.30000e-02,\n",
              "         6.42000e-01,  1.89800e+03,  5.68000e+02,  8.68000e+01,\n",
              "         1.02000e+02],\n",
              "       [ 4.87900e+03,  1.21040e+04,  1.27560e+04,  3.47500e+03,\n",
              "         6.79200e+03,  1.42984e+05,  1.20536e+05,  5.11180e+04,\n",
              "         4.95280e+04],\n",
              "       [ 5.42700e+03,  5.24300e+03,  5.51400e+03,  3.34000e+03,\n",
              "         3.93300e+03,  1.32600e+03,  6.87000e+02,  1.27100e+03,\n",
              "         1.63800e+03],\n",
              "       [ 3.70000e+00,  8.90000e+00,  9.80000e+00,  1.60000e+00,\n",
              "         3.70000e+00,  2.31000e+01,  9.00000e+00,  8.70000e+00,\n",
              "         1.10000e+01],\n",
              "       [ 4.30000e+00,  1.04000e+01,  1.12000e+01,  2.40000e+00,\n",
              "         5.00000e+00,  5.95000e+01,  3.55000e+01,  2.13000e+01,\n",
              "         2.35000e+01],\n",
              "       [ 1.40760e+03, -5.83250e+03,  2.39000e+01,  6.55700e+02,\n",
              "         2.46000e+01,  9.90000e+00,  1.07000e+01, -1.72000e+01,\n",
              "         1.61000e+01],\n",
              "       [ 4.22260e+03,  2.80200e+03,  2.40000e+01,  7.08700e+02,\n",
              "         2.47000e+01,  9.90000e+00,  1.07000e+01,  1.72000e+01,\n",
              "         1.61000e+01],\n",
              "       [ 5.79000e+01,  1.08200e+02,  1.49600e+02,  3.84000e-01,\n",
              "         2.27900e+02,  7.78600e+02,  1.43350e+03,  2.87250e+03,\n",
              "         4.49510e+03],\n",
              "       [ 4.60000e+01,  1.07500e+02,  1.47100e+02,  3.63000e-01,\n",
              "         2.06600e+02,  7.40500e+02,  1.35260e+03,  2.74130e+03,\n",
              "         4.44450e+03],\n",
              "       [ 6.98000e+01,  1.08900e+02,  1.52100e+02,  4.06000e-01,\n",
              "         2.49200e+02,  8.16600e+02,  1.51450e+03,  3.00360e+03,\n",
              "         4.54570e+03],\n",
              "       [ 8.80000e+01,  2.24700e+02,  3.65200e+02,  2.73000e+01,\n",
              "         6.87000e+02,  4.33100e+03,  1.07470e+04,  3.05890e+04,\n",
              "         5.98000e+04],\n",
              "       [ 4.74000e+01,  3.50000e+01,  2.98000e+01,  1.00000e+00,\n",
              "         2.41000e+01,  1.31000e+01,  9.70000e+00,  6.80000e+00,\n",
              "         5.40000e+00],\n",
              "       [ 7.00000e+00,  3.40000e+00,  0.00000e+00,  5.10000e+00,\n",
              "         1.90000e+00,  1.30000e+00,  2.50000e+00,  8.00000e-01,\n",
              "         1.80000e+00],\n",
              "       [ 2.05000e-01,  7.00000e-03,  1.70000e-02,  5.50000e-02,\n",
              "         9.40000e-02,  4.90000e-02,  5.70000e-02,  4.60000e-02,\n",
              "         1.10000e-02],\n",
              "       [ 3.40000e-02,  1.77400e+02,  2.34000e+01,  6.70000e+00,\n",
              "         2.52000e+01,  3.10000e+00,  2.67000e+01,  9.78000e+01,\n",
              "         2.83000e+01],\n",
              "       [ 1.67000e+02,  4.64000e+02,  1.50000e+01, -2.00000e+01,\n",
              "        -6.50000e+01, -1.10000e+02, -1.40000e+02, -1.95000e+02,\n",
              "        -2.00000e+02],\n",
              "       [ 0.00000e+00,  9.20000e+01,  1.00000e+00,  0.00000e+00,\n",
              "         1.00000e-02,          nan,          nan,          nan,\n",
              "                 nan],\n",
              "       [ 0.00000e+00,  0.00000e+00,  1.00000e+00,  0.00000e+00,\n",
              "         2.00000e+00,  7.90000e+01,  8.20000e+01,  2.70000e+01,\n",
              "         1.40000e+01],\n",
              "       [ 0.00000e+00,  0.00000e+00,  0.00000e+00,  0.00000e+00,\n",
              "         0.00000e+00,  1.00000e+00,  1.00000e+00,  1.00000e+00,\n",
              "         1.00000e+00],\n",
              "       [ 1.00000e+00,  0.00000e+00,  1.00000e+00,  0.00000e+00,\n",
              "         0.00000e+00,  1.00000e+00,  1.00000e+00,  1.00000e+00,\n",
              "         1.00000e+00]])"
            ]
          },
          "metadata": {
            "tags": []
          },
          "execution_count": 9
        }
      ]
    },
    {
      "cell_type": "code",
      "metadata": {
        "id": "RVurKE7NbPcM",
        "colab_type": "code",
        "outputId": "bf52fd0e-4b32-4bac-afa1-defb9ab59afd",
        "colab": {
          "base_uri": "https://localhost:8080/",
          "height": 34
        }
      },
      "source": [
        "planets.shape"
      ],
      "execution_count": 0,
      "outputs": [
        {
          "output_type": "execute_result",
          "data": {
            "text/plain": [
              "(20, 9)"
            ]
          },
          "metadata": {
            "tags": []
          },
          "execution_count": 10
        }
      ]
    },
    {
      "cell_type": "code",
      "metadata": {
        "id": "mnQD26XHbfYy",
        "colab_type": "code",
        "outputId": "55bc8d60-2669-4ac8-85ae-bcd6ea6e0d42",
        "colab": {
          "base_uri": "https://localhost:8080/",
          "height": 357
        }
      },
      "source": [
        "np.isnan(planets)"
      ],
      "execution_count": 0,
      "outputs": [
        {
          "output_type": "execute_result",
          "data": {
            "text/plain": [
              "array([[False, False, False, False, False, False, False, False, False],\n",
              "       [False, False, False, False, False, False, False, False, False],\n",
              "       [False, False, False, False, False, False, False, False, False],\n",
              "       [False, False, False, False, False, False, False, False, False],\n",
              "       [False, False, False, False, False, False, False, False, False],\n",
              "       [False, False, False, False, False, False, False, False, False],\n",
              "       [False, False, False, False, False, False, False, False, False],\n",
              "       [False, False, False, False, False, False, False, False, False],\n",
              "       [False, False, False, False, False, False, False, False, False],\n",
              "       [False, False, False, False, False, False, False, False, False],\n",
              "       [False, False, False, False, False, False, False, False, False],\n",
              "       [False, False, False, False, False, False, False, False, False],\n",
              "       [False, False, False, False, False, False, False, False, False],\n",
              "       [False, False, False, False, False, False, False, False, False],\n",
              "       [False, False, False, False, False, False, False, False, False],\n",
              "       [False, False, False, False, False, False, False, False, False],\n",
              "       [False, False, False, False, False,  True,  True,  True,  True],\n",
              "       [False, False, False, False, False, False, False, False, False],\n",
              "       [False, False, False, False, False, False, False, False, False],\n",
              "       [False, False, False, False, False, False, False, False, False]])"
            ]
          },
          "metadata": {
            "tags": []
          },
          "execution_count": 11
        }
      ]
    },
    {
      "cell_type": "code",
      "metadata": {
        "id": "0o0xuXrHb7p-",
        "colab_type": "code",
        "outputId": "33cd1245-7022-47aa-ac9d-005160a43569",
        "colab": {
          "base_uri": "https://localhost:8080/",
          "height": 1000
        }
      },
      "source": [
        "planets_new = np.nan_to_num(planets, nan=-1)\n",
        "\n",
        "planets_new"
      ],
      "execution_count": 0,
      "outputs": [
        {
          "output_type": "execute_result",
          "data": {
            "text/plain": [
              "array([[ 3.30000e-01,  4.87000e+00,  5.97000e+00,  7.30000e-02,\n",
              "         6.42000e-01,  1.89800e+03,  5.68000e+02,  8.68000e+01,\n",
              "         1.02000e+02],\n",
              "       [ 4.87900e+03,  1.21040e+04,  1.27560e+04,  3.47500e+03,\n",
              "         6.79200e+03,  1.42984e+05,  1.20536e+05,  5.11180e+04,\n",
              "         4.95280e+04],\n",
              "       [ 5.42700e+03,  5.24300e+03,  5.51400e+03,  3.34000e+03,\n",
              "         3.93300e+03,  1.32600e+03,  6.87000e+02,  1.27100e+03,\n",
              "         1.63800e+03],\n",
              "       [ 3.70000e+00,  8.90000e+00,  9.80000e+00,  1.60000e+00,\n",
              "         3.70000e+00,  2.31000e+01,  9.00000e+00,  8.70000e+00,\n",
              "         1.10000e+01],\n",
              "       [ 4.30000e+00,  1.04000e+01,  1.12000e+01,  2.40000e+00,\n",
              "         5.00000e+00,  5.95000e+01,  3.55000e+01,  2.13000e+01,\n",
              "         2.35000e+01],\n",
              "       [ 1.40760e+03, -5.83250e+03,  2.39000e+01,  6.55700e+02,\n",
              "         2.46000e+01,  9.90000e+00,  1.07000e+01, -1.72000e+01,\n",
              "         1.61000e+01],\n",
              "       [ 4.22260e+03,  2.80200e+03,  2.40000e+01,  7.08700e+02,\n",
              "         2.47000e+01,  9.90000e+00,  1.07000e+01,  1.72000e+01,\n",
              "         1.61000e+01],\n",
              "       [ 5.79000e+01,  1.08200e+02,  1.49600e+02,  3.84000e-01,\n",
              "         2.27900e+02,  7.78600e+02,  1.43350e+03,  2.87250e+03,\n",
              "         4.49510e+03],\n",
              "       [ 4.60000e+01,  1.07500e+02,  1.47100e+02,  3.63000e-01,\n",
              "         2.06600e+02,  7.40500e+02,  1.35260e+03,  2.74130e+03,\n",
              "         4.44450e+03],\n",
              "       [ 6.98000e+01,  1.08900e+02,  1.52100e+02,  4.06000e-01,\n",
              "         2.49200e+02,  8.16600e+02,  1.51450e+03,  3.00360e+03,\n",
              "         4.54570e+03],\n",
              "       [ 8.80000e+01,  2.24700e+02,  3.65200e+02,  2.73000e+01,\n",
              "         6.87000e+02,  4.33100e+03,  1.07470e+04,  3.05890e+04,\n",
              "         5.98000e+04],\n",
              "       [ 4.74000e+01,  3.50000e+01,  2.98000e+01,  1.00000e+00,\n",
              "         2.41000e+01,  1.31000e+01,  9.70000e+00,  6.80000e+00,\n",
              "         5.40000e+00],\n",
              "       [ 7.00000e+00,  3.40000e+00,  0.00000e+00,  5.10000e+00,\n",
              "         1.90000e+00,  1.30000e+00,  2.50000e+00,  8.00000e-01,\n",
              "         1.80000e+00],\n",
              "       [ 2.05000e-01,  7.00000e-03,  1.70000e-02,  5.50000e-02,\n",
              "         9.40000e-02,  4.90000e-02,  5.70000e-02,  4.60000e-02,\n",
              "         1.10000e-02],\n",
              "       [ 3.40000e-02,  1.77400e+02,  2.34000e+01,  6.70000e+00,\n",
              "         2.52000e+01,  3.10000e+00,  2.67000e+01,  9.78000e+01,\n",
              "         2.83000e+01],\n",
              "       [ 1.67000e+02,  4.64000e+02,  1.50000e+01, -2.00000e+01,\n",
              "        -6.50000e+01, -1.10000e+02, -1.40000e+02, -1.95000e+02,\n",
              "        -2.00000e+02],\n",
              "       [ 0.00000e+00,  9.20000e+01,  1.00000e+00,  0.00000e+00,\n",
              "         1.00000e-02, -1.00000e+00, -1.00000e+00, -1.00000e+00,\n",
              "        -1.00000e+00],\n",
              "       [ 0.00000e+00,  0.00000e+00,  1.00000e+00,  0.00000e+00,\n",
              "         2.00000e+00,  7.90000e+01,  8.20000e+01,  2.70000e+01,\n",
              "         1.40000e+01],\n",
              "       [ 0.00000e+00,  0.00000e+00,  0.00000e+00,  0.00000e+00,\n",
              "         0.00000e+00,  1.00000e+00,  1.00000e+00,  1.00000e+00,\n",
              "         1.00000e+00],\n",
              "       [ 1.00000e+00,  0.00000e+00,  1.00000e+00,  0.00000e+00,\n",
              "         0.00000e+00,  1.00000e+00,  1.00000e+00,  1.00000e+00,\n",
              "         1.00000e+00]])"
            ]
          },
          "metadata": {
            "tags": []
          },
          "execution_count": 12
        }
      ]
    },
    {
      "cell_type": "code",
      "metadata": {
        "id": "3cAPQkS7cWIp",
        "colab_type": "code",
        "colab": {}
      },
      "source": [
        "np.savetxt('planets_new.txt', planets_new,\n",
        "           delimiter = ',')"
      ],
      "execution_count": 0,
      "outputs": []
    },
    {
      "cell_type": "markdown",
      "metadata": {
        "id": "mga4QWfWc_eJ",
        "colab_type": "text"
      },
      "source": [
        "This above saving process is human readable.We can also save a file which can be efficiently processed by NumPy.\n",
        "\n",
        "The extension of these types of files are .npy\n",
        "\n",
        "Showing below"
      ]
    },
    {
      "cell_type": "code",
      "metadata": {
        "id": "eBukR-GqcpmZ",
        "colab_type": "code",
        "colab": {}
      },
      "source": [
        "np.save(\"planets_new\", planets_new)"
      ],
      "execution_count": 0,
      "outputs": []
    },
    {
      "cell_type": "code",
      "metadata": {
        "id": "7UtlQAb3dabl",
        "colab_type": "code",
        "outputId": "4d3dc64c-8608-448c-e535-12df0071bb4a",
        "colab": {
          "base_uri": "https://localhost:8080/",
          "height": 119
        }
      },
      "source": [
        "!ls -lh"
      ],
      "execution_count": 0,
      "outputs": [
        {
          "output_type": "stream",
          "text": [
            "total 24K\n",
            "-rw-r--r-- 1 root root 1.6K Apr  2 15:14 planets_new.npy\n",
            "-rw-r--r-- 1 root root 4.5K Apr  2 15:11 planets_new.txt\n",
            "-rw-r--r-- 1 root root  255 Apr  2 14:42 planets_small.txt\n",
            "-rw-r--r-- 1 root root 1.5K Apr  2 14:42 planets.txt\n",
            "drwxr-xr-x 1 root root 4.0K Mar 18 16:23 sample_data\n"
          ],
          "name": "stdout"
        }
      ]
    },
    {
      "cell_type": "markdown",
      "metadata": {
        "id": "nAnT65M5lAgC",
        "colab_type": "text"
      },
      "source": [
        "NumPy can also store multi dimensions arrays in a file."
      ]
    },
    {
      "cell_type": "code",
      "metadata": {
        "id": "pm3MIlhFi3K9",
        "colab_type": "code",
        "colab": {}
      },
      "source": [
        "arr1 = np.random.rand(4000, 5)\n",
        "arr2 = np.random.rand(2000, 10)\n",
        "arr3 = np.random.rand(20, 10000000)"
      ],
      "execution_count": 0,
      "outputs": []
    },
    {
      "cell_type": "code",
      "metadata": {
        "id": "Q8KdhB15lRsZ",
        "colab_type": "code",
        "colab": {}
      },
      "source": [
        "np.savez(\"many_arrs\", arr1, arr2, arr3)"
      ],
      "execution_count": 0,
      "outputs": []
    },
    {
      "cell_type": "markdown",
      "metadata": {
        "id": "TEdM9ECFo9gZ",
        "colab_type": "text"
      },
      "source": [
        "We can load a file using NumPy."
      ]
    },
    {
      "cell_type": "code",
      "metadata": {
        "id": "w_pAGd0EnTv7",
        "colab_type": "code",
        "colab": {}
      },
      "source": [
        "arrs = np.load('many_arrs.npz')"
      ],
      "execution_count": 0,
      "outputs": []
    },
    {
      "cell_type": "code",
      "metadata": {
        "id": "0PwPoyfGpE5t",
        "colab_type": "code",
        "outputId": "95fea377-be1f-4206-8782-24b8d847d99d",
        "colab": {
          "base_uri": "https://localhost:8080/",
          "height": 34
        }
      },
      "source": [
        "type(arrs)"
      ],
      "execution_count": 0,
      "outputs": [
        {
          "output_type": "execute_result",
          "data": {
            "text/plain": [
              "numpy.lib.npyio.NpzFile"
            ]
          },
          "metadata": {
            "tags": []
          },
          "execution_count": 13
        }
      ]
    },
    {
      "cell_type": "code",
      "metadata": {
        "id": "3bgzj6ZSpnN2",
        "colab_type": "code",
        "outputId": "60901c74-edee-4943-ccfe-eb67750362af",
        "colab": {
          "base_uri": "https://localhost:8080/",
          "height": 34
        }
      },
      "source": [
        "arrs.files"
      ],
      "execution_count": 0,
      "outputs": [
        {
          "output_type": "execute_result",
          "data": {
            "text/plain": [
              "['arr_0', 'arr_1', 'arr_2']"
            ]
          },
          "metadata": {
            "tags": []
          },
          "execution_count": 14
        }
      ]
    },
    {
      "cell_type": "code",
      "metadata": {
        "id": "aM2N83LCptf4",
        "colab_type": "code",
        "outputId": "e888ae36-845c-4bc3-ac97-b00a0835aced",
        "colab": {
          "base_uri": "https://localhost:8080/",
          "height": 136
        }
      },
      "source": [
        "arrs['arr_0']"
      ],
      "execution_count": 0,
      "outputs": [
        {
          "output_type": "execute_result",
          "data": {
            "text/plain": [
              "array([[0.73439302, 0.41103188, 0.4869391 , 0.06111899, 0.86826554],\n",
              "       [0.93887987, 0.88612553, 0.10915058, 0.94278013, 0.70807791],\n",
              "       [0.25724949, 0.03536027, 0.00252645, 0.66134795, 0.59571113],\n",
              "       ...,\n",
              "       [0.66935552, 0.06138788, 0.53151244, 0.45534417, 0.79967474],\n",
              "       [0.33828853, 0.86332615, 0.53587869, 0.93618378, 0.81859597],\n",
              "       [0.47530516, 0.37834263, 0.14397057, 0.13253311, 0.98240419]])"
            ]
          },
          "metadata": {
            "tags": []
          },
          "execution_count": 17
        }
      ]
    },
    {
      "cell_type": "code",
      "metadata": {
        "id": "7UgBY1AFpz1s",
        "colab_type": "code",
        "outputId": "f94bd479-ca5c-4ee4-88b7-c8bc96c8623d",
        "colab": {
          "base_uri": "https://localhost:8080/",
          "height": 34
        }
      },
      "source": [
        "arrs['arr_2'].shape"
      ],
      "execution_count": 0,
      "outputs": [
        {
          "output_type": "execute_result",
          "data": {
            "text/plain": [
              "(20, 10000000)"
            ]
          },
          "metadata": {
            "tags": []
          },
          "execution_count": 18
        }
      ]
    },
    {
      "cell_type": "code",
      "metadata": {
        "id": "XNtH2_l7qApH",
        "colab_type": "code",
        "colab": {}
      },
      "source": [
        "np.savez_compressed('many_arrs_compressed',\n",
        "                    arr1, arr2, arr3)"
      ],
      "execution_count": 0,
      "outputs": []
    },
    {
      "cell_type": "code",
      "metadata": {
        "id": "PyHwNz8vrcua",
        "colab_type": "code",
        "outputId": "ebae6a73-e860-4479-b580-555fc8bcbebb",
        "colab": {
          "base_uri": "https://localhost:8080/",
          "height": 153
        }
      },
      "source": [
        "!ls -lh"
      ],
      "execution_count": 0,
      "outputs": [
        {
          "output_type": "stream",
          "text": [
            "total 2.9G\n",
            "-rw-r--r-- 1 root root 1.5G Apr  2 16:17 many_arrs_compressed.npz\n",
            "-rw-r--r-- 1 root root 1.5G Apr  2 16:06 many_arrs.npz\n",
            "-rw-r--r-- 1 root root 1.6K Apr  2 15:14 planets_new.npy\n",
            "-rw-r--r-- 1 root root 4.5K Apr  2 15:11 planets_new.txt\n",
            "-rw-r--r-- 1 root root  255 Apr  2 14:42 planets_small.txt\n",
            "-rw-r--r-- 1 root root 1.5K Apr  2 14:42 planets.txt\n",
            "drwxr-xr-x 1 root root 4.0K Mar 18 16:23 sample_data\n"
          ],
          "name": "stdout"
        }
      ]
    },
    {
      "cell_type": "code",
      "metadata": {
        "id": "ExTrTDIrtI99",
        "colab_type": "code",
        "colab": {}
      },
      "source": [
        "arr4 = np.zeros((10000, 10000))"
      ],
      "execution_count": 0,
      "outputs": []
    },
    {
      "cell_type": "code",
      "metadata": {
        "id": "hUhfKOHwtWpi",
        "colab_type": "code",
        "colab": {}
      },
      "source": [
        "np.savez(\"zeros\", arr4)"
      ],
      "execution_count": 0,
      "outputs": []
    },
    {
      "cell_type": "code",
      "metadata": {
        "id": "nqur2DIftesV",
        "colab_type": "code",
        "colab": {}
      },
      "source": [
        "np.savez_compressed(\"zeros_compressed\", arr4)"
      ],
      "execution_count": 0,
      "outputs": []
    },
    {
      "cell_type": "code",
      "metadata": {
        "id": "1jxbf3d_tkgu",
        "colab_type": "code",
        "outputId": "8f2fbf38-2e9c-4605-fb52-bed8ace11664",
        "colab": {
          "base_uri": "https://localhost:8080/",
          "height": 187
        }
      },
      "source": [
        "!ls -lh+"
      ],
      "execution_count": 0,
      "outputs": [
        {
          "output_type": "stream",
          "text": [
            "total 3.7G\n",
            "-rw-r--r-- 1 root root 1.5G Apr  2 16:17 many_arrs_compressed.npz\n",
            "-rw-r--r-- 1 root root 1.5G Apr  2 16:06 many_arrs.npz\n",
            "-rw-r--r-- 1 root root 1.6K Apr  2 15:14 planets_new.npy\n",
            "-rw-r--r-- 1 root root 4.5K Apr  2 15:11 planets_new.txt\n",
            "-rw-r--r-- 1 root root  255 Apr  2 14:42 planets_small.txt\n",
            "-rw-r--r-- 1 root root 1.5K Apr  2 14:42 planets.txt\n",
            "drwxr-xr-x 1 root root 4.0K Mar 18 16:23 sample_data\n",
            "-rw-r--r-- 1 root root 760K Apr  2 16:25 zeros_compressed.npz\n",
            "-rw-r--r-- 1 root root 763M Apr  2 16:25 zeros.npz\n"
          ],
          "name": "stdout"
        }
      ]
    },
    {
      "cell_type": "code",
      "metadata": {
        "id": "TcaJ79IKtmYN",
        "colab_type": "code",
        "colab": {}
      },
      "source": [
        ""
      ],
      "execution_count": 0,
      "outputs": []
    },
    {
      "cell_type": "markdown",
      "metadata": {
        "id": "lh5Kl4VvuXtB",
        "colab_type": "text"
      },
      "source": [
        ""
      ]
    },
    {
      "cell_type": "markdown",
      "metadata": {
        "id": "WF6RcbXNuZ2X",
        "colab_type": "text"
      },
      "source": [
        "# NumPy for Stats"
      ]
    },
    {
      "cell_type": "code",
      "metadata": {
        "id": "rEqkKqmquekr",
        "colab_type": "code",
        "colab": {}
      },
      "source": [
        "arr = np.random.rand(100000,)"
      ],
      "execution_count": 0,
      "outputs": []
    },
    {
      "cell_type": "code",
      "metadata": {
        "id": "QVPPcQdRv6fJ",
        "colab_type": "code",
        "colab": {
          "base_uri": "https://localhost:8080/",
          "height": 34
        },
        "outputId": "9e009474-ba53-45c8-cb74-709de0eeff4b"
      },
      "source": [
        "#find minimum in the array.\n",
        "np.amin(arr)"
      ],
      "execution_count": 3,
      "outputs": [
        {
          "output_type": "execute_result",
          "data": {
            "text/plain": [
              "2.108194081285042e-05"
            ]
          },
          "metadata": {
            "tags": []
          },
          "execution_count": 3
        }
      ]
    },
    {
      "cell_type": "code",
      "metadata": {
        "id": "hm2j0Caav_nM",
        "colab_type": "code",
        "colab": {
          "base_uri": "https://localhost:8080/",
          "height": 34
        },
        "outputId": "76c61011-cd72-42fc-b2eb-28bfb50939fa"
      },
      "source": [
        "#find max in the array\n",
        "np.amax(arr)"
      ],
      "execution_count": 4,
      "outputs": [
        {
          "output_type": "execute_result",
          "data": {
            "text/plain": [
              "0.9999920474231536"
            ]
          },
          "metadata": {
            "tags": []
          },
          "execution_count": 4
        }
      ]
    },
    {
      "cell_type": "code",
      "metadata": {
        "id": "fkPW8_NNwDX8",
        "colab_type": "code",
        "colab": {
          "base_uri": "https://localhost:8080/",
          "height": 34
        },
        "outputId": "f97407a9-3923-4a2b-8911-b0965ae82cb7"
      },
      "source": [
        "#Find mean\n",
        "np.mean(arr)"
      ],
      "execution_count": 5,
      "outputs": [
        {
          "output_type": "execute_result",
          "data": {
            "text/plain": [
              "0.5008370496631501"
            ]
          },
          "metadata": {
            "tags": []
          },
          "execution_count": 5
        }
      ]
    },
    {
      "cell_type": "code",
      "metadata": {
        "id": "tEWCdEg1wHMJ",
        "colab_type": "code",
        "colab": {
          "base_uri": "https://localhost:8080/",
          "height": 34
        },
        "outputId": "14dcf8d9-87ca-4dfe-9682-356b897d8bc8"
      },
      "source": [
        "#FInd Variance\n",
        "np.var(arr)"
      ],
      "execution_count": 6,
      "outputs": [
        {
          "output_type": "execute_result",
          "data": {
            "text/plain": [
              "0.08304246354063567"
            ]
          },
          "metadata": {
            "tags": []
          },
          "execution_count": 6
        }
      ]
    },
    {
      "cell_type": "code",
      "metadata": {
        "id": "bm9DHhoywQ9N",
        "colab_type": "code",
        "colab": {
          "base_uri": "https://localhost:8080/",
          "height": 34
        },
        "outputId": "b23f8ee9-5e76-42cf-86c4-007b92011095"
      },
      "source": [
        "#Find STD\n",
        "np.std(arr)"
      ],
      "execution_count": 7,
      "outputs": [
        {
          "output_type": "execute_result",
          "data": {
            "text/plain": [
              "0.28817089294485604"
            ]
          },
          "metadata": {
            "tags": []
          },
          "execution_count": 7
        }
      ]
    },
    {
      "cell_type": "code",
      "metadata": {
        "id": "dMQ3n9TkwYfo",
        "colab_type": "code",
        "colab": {
          "base_uri": "https://localhost:8080/",
          "height": 34
        },
        "outputId": "2b224ac4-31b3-4d0b-cb30-bdaa94fb4362"
      },
      "source": [
        "#Find median\n",
        "np.median(arr)"
      ],
      "execution_count": 8,
      "outputs": [
        {
          "output_type": "execute_result",
          "data": {
            "text/plain": [
              "0.5014062405394335"
            ]
          },
          "metadata": {
            "tags": []
          },
          "execution_count": 8
        }
      ]
    },
    {
      "cell_type": "code",
      "metadata": {
        "id": "Zr_bCjN9wf25",
        "colab_type": "code",
        "colab": {
          "base_uri": "https://localhost:8080/",
          "height": 34
        },
        "outputId": "c3e3ad62-9623-4b52-d82b-c32381e82a4f"
      },
      "source": [
        "#Find percentile\n",
        "np.percentile(arr, 50)"
      ],
      "execution_count": 9,
      "outputs": [
        {
          "output_type": "execute_result",
          "data": {
            "text/plain": [
              "0.5014062405394335"
            ]
          },
          "metadata": {
            "tags": []
          },
          "execution_count": 9
        }
      ]
    },
    {
      "cell_type": "code",
      "metadata": {
        "id": "zN8DLVLTwrl7",
        "colab_type": "code",
        "colab": {
          "base_uri": "https://localhost:8080/",
          "height": 34
        },
        "outputId": "fa21f830-f65e-49dc-9da7-aa5b9b0aa329"
      },
      "source": [
        "np.percentile(arr, 10)"
      ],
      "execution_count": 10,
      "outputs": [
        {
          "output_type": "execute_result",
          "data": {
            "text/plain": [
              "0.1004682999992114"
            ]
          },
          "metadata": {
            "tags": []
          },
          "execution_count": 10
        }
      ]
    },
    {
      "cell_type": "code",
      "metadata": {
        "id": "oDxL58mxwzAn",
        "colab_type": "code",
        "colab": {
          "base_uri": "https://localhost:8080/",
          "height": 34
        },
        "outputId": "039f08fd-078b-4204-edb8-4e4c84afce25"
      },
      "source": [
        "np.percentile(arr, 90)"
      ],
      "execution_count": 11,
      "outputs": [
        {
          "output_type": "execute_result",
          "data": {
            "text/plain": [
              "0.8995597360863464"
            ]
          },
          "metadata": {
            "tags": []
          },
          "execution_count": 11
        }
      ]
    },
    {
      "cell_type": "markdown",
      "metadata": {
        "id": "hCF_fNA7yfqf",
        "colab_type": "text"
      },
      "source": [
        "One way to find IQR"
      ]
    },
    {
      "cell_type": "code",
      "metadata": {
        "id": "MfkqxBtkw0T4",
        "colab_type": "code",
        "colab": {
          "base_uri": "https://localhost:8080/",
          "height": 51
        },
        "outputId": "d1722f02-a26d-4f25-c97a-9652272291f9"
      },
      "source": [
        "%%time\n",
        "iqr = np.percentile(arr, 75) - np.percentile(arr, 25)"
      ],
      "execution_count": 12,
      "outputs": [
        {
          "output_type": "stream",
          "text": [
            "CPU times: user 2.86 ms, sys: 951 µs, total: 3.81 ms\n",
            "Wall time: 3.91 ms\n"
          ],
          "name": "stdout"
        }
      ]
    },
    {
      "cell_type": "code",
      "metadata": {
        "id": "ByIGBBqTzDYg",
        "colab_type": "code",
        "colab": {
          "base_uri": "https://localhost:8080/",
          "height": 34
        },
        "outputId": "ba5f1605-089e-4a53-8c72-9927401084fa"
      },
      "source": [
        "iqr"
      ],
      "execution_count": 13,
      "outputs": [
        {
          "output_type": "execute_result",
          "data": {
            "text/plain": [
              "0.49796087505790687"
            ]
          },
          "metadata": {
            "tags": []
          },
          "execution_count": 13
        }
      ]
    },
    {
      "cell_type": "markdown",
      "metadata": {
        "id": "rG29mJkhyjJg",
        "colab_type": "text"
      },
      "source": [
        "Another way to find IQR.This process can save some times."
      ]
    },
    {
      "cell_type": "code",
      "metadata": {
        "id": "XFTxD2qex0Yb",
        "colab_type": "code",
        "colab": {
          "base_uri": "https://localhost:8080/",
          "height": 51
        },
        "outputId": "1b1c1a89-4909-4405-d081-b5b0f2081784"
      },
      "source": [
        "%%time\n",
        "quartile = np.percentile(arr, (25, 75))\n",
        "iqr1 = quartile[1] - quartile[0]"
      ],
      "execution_count": 14,
      "outputs": [
        {
          "output_type": "stream",
          "text": [
            "CPU times: user 3.21 ms, sys: 733 µs, total: 3.94 ms\n",
            "Wall time: 3.5 ms\n"
          ],
          "name": "stdout"
        }
      ]
    },
    {
      "cell_type": "code",
      "metadata": {
        "id": "m1QMW005ytfm",
        "colab_type": "code",
        "colab": {
          "base_uri": "https://localhost:8080/",
          "height": 34
        },
        "outputId": "f9060800-e69c-458c-aec1-801f93d1c58a"
      },
      "source": [
        "iqr1"
      ],
      "execution_count": 15,
      "outputs": [
        {
          "output_type": "execute_result",
          "data": {
            "text/plain": [
              "0.49796087505790687"
            ]
          },
          "metadata": {
            "tags": []
          },
          "execution_count": 15
        }
      ]
    },
    {
      "cell_type": "code",
      "metadata": {
        "id": "Igf9CwMZzHvm",
        "colab_type": "code",
        "colab": {
          "base_uri": "https://localhost:8080/",
          "height": 34
        },
        "outputId": "a181f0a5-7c87-4062-ce80-89aa43de75b2"
      },
      "source": [
        "print(quartile)"
      ],
      "execution_count": 16,
      "outputs": [
        {
          "output_type": "stream",
          "text": [
            "[0.25239105 0.75035192]\n"
          ],
          "name": "stdout"
        }
      ]
    },
    {
      "cell_type": "code",
      "metadata": {
        "id": "m-UfjR17nZG5",
        "colab_type": "code",
        "colab": {
          "base_uri": "https://localhost:8080/",
          "height": 51
        },
        "outputId": "a1aefada-2aaa-4c58-adf2-b34dbbd55ece"
      },
      "source": [
        "# Compute z score\n",
        "z_score = (arr - np.mean(arr)) / np.std(arr)\n",
        "z_score"
      ],
      "execution_count": 17,
      "outputs": [
        {
          "output_type": "execute_result",
          "data": {
            "text/plain": [
              "array([-1.60565298,  0.46215943,  1.20251614, ..., -1.13688069,\n",
              "       -0.13376939,  1.00327503])"
            ]
          },
          "metadata": {
            "tags": []
          },
          "execution_count": 17
        }
      ]
    },
    {
      "cell_type": "code",
      "metadata": {
        "id": "fF4lRPY6q0u3",
        "colab_type": "code",
        "colab": {
          "base_uri": "https://localhost:8080/",
          "height": 102
        },
        "outputId": "1d081705-a9b3-4e2d-86ac-9fc8f73346b2"
      },
      "source": [
        "#We can create histogram through numpy\n",
        "np.histogram(arr)"
      ],
      "execution_count": 18,
      "outputs": [
        {
          "output_type": "execute_result",
          "data": {
            "text/plain": [
              "(array([ 9953,  9889,  9868, 10136, 10031, 10065, 10030,  9984, 10088,\n",
              "         9956]),\n",
              " array([2.10819408e-05, 1.00018178e-01, 2.00015275e-01, 3.00012372e-01,\n",
              "        4.00009468e-01, 5.00006565e-01, 6.00003661e-01, 7.00000758e-01,\n",
              "        7.99997854e-01, 8.99994951e-01, 9.99992047e-01]))"
            ]
          },
          "metadata": {
            "tags": []
          },
          "execution_count": 18
        }
      ]
    },
    {
      "cell_type": "code",
      "metadata": {
        "id": "peKcsbD0rmyy",
        "colab_type": "code",
        "colab": {
          "base_uri": "https://localhost:8080/",
          "height": 68
        },
        "outputId": "8d61a64e-bcef-4432-c678-b1fdc797b672"
      },
      "source": [
        "np.histogram(arr, bins= 5)"
      ],
      "execution_count": 19,
      "outputs": [
        {
          "output_type": "execute_result",
          "data": {
            "text/plain": [
              "(array([19842, 20004, 20096, 20014, 20044]),\n",
              " array([2.10819408e-05, 2.00015275e-01, 4.00009468e-01, 6.00003661e-01,\n",
              "        7.99997854e-01, 9.99992047e-01]))"
            ]
          },
          "metadata": {
            "tags": []
          },
          "execution_count": 19
        }
      ]
    },
    {
      "cell_type": "code",
      "metadata": {
        "id": "a443mMezr4mX",
        "colab_type": "code",
        "colab": {
          "base_uri": "https://localhost:8080/",
          "height": 34
        },
        "outputId": "7d079d34-c5e1-48f5-d261-7b7b8b2e1e8f"
      },
      "source": [
        "np.histogram(arr, bins = [0, 0.25, 0.50, 0.75, 1])"
      ],
      "execution_count": 20,
      "outputs": [
        {
          "output_type": "execute_result",
          "data": {
            "text/plain": [
              "(array([24746, 25130, 25098, 25026]), array([0.  , 0.25, 0.5 , 0.75, 1.  ]))"
            ]
          },
          "metadata": {
            "tags": []
          },
          "execution_count": 20
        }
      ]
    },
    {
      "cell_type": "code",
      "metadata": {
        "id": "rpuispYssE9Z",
        "colab_type": "code",
        "colab": {
          "base_uri": "https://localhost:8080/",
          "height": 34
        },
        "outputId": "84eacebe-17b3-4f3a-923d-fa1968532656"
      },
      "source": [
        "#Mapping the points with bin numbers or in which bins range the numbers are lying\n",
        "bins = [0, 0.25, 0.50, 0.75, 1]\n",
        "np.digitize(arr, bins)\n"
      ],
      "execution_count": 21,
      "outputs": [
        {
          "output_type": "execute_result",
          "data": {
            "text/plain": [
              "array([1, 3, 4, ..., 1, 2, 4])"
            ]
          },
          "metadata": {
            "tags": []
          },
          "execution_count": 21
        }
      ]
    },
    {
      "cell_type": "code",
      "metadata": {
        "id": "nO_NwMnysn3V",
        "colab_type": "code",
        "colab": {
          "base_uri": "https://localhost:8080/",
          "height": 34
        },
        "outputId": "7cf7f3e5-c3cc-4918-c22d-7fc0fe833f6b"
      },
      "source": [
        "# example of points and bins mapping\n",
        "\n",
        "arr1 = [2, 2, 4, 1, 8, 8, 6, 9, 2, 3, 1, 0, 10]\n",
        "bins = [0, 6, 10]\n",
        "np.digitize(arr1, bins)"
      ],
      "execution_count": 23,
      "outputs": [
        {
          "output_type": "execute_result",
          "data": {
            "text/plain": [
              "array([1, 1, 1, 1, 2, 2, 2, 2, 1, 1, 1, 1, 3])"
            ]
          },
          "metadata": {
            "tags": []
          },
          "execution_count": 23
        }
      ]
    },
    {
      "cell_type": "markdown",
      "metadata": {
        "id": "z3xqkDssthtS",
        "colab_type": "text"
      },
      "source": [
        "In the above example 2 lies in 0-6 bin, 8 lies in 6-10 bin and so on"
      ]
    },
    {
      "cell_type": "markdown",
      "metadata": {
        "id": "2-_ZVSyBtwLF",
        "colab_type": "text"
      },
      "source": [
        "We have seen 6 lies in second bin i.e in the normal case the bins include the left side but exclude the right side."
      ]
    },
    {
      "cell_type": "markdown",
      "metadata": {
        "id": "sGVdowSGuKJm",
        "colab_type": "text"
      },
      "source": [
        "By the below technique right side is also got included."
      ]
    },
    {
      "cell_type": "code",
      "metadata": {
        "id": "eoYnHSwRtdUZ",
        "colab_type": "code",
        "colab": {
          "base_uri": "https://localhost:8080/",
          "height": 34
        },
        "outputId": "8c2c96d8-7eb1-44fd-9972-555345db119d"
      },
      "source": [
        "np.digitize(arr1, bins, right=True)"
      ],
      "execution_count": 25,
      "outputs": [
        {
          "output_type": "execute_result",
          "data": {
            "text/plain": [
              "array([1, 1, 1, 1, 2, 2, 1, 2, 1, 1, 1, 0, 2])"
            ]
          },
          "metadata": {
            "tags": []
          },
          "execution_count": 25
        }
      ]
    },
    {
      "cell_type": "code",
      "metadata": {
        "id": "o6DzukFduIcQ",
        "colab_type": "code",
        "colab": {}
      },
      "source": [
        "arr1 = np.random.randint(50, 80, 100) #weight\n",
        "arr2 = np.random.randint(150, 185, 100) #height\n",
        "arr3 = np.random.randint(17, 22, 100) #age"
      ],
      "execution_count": 0,
      "outputs": []
    },
    {
      "cell_type": "markdown",
      "metadata": {
        "id": "lU2ZPe05vI3Z",
        "colab_type": "text"
      },
      "source": [
        "We can concatenate all these arrays."
      ]
    },
    {
      "cell_type": "code",
      "metadata": {
        "id": "uoXtT0YPu-AA",
        "colab_type": "code",
        "colab": {
          "base_uri": "https://localhost:8080/",
          "height": 425
        },
        "outputId": "f16ee8db-2f1c-4c50-913b-99578a4e0575"
      },
      "source": [
        "arr_concat = np.concatenate((arr1, arr2, arr3))\n",
        "arr_concat"
      ],
      "execution_count": 31,
      "outputs": [
        {
          "output_type": "execute_result",
          "data": {
            "text/plain": [
              "array([ 71,  77,  65,  67,  71,  51,  67,  69,  51,  52,  69,  57,  56,\n",
              "        51,  68,  76,  73,  60,  63,  64,  67,  70,  61,  70,  73,  56,\n",
              "        73,  73,  54,  53,  79,  73,  75,  70,  65,  77,  53,  72,  69,\n",
              "        70,  75,  59,  53,  79,  72,  50,  54,  66,  58,  75,  55,  58,\n",
              "        52,  65,  51,  69,  74,  60,  63,  70,  70,  79,  64,  53,  67,\n",
              "        69,  63,  73,  60,  64,  63,  55,  54,  70,  74,  60,  72,  57,\n",
              "        74,  79,  63,  73,  63,  62,  55,  56,  59,  64,  62,  76,  58,\n",
              "        72,  77,  56,  51,  69,  74,  69,  64,  72, 163, 151, 180, 178,\n",
              "       177, 174, 161, 151, 153, 183, 178, 170, 167, 150, 153, 155, 176,\n",
              "       182, 170, 151, 154, 166, 175, 176, 150, 166, 158, 172, 170, 154,\n",
              "       162, 150, 171, 184, 166, 177, 184, 169, 162, 182, 173, 184, 161,\n",
              "       177, 174, 167, 176, 164, 166, 163, 170, 167, 157, 173, 157, 163,\n",
              "       160, 177, 150, 176, 175, 159, 177, 175, 166, 181, 170, 177, 154,\n",
              "       157, 165, 173, 163, 175, 156, 166, 176, 183, 159, 154, 166, 152,\n",
              "       158, 174, 175, 180, 155, 173, 157, 156, 183, 163, 153, 172, 176,\n",
              "       178, 183, 176, 156, 167,  17,  21,  20,  21,  19,  19,  20,  17,\n",
              "        17,  20,  21,  20,  17,  17,  18,  19,  19,  20,  21,  21,  17,\n",
              "        19,  21,  21,  19,  18,  17,  17,  21,  18,  20,  19,  18,  17,\n",
              "        19,  20,  21,  20,  20,  19,  21,  20,  18,  18,  19,  19,  20,\n",
              "        20,  19,  19,  21,  18,  19,  20,  19,  17,  19,  19,  20,  20,\n",
              "        19,  17,  21,  18,  19,  19,  21,  20,  17,  17,  18,  21,  17,\n",
              "        18,  19,  17,  17,  18,  19,  21,  18,  20,  18,  17,  18,  21,\n",
              "        20,  17,  19,  17,  19,  18,  21,  19,  18,  20,  19,  20,  20,\n",
              "        20])"
            ]
          },
          "metadata": {
            "tags": []
          },
          "execution_count": 31
        }
      ]
    },
    {
      "cell_type": "code",
      "metadata": {
        "id": "1NX7fusYvRM8",
        "colab_type": "code",
        "colab": {
          "base_uri": "https://localhost:8080/",
          "height": 34
        },
        "outputId": "36414d8d-798f-4e67-e43b-6a3cb9675b1b"
      },
      "source": [
        "arr_concat.shape"
      ],
      "execution_count": 32,
      "outputs": [
        {
          "output_type": "execute_result",
          "data": {
            "text/plain": [
              "(300,)"
            ]
          },
          "metadata": {
            "tags": []
          },
          "execution_count": 32
        }
      ]
    },
    {
      "cell_type": "markdown",
      "metadata": {
        "id": "xraEEVPDvowb",
        "colab_type": "text"
      },
      "source": [
        "Now in this case there is a single list where all the values are one after another.\n",
        "\n",
        "But we need all these values in a tabular format."
      ]
    },
    {
      "cell_type": "code",
      "metadata": {
        "id": "UqAvindOvnnI",
        "colab_type": "code",
        "colab": {
          "base_uri": "https://localhost:8080/",
          "height": 34
        },
        "outputId": "07cec65b-1b84-41df-f855-54ab16f93346"
      },
      "source": [
        "np.vstack((arr1, arr2, arr3)).shape"
      ],
      "execution_count": 35,
      "outputs": [
        {
          "output_type": "execute_result",
          "data": {
            "text/plain": [
              "(3, 100)"
            ]
          },
          "metadata": {
            "tags": []
          },
          "execution_count": 35
        }
      ]
    },
    {
      "cell_type": "markdown",
      "metadata": {
        "id": "XXVbSVz-wXaY",
        "colab_type": "text"
      },
      "source": [
        "By using vstack or vertically stack above, we can create a matrix where all the data are sorted in 3 rows and 100 columns each"
      ]
    },
    {
      "cell_type": "code",
      "metadata": {
        "id": "kCK-_FH7wNgR",
        "colab_type": "code",
        "colab": {}
      },
      "source": [
        "arr_2d = np.vstack((arr1, arr2, arr3))"
      ],
      "execution_count": 0,
      "outputs": []
    },
    {
      "cell_type": "markdown",
      "metadata": {
        "id": "ZYTeKavHw9sg",
        "colab_type": "text"
      },
      "source": [
        "Now we can solve some specific questions related to original datasets i,e, arr1, arr2 and so on"
      ]
    },
    {
      "cell_type": "code",
      "metadata": {
        "id": "OlSpUZ9jw6eJ",
        "colab_type": "code",
        "colab": {
          "base_uri": "https://localhost:8080/",
          "height": 34
        },
        "outputId": "7c5aa9b2-809b-4863-f6a7-ac3bfe60db5d"
      },
      "source": [
        "# Finding the minimum of specific rows across columns\n",
        "np.amin(arr_2d, axis = 1)"
      ],
      "execution_count": 39,
      "outputs": [
        {
          "output_type": "execute_result",
          "data": {
            "text/plain": [
              "array([ 50, 150,  17])"
            ]
          },
          "metadata": {
            "tags": []
          },
          "execution_count": 39
        }
      ]
    },
    {
      "cell_type": "markdown",
      "metadata": {
        "id": "XK3cAZPosjFX",
        "colab_type": "text"
      },
      "source": [
        "# Rules of Statistics"
      ]
    },
    {
      "cell_type": "markdown",
      "metadata": {
        "id": "cufTcN0E6otr",
        "colab_type": "text"
      },
      "source": [
        "### Mean substracted array has zero mean"
      ]
    },
    {
      "cell_type": "code",
      "metadata": {
        "id": "zhkif1kM1TJD",
        "colab_type": "code",
        "colab": {}
      },
      "source": [
        "arr = np.random.rand(1000)"
      ],
      "execution_count": 0,
      "outputs": []
    },
    {
      "cell_type": "code",
      "metadata": {
        "id": "Y_pess0x7bNs",
        "colab_type": "code",
        "colab": {}
      },
      "source": [
        "mean = np.mean(arr)"
      ],
      "execution_count": 0,
      "outputs": []
    },
    {
      "cell_type": "code",
      "metadata": {
        "id": "-J5j10F-7drT",
        "colab_type": "code",
        "colab": {}
      },
      "source": [
        "arr1 = arr - mean"
      ],
      "execution_count": 0,
      "outputs": []
    },
    {
      "cell_type": "code",
      "metadata": {
        "id": "xLA9EnYV7hBR",
        "colab_type": "code",
        "colab": {
          "base_uri": "https://localhost:8080/",
          "height": 34
        },
        "outputId": "723c213c-0e63-40a7-e3db-0729e1743ab6"
      },
      "source": [
        "np.mean(arr1)"
      ],
      "execution_count": 6,
      "outputs": [
        {
          "output_type": "execute_result",
          "data": {
            "text/plain": [
              "2.3092638912203255e-17"
            ]
          },
          "metadata": {
            "tags": []
          },
          "execution_count": 6
        }
      ]
    },
    {
      "cell_type": "markdown",
      "metadata": {
        "id": "G3eol2av7rrH",
        "colab_type": "text"
      },
      "source": [
        "### Computing mean with smaller set of values"
      ]
    },
    {
      "cell_type": "code",
      "metadata": {
        "id": "Zzy5ikVk7jWC",
        "colab_type": "code",
        "colab": {}
      },
      "source": [
        "arr = np.random.rand(1000)"
      ],
      "execution_count": 0,
      "outputs": []
    },
    {
      "cell_type": "code",
      "metadata": {
        "id": "tNyx9rFt1CVS",
        "colab_type": "code",
        "colab": {}
      },
      "source": [
        "for k in range(1, 50):\n",
        "  arr1 = arr[0:k]\n",
        "  print(k, np.mean(arr1))"
      ],
      "execution_count": 0,
      "outputs": []
    },
    {
      "cell_type": "code",
      "metadata": {
        "id": "nuWJ-Yfs1sP9",
        "colab_type": "code",
        "colab": {}
      },
      "source": [
        "means = np.cumsum(arr)/np.arange(1, 1001)"
      ],
      "execution_count": 0,
      "outputs": []
    },
    {
      "cell_type": "code",
      "metadata": {
        "id": "iqveVkbq16Lk",
        "colab_type": "code",
        "colab": {
          "base_uri": "https://localhost:8080/",
          "height": 68
        },
        "outputId": "96296337-2984-4567-f9cf-459f94e657ed"
      },
      "source": [
        "means[0:15]"
      ],
      "execution_count": 9,
      "outputs": [
        {
          "output_type": "execute_result",
          "data": {
            "text/plain": [
              "array([0.32072819, 0.44151423, 0.50067646, 0.48131028, 0.53572811,\n",
              "       0.50609785, 0.47206634, 0.43940288, 0.4435453 , 0.41584294,\n",
              "       0.38691597, 0.42453162, 0.39988108, 0.3926617 , 0.41020834])"
            ]
          },
          "metadata": {
            "tags": []
          },
          "execution_count": 9
        }
      ]
    },
    {
      "cell_type": "markdown",
      "metadata": {
        "id": "wMW4l7ju2gu4",
        "colab_type": "text"
      },
      "source": [
        "### Effects of outliers on mean and median"
      ]
    },
    {
      "cell_type": "code",
      "metadata": {
        "id": "4VhwDSV_2Z57",
        "colab_type": "code",
        "colab": {
          "base_uri": "https://localhost:8080/",
          "height": 34
        },
        "outputId": "e75a021a-e1a8-4418-c110-c5f0eb9d8890"
      },
      "source": [
        "arr = np.random.randint(1, 100, 100)\n",
        "arr.shape"
      ],
      "execution_count": 29,
      "outputs": [
        {
          "output_type": "execute_result",
          "data": {
            "text/plain": [
              "(100,)"
            ]
          },
          "metadata": {
            "tags": []
          },
          "execution_count": 29
        }
      ]
    },
    {
      "cell_type": "code",
      "metadata": {
        "id": "PMAMG5pE3AaO",
        "colab_type": "code",
        "colab": {
          "base_uri": "https://localhost:8080/",
          "height": 34
        },
        "outputId": "bf5a249a-e6e4-4218-fb6c-666389d5a114"
      },
      "source": [
        "np.mean(arr)"
      ],
      "execution_count": 30,
      "outputs": [
        {
          "output_type": "execute_result",
          "data": {
            "text/plain": [
              "48.51"
            ]
          },
          "metadata": {
            "tags": []
          },
          "execution_count": 30
        }
      ]
    },
    {
      "cell_type": "code",
      "metadata": {
        "id": "HERh-qxd3BGD",
        "colab_type": "code",
        "colab": {
          "base_uri": "https://localhost:8080/",
          "height": 34
        },
        "outputId": "4fb02d02-2b9e-48ce-dd7d-737c76ed145f"
      },
      "source": [
        "np.median(arr)"
      ],
      "execution_count": 31,
      "outputs": [
        {
          "output_type": "execute_result",
          "data": {
            "text/plain": [
              "49.0"
            ]
          },
          "metadata": {
            "tags": []
          },
          "execution_count": 31
        }
      ]
    },
    {
      "cell_type": "code",
      "metadata": {
        "id": "pzJ22-Ot3Jly",
        "colab_type": "code",
        "colab": {}
      },
      "source": [
        "arr = np.append(arr, [1000, 2000])"
      ],
      "execution_count": 0,
      "outputs": []
    },
    {
      "cell_type": "code",
      "metadata": {
        "id": "IRkj_GgN3O5y",
        "colab_type": "code",
        "colab": {
          "base_uri": "https://localhost:8080/",
          "height": 34
        },
        "outputId": "b7e8dc8a-a3b3-48a0-c2e8-f02283359ec3"
      },
      "source": [
        "arr.shape"
      ],
      "execution_count": 33,
      "outputs": [
        {
          "output_type": "execute_result",
          "data": {
            "text/plain": [
              "(102,)"
            ]
          },
          "metadata": {
            "tags": []
          },
          "execution_count": 33
        }
      ]
    },
    {
      "cell_type": "code",
      "metadata": {
        "id": "rE3pH8um3QWU",
        "colab_type": "code",
        "colab": {
          "base_uri": "https://localhost:8080/",
          "height": 34
        },
        "outputId": "e44e1e77-21f0-438c-9df9-5a5a0ab08699"
      },
      "source": [
        "np.mean(arr) #As mean is very sensitive to outliers so the mean has changed significantly."
      ],
      "execution_count": 36,
      "outputs": [
        {
          "output_type": "execute_result",
          "data": {
            "text/plain": [
              "76.97058823529412"
            ]
          },
          "metadata": {
            "tags": []
          },
          "execution_count": 36
        }
      ]
    },
    {
      "cell_type": "code",
      "metadata": {
        "id": "brHoCT0p3rdg",
        "colab_type": "code",
        "colab": {
          "base_uri": "https://localhost:8080/",
          "height": 34
        },
        "outputId": "8388cc05-5de9-407f-acb4-828b1135b039"
      },
      "source": [
        "np.median(arr)"
      ],
      "execution_count": 37,
      "outputs": [
        {
          "output_type": "execute_result",
          "data": {
            "text/plain": [
              "50.5"
            ]
          },
          "metadata": {
            "tags": []
          },
          "execution_count": 37
        }
      ]
    },
    {
      "cell_type": "markdown",
      "metadata": {
        "id": "HR8iCdLI3--C",
        "colab_type": "text"
      },
      "source": [
        "### Effect of scaling arrays on mean and median."
      ]
    },
    {
      "cell_type": "code",
      "metadata": {
        "id": "wSAYIGHH3s_E",
        "colab_type": "code",
        "colab": {}
      },
      "source": [
        "arr = np.random.rand(100)"
      ],
      "execution_count": 0,
      "outputs": []
    },
    {
      "cell_type": "code",
      "metadata": {
        "id": "B3uHzTUp4Hhw",
        "colab_type": "code",
        "colab": {
          "base_uri": "https://localhost:8080/",
          "height": 34
        },
        "outputId": "e01f949d-970d-4240-b48a-b98565f45a87"
      },
      "source": [
        "np.mean(arr)"
      ],
      "execution_count": 39,
      "outputs": [
        {
          "output_type": "execute_result",
          "data": {
            "text/plain": [
              "0.506480747970444"
            ]
          },
          "metadata": {
            "tags": []
          },
          "execution_count": 39
        }
      ]
    },
    {
      "cell_type": "code",
      "metadata": {
        "id": "JaDZb7SP4JgR",
        "colab_type": "code",
        "colab": {
          "base_uri": "https://localhost:8080/",
          "height": 34
        },
        "outputId": "32a5781e-d784-4dfd-b7ba-0f693ad1188d"
      },
      "source": [
        "np.median(arr)"
      ],
      "execution_count": 40,
      "outputs": [
        {
          "output_type": "execute_result",
          "data": {
            "text/plain": [
              "0.4998662246893649"
            ]
          },
          "metadata": {
            "tags": []
          },
          "execution_count": 40
        }
      ]
    },
    {
      "cell_type": "code",
      "metadata": {
        "id": "DHa9cMXm4KoX",
        "colab_type": "code",
        "colab": {}
      },
      "source": [
        "arr1 = 2.5 * arr + 0.65"
      ],
      "execution_count": 0,
      "outputs": []
    },
    {
      "cell_type": "code",
      "metadata": {
        "id": "KExr5qaP4Rwc",
        "colab_type": "code",
        "colab": {
          "base_uri": "https://localhost:8080/",
          "height": 34
        },
        "outputId": "eadfbfc7-52b5-4110-a0e0-cb32e10095ff"
      },
      "source": [
        "print(np.mean(arr1), 2.5 * np.mean(arr) + 0.65)"
      ],
      "execution_count": 42,
      "outputs": [
        {
          "output_type": "stream",
          "text": [
            "1.9162018699261096 1.9162018699261099\n"
          ],
          "name": "stdout"
        }
      ]
    },
    {
      "cell_type": "code",
      "metadata": {
        "id": "Fgv1URG14gq-",
        "colab_type": "code",
        "colab": {
          "base_uri": "https://localhost:8080/",
          "height": 34
        },
        "outputId": "6916afb1-c70a-4a2f-aab0-b96c6cda75e1"
      },
      "source": [
        "print(np.median(arr1), 2.5 * np.median(arr) + 0.65)"
      ],
      "execution_count": 43,
      "outputs": [
        {
          "output_type": "stream",
          "text": [
            "1.8996655617234124 1.8996655617234124\n"
          ],
          "name": "stdout"
        }
      ]
    },
    {
      "cell_type": "code",
      "metadata": {
        "id": "7aysd-RS4w6G",
        "colab_type": "code",
        "colab": {
          "base_uri": "https://localhost:8080/",
          "height": 34
        },
        "outputId": "7716af91-0398-4261-d35d-96a2f7d983f4"
      },
      "source": [
        "print(np.var(arr1), 2.5 * np.var(arr) + 0.65)"
      ],
      "execution_count": 44,
      "outputs": [
        {
          "output_type": "stream",
          "text": [
            "0.4773289283579097 0.840931571343164\n"
          ],
          "name": "stdout"
        }
      ]
    },
    {
      "cell_type": "code",
      "metadata": {
        "id": "Tq3EotOk45UL",
        "colab_type": "code",
        "colab": {}
      },
      "source": [
        ""
      ],
      "execution_count": 0,
      "outputs": []
    }
  ]
}