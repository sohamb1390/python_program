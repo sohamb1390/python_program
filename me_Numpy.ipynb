{
  "nbformat": 4,
  "nbformat_minor": 0,
  "metadata": {
    "colab": {
      "name": "me_Numpy.ipynb",
      "provenance": [],
      "collapsed_sections": [
        "I5imKmfQgaIO",
        "0XG7C2LljpiA"
      ],
      "machine_shape": "hm",
      "include_colab_link": true
    },
    "kernelspec": {
      "name": "python3",
      "display_name": "Python 3"
    }
  },
  "cells": [
    {
      "cell_type": "markdown",
      "metadata": {
        "id": "view-in-github",
        "colab_type": "text"
      },
      "source": [
        "<a href=\"https://colab.research.google.com/github/subhajitmajumder/Python_Programming/blob/master/me_Numpy.ipynb\" target=\"_parent\"><img src=\"https://colab.research.google.com/assets/colab-badge.svg\" alt=\"Open In Colab\"/></a>"
      ]
    },
    {
      "cell_type": "markdown",
      "metadata": {
        "id": "GhOOPcKv99tB",
        "colab_type": "text"
      },
      "source": [
        "##Numpy\n",
        "\n",
        "- Numpy is one of the core libraries in the Pydata Ecosystem.\n",
        "- This is mainly a Linear Algebra Library for Data Science.\n",
        "- Almost all the libraries in Pydata Ecosystem are completely relying on Numpy Library.\n",
        "- Numpy is also incredibly fast as it has bindings with C libraries.\n",
        "- Numpy Library is completely depends on mainly two mathematical section i.e. Vectors & Matrices.\n",
        "- Numpy has some great capabilities to provide random numbers.\n",
        "\n",
        "**Installation of Numpy:** pip install Numpy\n",
        "\n"
      ]
    },
    {
      "cell_type": "markdown",
      "metadata": {
        "id": "I5imKmfQgaIO",
        "colab_type": "text"
      },
      "source": [
        "#Basic Numpy"
      ]
    },
    {
      "cell_type": "markdown",
      "metadata": {
        "id": "DvBOyWEgBgJ2",
        "colab_type": "text"
      },
      "source": [
        "###Numpy Arrays"
      ]
    },
    {
      "cell_type": "code",
      "metadata": {
        "id": "2HoElrVD9pmu",
        "colab_type": "code",
        "colab": {}
      },
      "source": [
        "import numpy as np"
      ],
      "execution_count": 0,
      "outputs": []
    },
    {
      "cell_type": "markdown",
      "metadata": {
        "id": "IeKqf8bpCIqs",
        "colab_type": "text"
      },
      "source": [
        "- **Casting a 1D array to numpy.**"
      ]
    },
    {
      "cell_type": "code",
      "metadata": {
        "id": "95unHK9ABzeL",
        "colab_type": "code",
        "colab": {}
      },
      "source": [
        "list_1 = [1, 2, 3]"
      ],
      "execution_count": 0,
      "outputs": []
    },
    {
      "cell_type": "code",
      "metadata": {
        "id": "fC7gJpaBCM1C",
        "colab_type": "code",
        "outputId": "d6f7611a-5bb1-45c9-d7ad-5e769b90addb",
        "colab": {
          "base_uri": "https://localhost:8080/",
          "height": 34
        }
      },
      "source": [
        "print(list_1)"
      ],
      "execution_count": 0,
      "outputs": [
        {
          "output_type": "stream",
          "text": [
            "[1, 2, 3]\n"
          ],
          "name": "stdout"
        }
      ]
    },
    {
      "cell_type": "code",
      "metadata": {
        "id": "GqvFrVohCQQv",
        "colab_type": "code",
        "colab": {}
      },
      "source": [
        "arr = np.array(list_1) #Casting the array list_1 into numpy"
      ],
      "execution_count": 0,
      "outputs": []
    },
    {
      "cell_type": "code",
      "metadata": {
        "id": "NGrkjWVBCaIa",
        "colab_type": "code",
        "outputId": "baf9fc93-78a7-4385-8615-1dc0a7bc025f",
        "colab": {
          "base_uri": "https://localhost:8080/",
          "height": 34
        }
      },
      "source": [
        "arr"
      ],
      "execution_count": 0,
      "outputs": [
        {
          "output_type": "execute_result",
          "data": {
            "text/plain": [
              "array([1, 2, 3])"
            ]
          },
          "metadata": {
            "tags": []
          },
          "execution_count": 5
        }
      ]
    },
    {
      "cell_type": "markdown",
      "metadata": {
        "id": "G3Jr2p9uCzhU",
        "colab_type": "text"
      },
      "source": [
        "- **Casting a list of lists into numpy array.**"
      ]
    },
    {
      "cell_type": "code",
      "metadata": {
        "id": "P9J_ioN3Ccv0",
        "colab_type": "code",
        "colab": {}
      },
      "source": [
        "list_2 = [[1, 2, 3], [4, 5, 6], [7, 8, 9]]"
      ],
      "execution_count": 0,
      "outputs": []
    },
    {
      "cell_type": "code",
      "metadata": {
        "id": "TgCVat8wDOvb",
        "colab_type": "code",
        "outputId": "372cf88f-03b6-4a81-cb41-57470beb50ba",
        "colab": {
          "base_uri": "https://localhost:8080/",
          "height": 68
        }
      },
      "source": [
        "my_mat = np.array(list_2) #Casting a list of lists into numpy array\n",
        "my_mat                    # Returning a 2D matrix."
      ],
      "execution_count": 0,
      "outputs": [
        {
          "output_type": "execute_result",
          "data": {
            "text/plain": [
              "array([[1, 2, 3],\n",
              "       [4, 5, 6],\n",
              "       [7, 8, 9]])"
            ]
          },
          "metadata": {
            "tags": []
          },
          "execution_count": 10
        }
      ]
    },
    {
      "cell_type": "code",
      "metadata": {
        "id": "VZhQSUhmDVgX",
        "colab_type": "code",
        "outputId": "edbb1b8a-48d0-4491-de51-6a4d3d5d6817",
        "colab": {
          "base_uri": "https://localhost:8080/",
          "height": 34
        }
      },
      "source": [
        "# We can create arrays a lot faster by using some numpy methods.\n",
        "\n",
        "np.arange(0, 10) #create a 1D array from 0(starting) to 10(stop except this number)"
      ],
      "execution_count": 0,
      "outputs": [
        {
          "output_type": "execute_result",
          "data": {
            "text/plain": [
              "array([0, 1, 2, 3, 4, 5, 6, 7, 8, 9])"
            ]
          },
          "metadata": {
            "tags": []
          },
          "execution_count": 11
        }
      ]
    },
    {
      "cell_type": "code",
      "metadata": {
        "id": "gVzkMJStFDY1",
        "colab_type": "code",
        "outputId": "1db4c5c8-7769-451f-fa81-dac6a1ad0463",
        "colab": {
          "base_uri": "https://localhost:8080/",
          "height": 34
        }
      },
      "source": [
        "np.arange(0, 10, 2) #Third argument is step size which will provide equal distance numbers."
      ],
      "execution_count": 0,
      "outputs": [
        {
          "output_type": "execute_result",
          "data": {
            "text/plain": [
              "array([0, 2, 4, 6, 8])"
            ]
          },
          "metadata": {
            "tags": []
          },
          "execution_count": 12
        }
      ]
    },
    {
      "cell_type": "code",
      "metadata": {
        "id": "wSTmvYhnFa8A",
        "colab_type": "code",
        "outputId": "8360f81d-e0fa-405d-e15f-1de39b87e2f2",
        "colab": {
          "base_uri": "https://localhost:8080/",
          "height": 34
        }
      },
      "source": [
        "np.zeros(3)   # arrays of all zeros single dimension"
      ],
      "execution_count": 0,
      "outputs": [
        {
          "output_type": "execute_result",
          "data": {
            "text/plain": [
              "array([0., 0., 0.])"
            ]
          },
          "metadata": {
            "tags": []
          },
          "execution_count": 15
        }
      ]
    },
    {
      "cell_type": "code",
      "metadata": {
        "id": "WMQCRatRFpRJ",
        "colab_type": "code",
        "outputId": "cbb9d4cd-6c34-4128-b7b0-3d0ad930d9fc",
        "colab": {
          "base_uri": "https://localhost:8080/",
          "height": 68
        }
      },
      "source": [
        "np.zeros((3, 4))  #Array of all zeros two dimensions using (x, y) tuple"
      ],
      "execution_count": 0,
      "outputs": [
        {
          "output_type": "execute_result",
          "data": {
            "text/plain": [
              "array([[0., 0., 0., 0.],\n",
              "       [0., 0., 0., 0.],\n",
              "       [0., 0., 0., 0.]])"
            ]
          },
          "metadata": {
            "tags": []
          },
          "execution_count": 18
        }
      ]
    },
    {
      "cell_type": "code",
      "metadata": {
        "id": "bOAE2CPxF5kt",
        "colab_type": "code",
        "outputId": "9804746c-312f-425c-e940-2d55222465f6",
        "colab": {
          "base_uri": "https://localhost:8080/",
          "height": 34
        }
      },
      "source": [
        "np.ones(4)   #Array of all ones single dimesion"
      ],
      "execution_count": 0,
      "outputs": [
        {
          "output_type": "execute_result",
          "data": {
            "text/plain": [
              "array([1., 1., 1., 1.])"
            ]
          },
          "metadata": {
            "tags": []
          },
          "execution_count": 20
        }
      ]
    },
    {
      "cell_type": "code",
      "metadata": {
        "id": "_1DeatK2GTOh",
        "colab_type": "code",
        "outputId": "8ba9a78c-57ac-4859-e0f4-24c50f80b971",
        "colab": {
          "base_uri": "https://localhost:8080/",
          "height": 68
        }
      },
      "source": [
        "np.ones((3, 5)) #Array of all ones two dimensions"
      ],
      "execution_count": 0,
      "outputs": [
        {
          "output_type": "execute_result",
          "data": {
            "text/plain": [
              "array([[1., 1., 1., 1., 1.],\n",
              "       [1., 1., 1., 1., 1.],\n",
              "       [1., 1., 1., 1., 1.]])"
            ]
          },
          "metadata": {
            "tags": []
          },
          "execution_count": 21
        }
      ]
    },
    {
      "cell_type": "code",
      "metadata": {
        "id": "pVxrlWazGjA-",
        "colab_type": "code",
        "outputId": "470568c9-1f74-492a-8265-ea651502b4b7",
        "colab": {
          "base_uri": "https://localhost:8080/",
          "height": 51
        }
      },
      "source": [
        "np.linspace(0, 5, 10)  #Returns 10 evenly space points in a single dimension array from 0 to 5"
      ],
      "execution_count": 0,
      "outputs": [
        {
          "output_type": "execute_result",
          "data": {
            "text/plain": [
              "array([0.        , 0.55555556, 1.11111111, 1.66666667, 2.22222222,\n",
              "       2.77777778, 3.33333333, 3.88888889, 4.44444444, 5.        ])"
            ]
          },
          "metadata": {
            "tags": []
          },
          "execution_count": 22
        }
      ]
    },
    {
      "cell_type": "code",
      "metadata": {
        "id": "wAM2DA7zHFb6",
        "colab_type": "code",
        "outputId": "ee467817-2424-415b-fb06-3310d1221c29",
        "colab": {
          "base_uri": "https://localhost:8080/",
          "height": 51
        }
      },
      "source": [
        "np.linspace(0, 10, 10)   #This is a 1D array as the is only one square bracket."
      ],
      "execution_count": 0,
      "outputs": [
        {
          "output_type": "execute_result",
          "data": {
            "text/plain": [
              "array([ 0.        ,  1.11111111,  2.22222222,  3.33333333,  4.44444444,\n",
              "        5.55555556,  6.66666667,  7.77777778,  8.88888889, 10.        ])"
            ]
          },
          "metadata": {
            "tags": []
          },
          "execution_count": 3
        }
      ]
    },
    {
      "cell_type": "markdown",
      "metadata": {
        "id": "xrdFwO5KYr0O",
        "colab_type": "text"
      },
      "source": [
        "####Difference between arange & linspace\n",
        "\n",
        "Linspace use third argument as the number of points you want & arange takes the third argument as the steps size you want"
      ]
    },
    {
      "cell_type": "code",
      "metadata": {
        "id": "Cm_ZB5_8HJgL",
        "colab_type": "code",
        "outputId": "3ec1103d-27a7-4473-d590-1bf32dca82b5",
        "colab": {
          "base_uri": "https://localhost:8080/",
          "height": 85
        }
      },
      "source": [
        "#Identity Matrix in numpy.\n",
        "np.eye(4)"
      ],
      "execution_count": 0,
      "outputs": [
        {
          "output_type": "execute_result",
          "data": {
            "text/plain": [
              "array([[1., 0., 0., 0.],\n",
              "       [0., 1., 0., 0.],\n",
              "       [0., 0., 1., 0.],\n",
              "       [0., 0., 0., 1.]])"
            ]
          },
          "metadata": {
            "tags": []
          },
          "execution_count": 4
        }
      ]
    },
    {
      "cell_type": "code",
      "metadata": {
        "id": "m0cmGmQbZaGk",
        "colab_type": "code",
        "outputId": "7f6c084f-8f3d-4339-c49b-344dac7efe74",
        "colab": {
          "base_uri": "https://localhost:8080/",
          "height": 34
        }
      },
      "source": [
        "#Create arrays of random numbers.\n",
        "np.random.rand(5)  # 1D array of random nnumbers uniformly distributed from 0 to 1"
      ],
      "execution_count": 0,
      "outputs": [
        {
          "output_type": "execute_result",
          "data": {
            "text/plain": [
              "array([0.08267975, 0.6543017 , 0.76694025, 0.64222931, 0.21778136])"
            ]
          },
          "metadata": {
            "tags": []
          },
          "execution_count": 6
        }
      ]
    },
    {
      "cell_type": "code",
      "metadata": {
        "id": "zf-5YHqwaLAh",
        "colab_type": "code",
        "outputId": "ae7f6c04-b737-4b99-c82c-29e1707ef939",
        "colab": {
          "base_uri": "https://localhost:8080/",
          "height": 102
        }
      },
      "source": [
        "np.random.rand(5, 5) #2D arrays of random numbers."
      ],
      "execution_count": 0,
      "outputs": [
        {
          "output_type": "execute_result",
          "data": {
            "text/plain": [
              "array([[0.9667861 , 0.43994733, 0.46975839, 0.85910947, 0.16701383],\n",
              "       [0.5414694 , 0.26605797, 0.61336015, 0.1439269 , 0.27641775],\n",
              "       [0.41689575, 0.60818491, 0.82904518, 0.45343117, 0.43086765],\n",
              "       [0.50480479, 0.20461238, 0.50527354, 0.37025542, 0.400191  ],\n",
              "       [0.73766136, 0.98159623, 0.73004602, 0.75000697, 0.23074204]])"
            ]
          },
          "metadata": {
            "tags": []
          },
          "execution_count": 7
        }
      ]
    },
    {
      "cell_type": "code",
      "metadata": {
        "id": "Y0EAl5r6aeoO",
        "colab_type": "code",
        "outputId": "b3ca8a76-f2c1-456f-b3b7-76deee64a10d",
        "colab": {
          "base_uri": "https://localhost:8080/",
          "height": 34
        }
      },
      "source": [
        "np.random.randn(5) #1D array of random numbers which is normally distributed. "
      ],
      "execution_count": 0,
      "outputs": [
        {
          "output_type": "execute_result",
          "data": {
            "text/plain": [
              "array([-0.57128487, -0.82455379,  0.76084408, -0.49114667,  0.76305192])"
            ]
          },
          "metadata": {
            "tags": []
          },
          "execution_count": 8
        }
      ]
    },
    {
      "cell_type": "code",
      "metadata": {
        "id": "OXie2sGUa6vd",
        "colab_type": "code",
        "outputId": "f69cfb48-5ea9-4718-fb83-e4b4f70a977a",
        "colab": {
          "base_uri": "https://localhost:8080/",
          "height": 85
        }
      },
      "source": [
        "np.random.randn(4, 4) #2D array of random numbers"
      ],
      "execution_count": 0,
      "outputs": [
        {
          "output_type": "execute_result",
          "data": {
            "text/plain": [
              "array([[ 2.82985772,  0.65877148, -0.38462988, -0.28599705],\n",
              "       [-0.24282498, -0.41018641, -1.7133771 ,  1.89856972],\n",
              "       [ 0.1997889 , -1.30459132, -2.42577906, -1.46347931],\n",
              "       [ 1.21139772,  0.26814178,  0.08713465,  1.43461486]])"
            ]
          },
          "metadata": {
            "tags": []
          },
          "execution_count": 10
        }
      ]
    },
    {
      "cell_type": "code",
      "metadata": {
        "id": "WnFf2EZWbE6p",
        "colab_type": "code",
        "outputId": "3002d556-431a-49a6-dc3b-1c1547afbb3b",
        "colab": {
          "base_uri": "https://localhost:8080/",
          "height": 34
        }
      },
      "source": [
        "np.random.randint(1, 100) #print a random integer between lowest number and highest number excluding highest number"
      ],
      "execution_count": 0,
      "outputs": [
        {
          "output_type": "execute_result",
          "data": {
            "text/plain": [
              "25"
            ]
          },
          "metadata": {
            "tags": []
          },
          "execution_count": 12
        }
      ]
    },
    {
      "cell_type": "code",
      "metadata": {
        "id": "Wgok8q-MbZvI",
        "colab_type": "code",
        "outputId": "5f8dedcc-7011-48fc-d2b1-3464dc505093",
        "colab": {
          "base_uri": "https://localhost:8080/",
          "height": 34
        }
      },
      "source": [
        "np.random.randint(1, 100, 10) #Print 10 random integers between lowest and highest number"
      ],
      "execution_count": 0,
      "outputs": [
        {
          "output_type": "execute_result",
          "data": {
            "text/plain": [
              "array([48,  2,  6, 42, 82, 66, 63,  2, 17, 88])"
            ]
          },
          "metadata": {
            "tags": []
          },
          "execution_count": 13
        }
      ]
    },
    {
      "cell_type": "code",
      "metadata": {
        "id": "nLp23qkjb16g",
        "colab_type": "code",
        "outputId": "54ed2373-8991-41ea-ea36-0c5f5c62eaf6",
        "colab": {
          "base_uri": "https://localhost:8080/",
          "height": 136
        }
      },
      "source": [
        "arr_1 = np.arange(25)\n",
        "print(arr_1)\n",
        "arr_1.reshape(5, 5)  #Reshape a 1D array to 2D array."
      ],
      "execution_count": 0,
      "outputs": [
        {
          "output_type": "stream",
          "text": [
            "[ 0  1  2  3  4  5  6  7  8  9 10 11 12 13 14 15 16 17 18 19 20 21 22 23\n",
            " 24]\n"
          ],
          "name": "stdout"
        },
        {
          "output_type": "execute_result",
          "data": {
            "text/plain": [
              "array([[ 0,  1,  2,  3,  4],\n",
              "       [ 5,  6,  7,  8,  9],\n",
              "       [10, 11, 12, 13, 14],\n",
              "       [15, 16, 17, 18, 19],\n",
              "       [20, 21, 22, 23, 24]])"
            ]
          },
          "metadata": {
            "tags": []
          },
          "execution_count": 31
        }
      ]
    },
    {
      "cell_type": "code",
      "metadata": {
        "id": "icmS1DZ1cXMF",
        "colab_type": "code",
        "outputId": "095135ec-4178-40c8-814e-652793c0e36b",
        "colab": {
          "base_uri": "https://localhost:8080/",
          "height": 102
        }
      },
      "source": [
        "#Find maximum,minimum,location of a random group of numbers.\n",
        "\n",
        "rand_arr = np.random.randint(1, 100, 20)\n",
        "print(rand_arr)\n",
        "print(rand_arr.max())  #maximum number of this group of random numbers\n",
        "print(rand_arr.min())  #minimum number of this group of random numbers\n",
        "print(rand_arr.argmax()) #location of maximum number in this group\n",
        "print(rand_arr.argmin()) #location of minimum number in the group"
      ],
      "execution_count": 0,
      "outputs": [
        {
          "output_type": "stream",
          "text": [
            "[22 17 15 22 91 61 54 41 13 52  9 74 21 73 55 76  2 64 25 74]\n",
            "91\n",
            "2\n",
            "4\n",
            "16\n"
          ],
          "name": "stdout"
        }
      ]
    },
    {
      "cell_type": "code",
      "metadata": {
        "id": "tMRvc4NEeG5b",
        "colab_type": "code",
        "outputId": "cb36fee3-342b-4fa7-c410-1112f1f1833d",
        "colab": {
          "base_uri": "https://localhost:8080/",
          "height": 34
        }
      },
      "source": [
        "#Find shape of a vector or a matrix\n",
        "\n",
        "arr_1.shape"
      ],
      "execution_count": 0,
      "outputs": [
        {
          "output_type": "execute_result",
          "data": {
            "text/plain": [
              "(25,)"
            ]
          },
          "metadata": {
            "tags": []
          },
          "execution_count": 41
        }
      ]
    },
    {
      "cell_type": "code",
      "metadata": {
        "id": "uvsjDc7_fcfm",
        "colab_type": "code",
        "outputId": "e7133e73-0e10-4bf2-8643-65c0319a1302",
        "colab": {
          "base_uri": "https://localhost:8080/",
          "height": 119
        }
      },
      "source": [
        "arr_2 = arr_1.reshape(5, 5)\n",
        "print(arr_2)\n",
        "arr_2.shape  #Showing the changed shape of arr_2 from arr_1"
      ],
      "execution_count": 0,
      "outputs": [
        {
          "output_type": "stream",
          "text": [
            "[[ 0  1  2  3  4]\n",
            " [ 5  6  7  8  9]\n",
            " [10 11 12 13 14]\n",
            " [15 16 17 18 19]\n",
            " [20 21 22 23 24]]\n"
          ],
          "name": "stdout"
        },
        {
          "output_type": "execute_result",
          "data": {
            "text/plain": [
              "(5, 5)"
            ]
          },
          "metadata": {
            "tags": []
          },
          "execution_count": 44
        }
      ]
    },
    {
      "cell_type": "code",
      "metadata": {
        "id": "mrJZ9zpvf2i1",
        "colab_type": "code",
        "outputId": "9f903b6e-ccfa-446a-d7f4-1be42da3bd46",
        "colab": {
          "base_uri": "https://localhost:8080/",
          "height": 34
        }
      },
      "source": [
        "# Find the datatype of an array.\n",
        "\n",
        "arr_1.dtype"
      ],
      "execution_count": 0,
      "outputs": [
        {
          "output_type": "execute_result",
          "data": {
            "text/plain": [
              "dtype('int64')"
            ]
          },
          "metadata": {
            "tags": []
          },
          "execution_count": 48
        }
      ]
    },
    {
      "cell_type": "code",
      "metadata": {
        "id": "o-wSUVFQgL-V",
        "colab_type": "code",
        "colab": {}
      },
      "source": [
        ""
      ],
      "execution_count": 0,
      "outputs": []
    },
    {
      "cell_type": "markdown",
      "metadata": {
        "id": "0XG7C2LljpiA",
        "colab_type": "text"
      },
      "source": [
        "#Numpy Indexing & Selection"
      ]
    },
    {
      "cell_type": "code",
      "metadata": {
        "id": "4VjeQk04kJHi",
        "colab_type": "code",
        "colab": {}
      },
      "source": [
        "import numpy as np"
      ],
      "execution_count": 0,
      "outputs": []
    },
    {
      "cell_type": "markdown",
      "metadata": {
        "id": "HeYmek6w1y6D",
        "colab_type": "text"
      },
      "source": [
        "#####Indexing"
      ]
    },
    {
      "cell_type": "code",
      "metadata": {
        "id": "iygEsEhskPjh",
        "colab_type": "code",
        "outputId": "0bf88c12-5b6d-431e-f937-4196adf221ab",
        "colab": {
          "base_uri": "https://localhost:8080/",
          "height": 34
        }
      },
      "source": [
        "arr_2 = np.arange(0, 11)\n",
        "print(arr_2)"
      ],
      "execution_count": 0,
      "outputs": [
        {
          "output_type": "stream",
          "text": [
            "[ 0  1  2  3  4  5  6  7  8  9 10]\n"
          ],
          "name": "stdout"
        }
      ]
    },
    {
      "cell_type": "code",
      "metadata": {
        "id": "-2PFdJoC192w",
        "colab_type": "code",
        "outputId": "6841343b-c81f-4604-e552-3a400ce1ab17",
        "colab": {
          "base_uri": "https://localhost:8080/",
          "height": 34
        }
      },
      "source": [
        "arr_2[7]  # 7th index starting form 0 in the list."
      ],
      "execution_count": 0,
      "outputs": [
        {
          "output_type": "execute_result",
          "data": {
            "text/plain": [
              "7"
            ]
          },
          "metadata": {
            "tags": []
          },
          "execution_count": 53
        }
      ]
    },
    {
      "cell_type": "code",
      "metadata": {
        "id": "NOlfeT2T2XLr",
        "colab_type": "code",
        "outputId": "8e0dec7d-ff88-4647-9d2c-0c0ae585ad7a",
        "colab": {
          "base_uri": "https://localhost:8080/",
          "height": 34
        }
      },
      "source": [
        "arr_2[1:4]  # multiple numbers starting from index 1 to index 4.This method is called slicing"
      ],
      "execution_count": 0,
      "outputs": [
        {
          "output_type": "execute_result",
          "data": {
            "text/plain": [
              "array([1, 2, 3])"
            ]
          },
          "metadata": {
            "tags": []
          },
          "execution_count": 56
        }
      ]
    },
    {
      "cell_type": "code",
      "metadata": {
        "id": "lGgx0hcL2quI",
        "colab_type": "code",
        "outputId": "9cb1a07c-369e-4365-a842-1b5f0252e28e",
        "colab": {
          "base_uri": "https://localhost:8080/",
          "height": 34
        }
      },
      "source": [
        "arr_2[:6] #starting from index 0 upto index 6 like arr_2[0:6]"
      ],
      "execution_count": 0,
      "outputs": [
        {
          "output_type": "execute_result",
          "data": {
            "text/plain": [
              "array([0, 1, 2, 3, 4, 5])"
            ]
          },
          "metadata": {
            "tags": []
          },
          "execution_count": 60
        }
      ]
    },
    {
      "cell_type": "code",
      "metadata": {
        "id": "rst3dEN_3hsM",
        "colab_type": "code",
        "outputId": "38f5c651-e048-41aa-f3ba-09e8036fff55",
        "colab": {
          "base_uri": "https://localhost:8080/",
          "height": 34
        }
      },
      "source": [
        "arr_2[5:]  #Starting from a certain index to the last index like arr_2[5: 11]"
      ],
      "execution_count": 0,
      "outputs": [
        {
          "output_type": "execute_result",
          "data": {
            "text/plain": [
              "array([ 5,  6,  7,  8,  9, 10])"
            ]
          },
          "metadata": {
            "tags": []
          },
          "execution_count": 61
        }
      ]
    },
    {
      "cell_type": "code",
      "metadata": {
        "id": "MuPEmci14XmC",
        "colab_type": "code",
        "outputId": "ba1d477e-b29f-4333-d5de-b4cfc012f93f",
        "colab": {
          "base_uri": "https://localhost:8080/",
          "height": 34
        }
      },
      "source": [
        "#Broadcast or copy a specific number to some certain indexes.\n",
        "\n",
        "arr_2[0: 5] = 100\n",
        "arr_2"
      ],
      "execution_count": 0,
      "outputs": [
        {
          "output_type": "execute_result",
          "data": {
            "text/plain": [
              "array([100, 100, 100, 100, 100,   5,   6,   7,   8,   9,  10])"
            ]
          },
          "metadata": {
            "tags": []
          },
          "execution_count": 63
        }
      ]
    },
    {
      "cell_type": "markdown",
      "metadata": {
        "id": "sQfgNloM7b_e",
        "colab_type": "text"
      },
      "source": [
        "#####Indexing 2D array"
      ]
    },
    {
      "cell_type": "code",
      "metadata": {
        "id": "PVmqzyv645T8",
        "colab_type": "code",
        "outputId": "6f4bd31d-68f8-4033-cc4c-18ab33c3b577",
        "colab": {
          "base_uri": "https://localhost:8080/",
          "height": 68
        }
      },
      "source": [
        " arr_2D = np.array([[0, 1, 2], [3, 4, 5], [6, 7, 8]])\n",
        " arr_2D"
      ],
      "execution_count": 0,
      "outputs": [
        {
          "output_type": "execute_result",
          "data": {
            "text/plain": [
              "array([[0, 1, 2],\n",
              "       [3, 4, 5],\n",
              "       [6, 7, 8]])"
            ]
          },
          "metadata": {
            "tags": []
          },
          "execution_count": 82
        }
      ]
    },
    {
      "cell_type": "code",
      "metadata": {
        "id": "Bfp38YIp-jO8",
        "colab_type": "code",
        "outputId": "5b04e6ba-2a41-42e1-e443-c749f6385dad",
        "colab": {
          "base_uri": "https://localhost:8080/",
          "height": 34
        }
      },
      "source": [
        "#Indexing (first method double bracket).\n",
        "\n",
        "arr_2D[0][1]  #first index for row(starts from 0) and 2nd index for column(starts from 0)"
      ],
      "execution_count": 0,
      "outputs": [
        {
          "output_type": "execute_result",
          "data": {
            "text/plain": [
              "1"
            ]
          },
          "metadata": {
            "tags": []
          },
          "execution_count": 83
        }
      ]
    },
    {
      "cell_type": "markdown",
      "metadata": {
        "id": "3GfnAHJ-DYhD",
        "colab_type": "text"
      },
      "source": [
        "- Get the number 8 from the matrix"
      ]
    },
    {
      "cell_type": "code",
      "metadata": {
        "id": "7ohfX2dLC6rf",
        "colab_type": "code",
        "outputId": "ceb08311-f666-44f4-85db-03995c3bf253",
        "colab": {
          "base_uri": "https://localhost:8080/",
          "height": 34
        }
      },
      "source": [
        "arr_2D[2][2]"
      ],
      "execution_count": 0,
      "outputs": [
        {
          "output_type": "execute_result",
          "data": {
            "text/plain": [
              "8"
            ]
          },
          "metadata": {
            "tags": []
          },
          "execution_count": 84
        }
      ]
    },
    {
      "cell_type": "markdown",
      "metadata": {
        "id": "OAgd9xAnDxWu",
        "colab_type": "text"
      },
      "source": [
        "- Get the entire row of a certain index "
      ]
    },
    {
      "cell_type": "code",
      "metadata": {
        "id": "lHPAIxa4DRyY",
        "colab_type": "code",
        "outputId": "a3f2c887-a93a-44f1-92b3-1f58cbe00c14",
        "colab": {
          "base_uri": "https://localhost:8080/",
          "height": 34
        }
      },
      "source": [
        "arr_2D[0]"
      ],
      "execution_count": 0,
      "outputs": [
        {
          "output_type": "execute_result",
          "data": {
            "text/plain": [
              "array([0, 1, 2])"
            ]
          },
          "metadata": {
            "tags": []
          },
          "execution_count": 85
        }
      ]
    },
    {
      "cell_type": "code",
      "metadata": {
        "id": "N2oX_vJKD_d4",
        "colab_type": "code",
        "outputId": "64e62b79-c572-4114-e17a-5d927ae09bfd",
        "colab": {
          "base_uri": "https://localhost:8080/",
          "height": 34
        }
      },
      "source": [
        "#Indexing (second method & best method single bracket comma)\n",
        "\n",
        "arr_2D[2, 2]"
      ],
      "execution_count": 0,
      "outputs": [
        {
          "output_type": "execute_result",
          "data": {
            "text/plain": [
              "8"
            ]
          },
          "metadata": {
            "tags": []
          },
          "execution_count": 87
        }
      ]
    },
    {
      "cell_type": "markdown",
      "metadata": {
        "id": "ABQ1f1-HGnqu",
        "colab_type": "text"
      },
      "source": [
        "- Grab certain matrices from this matrix"
      ]
    },
    {
      "cell_type": "code",
      "metadata": {
        "id": "HZ6rPMxNFOGC",
        "colab_type": "code",
        "outputId": "efe8756c-915f-458d-ecc6-973b88d0b113",
        "colab": {
          "base_uri": "https://localhost:8080/",
          "height": 136
        }
      },
      "source": [
        "#Get top right corner of the matrix arr_2D\n",
        "\n",
        "print(arr_2D)\n",
        "print(\"\\n\")\n",
        "arr_2D[:2, 1:] #Grab everything from row 0 and 1 (2 excluded) & everything from column 1 "
      ],
      "execution_count": 0,
      "outputs": [
        {
          "output_type": "stream",
          "text": [
            "[[0 1 2]\n",
            " [3 4 5]\n",
            " [6 7 8]]\n",
            "\n",
            "\n"
          ],
          "name": "stdout"
        },
        {
          "output_type": "execute_result",
          "data": {
            "text/plain": [
              "array([[1, 2],\n",
              "       [4, 5]])"
            ]
          },
          "metadata": {
            "tags": []
          },
          "execution_count": 92
        }
      ]
    },
    {
      "cell_type": "code",
      "metadata": {
        "id": "8Gq4jsAOHBra",
        "colab_type": "code",
        "outputId": "6c2b6072-c9b9-4151-a92a-81a038f3a296",
        "colab": {
          "base_uri": "https://localhost:8080/",
          "height": 136
        }
      },
      "source": [
        "#Grab bottom rows at a whole.\n",
        "\n",
        "print(arr_2D)\n",
        "print(\"\\n\")\n",
        "arr_2D[1:]"
      ],
      "execution_count": 0,
      "outputs": [
        {
          "output_type": "stream",
          "text": [
            "[[0 1 2]\n",
            " [3 4 5]\n",
            " [6 7 8]]\n",
            "\n",
            "\n"
          ],
          "name": "stdout"
        },
        {
          "output_type": "execute_result",
          "data": {
            "text/plain": [
              "array([[3, 4, 5],\n",
              "       [6, 7, 8]])"
            ]
          },
          "metadata": {
            "tags": []
          },
          "execution_count": 94
        }
      ]
    },
    {
      "cell_type": "markdown",
      "metadata": {
        "id": "u1eO3PnAJKcz",
        "colab_type": "text"
      },
      "source": [
        "- Conditional Selection"
      ]
    },
    {
      "cell_type": "code",
      "metadata": {
        "id": "kIQzDoXHIoVt",
        "colab_type": "code",
        "outputId": "860bf523-070f-4970-8219-fb998cf9dbba",
        "colab": {
          "base_uri": "https://localhost:8080/",
          "height": 34
        }
      },
      "source": [
        "arr_1 = np.arange(0, 11)\n",
        "arr_1"
      ],
      "execution_count": 0,
      "outputs": [
        {
          "output_type": "execute_result",
          "data": {
            "text/plain": [
              "array([ 0,  1,  2,  3,  4,  5,  6,  7,  8,  9, 10])"
            ]
          },
          "metadata": {
            "tags": []
          },
          "execution_count": 96
        }
      ]
    },
    {
      "cell_type": "code",
      "metadata": {
        "id": "GS3fyHNIJigG",
        "colab_type": "code",
        "colab": {}
      },
      "source": [
        "bool_arr = arr_1 > 5   #Get boolean return for this condition"
      ],
      "execution_count": 0,
      "outputs": []
    },
    {
      "cell_type": "code",
      "metadata": {
        "id": "5jPyrWGHJlx3",
        "colab_type": "code",
        "outputId": "3f21bea6-2846-49dd-fd42-aa7678d84e69",
        "colab": {
          "base_uri": "https://localhost:8080/",
          "height": 34
        }
      },
      "source": [
        "arr_1[bool_arr]  #Only returns the True values in this array"
      ],
      "execution_count": 0,
      "outputs": [
        {
          "output_type": "execute_result",
          "data": {
            "text/plain": [
              "array([ 6,  7,  8,  9, 10])"
            ]
          },
          "metadata": {
            "tags": []
          },
          "execution_count": 104
        }
      ]
    },
    {
      "cell_type": "markdown",
      "metadata": {
        "id": "TynrNM4iMCqA",
        "colab_type": "text"
      },
      "source": [
        "- Conditional selection with syntax notation"
      ]
    },
    {
      "cell_type": "code",
      "metadata": {
        "id": "MmIBDXPtKAlb",
        "colab_type": "code",
        "outputId": "e3972513-7950-4080-e6bd-4638dd5dc4af",
        "colab": {
          "base_uri": "https://localhost:8080/",
          "height": 34
        }
      },
      "source": [
        "arr_1[arr_1 > 5]  #Return same value as above using syntax notation"
      ],
      "execution_count": 0,
      "outputs": [
        {
          "output_type": "execute_result",
          "data": {
            "text/plain": [
              "array([ 6,  7,  8,  9, 10])"
            ]
          },
          "metadata": {
            "tags": []
          },
          "execution_count": 106
        }
      ]
    },
    {
      "cell_type": "markdown",
      "metadata": {
        "id": "nqI2bGfXMqdN",
        "colab_type": "text"
      },
      "source": [
        "- Use multiple functions in a same line"
      ]
    },
    {
      "cell_type": "code",
      "metadata": {
        "id": "8zBnvMQiMJu5",
        "colab_type": "code",
        "outputId": "cbaa0ff5-655c-4aa9-edf0-8a91ef703e5d",
        "colab": {
          "base_uri": "https://localhost:8080/",
          "height": 102
        }
      },
      "source": [
        "arr_2d = np.arange(0, 50).reshape(5, 10)  #.arange takes numbers from 0 to 50 and .reshape creates it in 2D array\n",
        "arr_2d"
      ],
      "execution_count": 0,
      "outputs": [
        {
          "output_type": "execute_result",
          "data": {
            "text/plain": [
              "array([[ 0,  1,  2,  3,  4,  5,  6,  7,  8,  9],\n",
              "       [10, 11, 12, 13, 14, 15, 16, 17, 18, 19],\n",
              "       [20, 21, 22, 23, 24, 25, 26, 27, 28, 29],\n",
              "       [30, 31, 32, 33, 34, 35, 36, 37, 38, 39],\n",
              "       [40, 41, 42, 43, 44, 45, 46, 47, 48, 49]])"
            ]
          },
          "metadata": {
            "tags": []
          },
          "execution_count": 111
        }
      ]
    },
    {
      "cell_type": "code",
      "metadata": {
        "id": "L0DQlIxSM9lY",
        "colab_type": "code",
        "outputId": "140ddbc9-22b2-4aa8-b799-14b2f90549e4",
        "colab": {
          "base_uri": "https://localhost:8080/",
          "height": 51
        }
      },
      "source": [
        "# Grab [[13, 14], [23, 24]] from the 2D array\n",
        "\n",
        "arr_2d[1:3, 3:5]"
      ],
      "execution_count": 0,
      "outputs": [
        {
          "output_type": "execute_result",
          "data": {
            "text/plain": [
              "array([[13, 14],\n",
              "       [23, 24]])"
            ]
          },
          "metadata": {
            "tags": []
          },
          "execution_count": 112
        }
      ]
    },
    {
      "cell_type": "markdown",
      "metadata": {
        "id": "3JSv0KB_OOAm",
        "colab_type": "text"
      },
      "source": [
        "#Numpy Operations"
      ]
    },
    {
      "cell_type": "code",
      "metadata": {
        "id": "SUcblG6rN29j",
        "colab_type": "code",
        "colab": {}
      },
      "source": [
        "import numpy as np"
      ],
      "execution_count": 0,
      "outputs": []
    },
    {
      "cell_type": "markdown",
      "metadata": {
        "id": "3gRPvKMsOxPu",
        "colab_type": "text"
      },
      "source": [
        "- **Array with array**"
      ]
    },
    {
      "cell_type": "code",
      "metadata": {
        "id": "MGWSnDj7ObMR",
        "colab_type": "code",
        "outputId": "8702b0b1-ad3c-40c3-dcf2-33607af71e97",
        "colab": {
          "base_uri": "https://localhost:8080/",
          "height": 34
        }
      },
      "source": [
        "arr = np.arange(0, 11)\n",
        "arr"
      ],
      "execution_count": 2,
      "outputs": [
        {
          "output_type": "execute_result",
          "data": {
            "text/plain": [
              "array([ 0,  1,  2,  3,  4,  5,  6,  7,  8,  9, 10])"
            ]
          },
          "metadata": {
            "tags": []
          },
          "execution_count": 2
        }
      ]
    },
    {
      "cell_type": "code",
      "metadata": {
        "id": "JQzAba0JO8Sv",
        "colab_type": "code",
        "outputId": "f5658521-261b-4a94-d4b1-e38a37940dc4",
        "colab": {
          "base_uri": "https://localhost:8080/",
          "height": 34
        }
      },
      "source": [
        "arr + arr  #Adding the array with the same array"
      ],
      "execution_count": 0,
      "outputs": [
        {
          "output_type": "execute_result",
          "data": {
            "text/plain": [
              "array([ 0,  2,  4,  6,  8, 10, 12, 14, 16, 18, 20])"
            ]
          },
          "metadata": {
            "tags": []
          },
          "execution_count": 116
        }
      ]
    },
    {
      "cell_type": "code",
      "metadata": {
        "id": "ZtQa4OncPA56",
        "colab_type": "code",
        "outputId": "a46e9701-ed5b-4a05-d2aa-3b4c18473411",
        "colab": {
          "base_uri": "https://localhost:8080/",
          "height": 34
        }
      },
      "source": [
        "arr - arr"
      ],
      "execution_count": 0,
      "outputs": [
        {
          "output_type": "execute_result",
          "data": {
            "text/plain": [
              "array([0, 0, 0, 0, 0, 0, 0, 0, 0, 0, 0])"
            ]
          },
          "metadata": {
            "tags": []
          },
          "execution_count": 117
        }
      ]
    },
    {
      "cell_type": "code",
      "metadata": {
        "id": "bkYgOM22PQSQ",
        "colab_type": "code",
        "outputId": "6d75be73-3d05-44f2-d179-8fcfbc2f267a",
        "colab": {
          "base_uri": "https://localhost:8080/",
          "height": 34
        }
      },
      "source": [
        "arr * arr"
      ],
      "execution_count": 0,
      "outputs": [
        {
          "output_type": "execute_result",
          "data": {
            "text/plain": [
              "array([  0,   1,   4,   9,  16,  25,  36,  49,  64,  81, 100])"
            ]
          },
          "metadata": {
            "tags": []
          },
          "execution_count": 118
        }
      ]
    },
    {
      "cell_type": "markdown",
      "metadata": {
        "id": "JeE06LRpPm1G",
        "colab_type": "text"
      },
      "source": [
        "- **Array with Scalar**"
      ]
    },
    {
      "cell_type": "code",
      "metadata": {
        "id": "rbr7KZ4zPR5Z",
        "colab_type": "code",
        "outputId": "452338cb-7209-4ac3-e33b-a2daaa981a4b",
        "colab": {
          "base_uri": "https://localhost:8080/",
          "height": 34
        }
      },
      "source": [
        "arr + 100 #Can add a scalar value with the array"
      ],
      "execution_count": 0,
      "outputs": [
        {
          "output_type": "execute_result",
          "data": {
            "text/plain": [
              "array([100, 101, 102, 103, 104, 105, 106, 107, 108, 109, 110])"
            ]
          },
          "metadata": {
            "tags": []
          },
          "execution_count": 119
        }
      ]
    },
    {
      "cell_type": "code",
      "metadata": {
        "id": "gLQ9GCV2PbXq",
        "colab_type": "code",
        "outputId": "4b09ffbd-af33-40f8-89b2-f13cdb3fba5d",
        "colab": {
          "base_uri": "https://localhost:8080/",
          "height": 34
        }
      },
      "source": [
        "arr * 100"
      ],
      "execution_count": 0,
      "outputs": [
        {
          "output_type": "execute_result",
          "data": {
            "text/plain": [
              "array([   0,  100,  200,  300,  400,  500,  600,  700,  800,  900, 1000])"
            ]
          },
          "metadata": {
            "tags": []
          },
          "execution_count": 120
        }
      ]
    },
    {
      "cell_type": "code",
      "metadata": {
        "id": "P1Kx2ivkPfnA",
        "colab_type": "code",
        "outputId": "3bbb3c1b-f5f8-4538-c659-382104996d76",
        "colab": {
          "base_uri": "https://localhost:8080/",
          "height": 34
        }
      },
      "source": [
        "arr - 100"
      ],
      "execution_count": 0,
      "outputs": [
        {
          "output_type": "execute_result",
          "data": {
            "text/plain": [
              "array([-100,  -99,  -98,  -97,  -96,  -95,  -94,  -93,  -92,  -91,  -90])"
            ]
          },
          "metadata": {
            "tags": []
          },
          "execution_count": 121
        }
      ]
    },
    {
      "cell_type": "markdown",
      "metadata": {
        "id": "2QzX-VkBQaLC",
        "colab_type": "text"
      },
      "source": [
        "- **Universal Array Functions**"
      ]
    },
    {
      "cell_type": "code",
      "metadata": {
        "id": "QlabUaMsPtY5",
        "colab_type": "code",
        "outputId": "c6ce4a69-7158-45f5-e34a-fec60deeaf2a",
        "colab": {
          "base_uri": "https://localhost:8080/",
          "height": 68
        }
      },
      "source": [
        "np.sqrt(arr)  #Square root"
      ],
      "execution_count": 0,
      "outputs": [
        {
          "output_type": "execute_result",
          "data": {
            "text/plain": [
              "array([0.        , 1.        , 1.41421356, 1.73205081, 2.        ,\n",
              "       2.23606798, 2.44948974, 2.64575131, 2.82842712, 3.        ,\n",
              "       3.16227766])"
            ]
          },
          "metadata": {
            "tags": []
          },
          "execution_count": 124
        }
      ]
    },
    {
      "cell_type": "code",
      "metadata": {
        "id": "zF23Jdj2QpQQ",
        "colab_type": "code",
        "outputId": "45ea50bc-5190-462c-ebf8-41a11de7696f",
        "colab": {
          "base_uri": "https://localhost:8080/",
          "height": 68
        }
      },
      "source": [
        "np.exp(arr) #Exponent"
      ],
      "execution_count": 0,
      "outputs": [
        {
          "output_type": "execute_result",
          "data": {
            "text/plain": [
              "array([1.00000000e+00, 2.71828183e+00, 7.38905610e+00, 2.00855369e+01,\n",
              "       5.45981500e+01, 1.48413159e+02, 4.03428793e+02, 1.09663316e+03,\n",
              "       2.98095799e+03, 8.10308393e+03, 2.20264658e+04])"
            ]
          },
          "metadata": {
            "tags": []
          },
          "execution_count": 123
        }
      ]
    },
    {
      "cell_type": "code",
      "metadata": {
        "id": "so0al02bQsXb",
        "colab_type": "code",
        "outputId": "98bc7b54-e4ea-46c9-ff57-57469c9e2b1d",
        "colab": {
          "base_uri": "https://localhost:8080/",
          "height": 34
        }
      },
      "source": [
        "np.max(arr)  # Max"
      ],
      "execution_count": 0,
      "outputs": [
        {
          "output_type": "execute_result",
          "data": {
            "text/plain": [
              "10"
            ]
          },
          "metadata": {
            "tags": []
          },
          "execution_count": 125
        }
      ]
    },
    {
      "cell_type": "code",
      "metadata": {
        "id": "7vQrYyFSQ1hL",
        "colab_type": "code",
        "outputId": "9cac7650-c2fc-4bf1-9117-3cbe1436ebaf",
        "colab": {
          "base_uri": "https://localhost:8080/",
          "height": 68
        }
      },
      "source": [
        "np.sin(arr) #Sin values"
      ],
      "execution_count": 0,
      "outputs": [
        {
          "output_type": "execute_result",
          "data": {
            "text/plain": [
              "array([ 0.        ,  0.84147098,  0.90929743,  0.14112001, -0.7568025 ,\n",
              "       -0.95892427, -0.2794155 ,  0.6569866 ,  0.98935825,  0.41211849,\n",
              "       -0.54402111])"
            ]
          },
          "metadata": {
            "tags": []
          },
          "execution_count": 126
        }
      ]
    },
    {
      "cell_type": "code",
      "metadata": {
        "id": "qPAXB58uQ5W_",
        "colab_type": "code",
        "outputId": "a6815408-38d3-4ebe-efb5-273d8eca7211",
        "colab": {
          "base_uri": "https://localhost:8080/",
          "height": 102
        }
      },
      "source": [
        "np.log(arr)  #As log 0 is negative undefined so there is a warning."
      ],
      "execution_count": 0,
      "outputs": [
        {
          "output_type": "stream",
          "text": [
            "/usr/local/lib/python3.6/dist-packages/ipykernel_launcher.py:1: RuntimeWarning: divide by zero encountered in log\n",
            "  \"\"\"Entry point for launching an IPython kernel.\n"
          ],
          "name": "stderr"
        },
        {
          "output_type": "execute_result",
          "data": {
            "text/plain": [
              "array([      -inf, 0.        , 0.69314718, 1.09861229, 1.38629436,\n",
              "       1.60943791, 1.79175947, 1.94591015, 2.07944154, 2.19722458,\n",
              "       2.30258509])"
            ]
          },
          "metadata": {
            "tags": []
          },
          "execution_count": 127
        }
      ]
    },
    {
      "cell_type": "markdown",
      "metadata": {
        "id": "1NLQ-ThlTIN2",
        "colab_type": "text"
      },
      "source": [
        "- Check all the detailed references at the link below.\n",
        "\n",
        "https://docs.scipy.org/doc/numpy/reference/ufuncs.html"
      ]
    },
    {
      "cell_type": "code",
      "metadata": {
        "id": "ZwyA7-N4Q7qu",
        "colab_type": "code",
        "colab": {
          "base_uri": "https://localhost:8080/",
          "height": 68
        },
        "outputId": "ec5d0d75-2bc9-40b5-935a-7d712047ad83"
      },
      "source": [
        "np.tan(arr)"
      ],
      "execution_count": 3,
      "outputs": [
        {
          "output_type": "execute_result",
          "data": {
            "text/plain": [
              "array([ 0.        ,  1.55740772, -2.18503986, -0.14254654,  1.15782128,\n",
              "       -3.38051501, -0.29100619,  0.87144798, -6.79971146, -0.45231566,\n",
              "        0.64836083])"
            ]
          },
          "metadata": {
            "tags": []
          },
          "execution_count": 3
        }
      ]
    },
    {
      "cell_type": "code",
      "metadata": {
        "id": "VJ6aV0FaRhgx",
        "colab_type": "code",
        "colab": {}
      },
      "source": [
        ""
      ],
      "execution_count": 0,
      "outputs": []
    }
  ]
}